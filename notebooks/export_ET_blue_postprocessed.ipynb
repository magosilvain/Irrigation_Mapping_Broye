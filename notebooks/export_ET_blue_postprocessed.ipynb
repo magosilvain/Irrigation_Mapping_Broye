{
 "cells": [
  {
   "cell_type": "code",
   "execution_count": 1,
   "metadata": {},
   "outputs": [],
   "source": [
    "import sys\n",
    "from pathlib import Path\n",
    "sys.path.append(str(Path().absolute().parent))"
   ]
  },
  {
   "cell_type": "code",
   "execution_count": 3,
   "metadata": {},
   "outputs": [
    {
     "data": {
      "text/html": [
       "\n",
       "            <style>\n",
       "                .geemap-dark {\n",
       "                    --jp-widgets-color: white;\n",
       "                    --jp-widgets-label-color: white;\n",
       "                    --jp-ui-font-color1: white;\n",
       "                    --jp-layout-color2: #454545;\n",
       "                    background-color: #383838;\n",
       "                }\n",
       "\n",
       "                .geemap-dark .jupyter-button {\n",
       "                    --jp-layout-color3: #383838;\n",
       "                }\n",
       "\n",
       "                .geemap-colab {\n",
       "                    background-color: var(--colab-primary-surface-color, white);\n",
       "                }\n",
       "\n",
       "                .geemap-colab .jupyter-button {\n",
       "                    --jp-layout-color3: var(--colab-primary-surface-color, white);\n",
       "                }\n",
       "            </style>\n",
       "            "
      ],
      "text/plain": [
       "<IPython.core.display.HTML object>"
      ]
     },
     "metadata": {},
     "output_type": "display_data"
    },
    {
     "name": "stderr",
     "output_type": "stream",
     "text": [
      "*** Earth Engine *** Share your feedback by taking our Annual Developer Satisfaction Survey: https://google.qualtrics.com/jfe/form/SV_0JLhFqfSY1uiEaW?source=Init\n"
     ]
    }
   ],
   "source": [
    "import ee \n",
    "import geemap\n",
    "\n",
    "ee.Initialize(project=\"ee-india-reservoirs\")"
   ]
  },
  {
   "cell_type": "code",
   "execution_count": 4,
   "metadata": {},
   "outputs": [
    {
     "data": {
      "text/html": [
       "\n",
       "            <style>\n",
       "                .geemap-dark {\n",
       "                    --jp-widgets-color: white;\n",
       "                    --jp-widgets-label-color: white;\n",
       "                    --jp-ui-font-color1: white;\n",
       "                    --jp-layout-color2: #454545;\n",
       "                    background-color: #383838;\n",
       "                }\n",
       "\n",
       "                .geemap-dark .jupyter-button {\n",
       "                    --jp-layout-color3: #383838;\n",
       "                }\n",
       "\n",
       "                .geemap-colab {\n",
       "                    background-color: var(--colab-primary-surface-color, white);\n",
       "                }\n",
       "\n",
       "                .geemap-colab .jupyter-button {\n",
       "                    --jp-layout-color3: var(--colab-primary-surface-color, white);\n",
       "                }\n",
       "            </style>\n",
       "            "
      ],
      "text/plain": [
       "<IPython.core.display.HTML object>"
      ]
     },
     "metadata": {},
     "output_type": "display_data"
    }
   ],
   "source": [
    "from src.et_blue.exporting_utils import postprocess_et_blue_raw, process_et_blue_raw\n",
    "from src.et_blue.compute_et_blue import compute_et_blue, compute_volumetric_et_blue, postprocess_et_blue\n",
    "\n",
    "from src.et_green.compute_et_green import calculate_band_std_dev\n",
    "\n",
    "from utils.ee_utils import (\n",
    "    back_to_float,\n",
    "    back_to_int,\n",
    "    export_image_to_asset,\n",
    "    print_value_ranges,\n",
    ")\n",
    "\n",
    "from utils.date_utils import print_collection_dates"
   ]
  },
  {
   "cell_type": "markdown",
   "metadata": {
    "vscode": {
     "languageId": "plaintext"
    }
   },
   "source": [
    "---"
   ]
  },
  {
   "cell_type": "markdown",
   "metadata": {},
   "source": [
    "## Constants"
   ]
  },
  {
   "cell_type": "code",
   "execution_count": 5,
   "metadata": {},
   "outputs": [
    {
     "data": {
      "text/html": [
       "\n",
       "            <style>\n",
       "                .geemap-dark {\n",
       "                    --jp-widgets-color: white;\n",
       "                    --jp-widgets-label-color: white;\n",
       "                    --jp-ui-font-color1: white;\n",
       "                    --jp-layout-color2: #454545;\n",
       "                    background-color: #383838;\n",
       "                }\n",
       "\n",
       "                .geemap-dark .jupyter-button {\n",
       "                    --jp-layout-color3: #383838;\n",
       "                }\n",
       "\n",
       "                .geemap-colab {\n",
       "                    background-color: var(--colab-primary-surface-color, white);\n",
       "                }\n",
       "\n",
       "                .geemap-colab .jupyter-button {\n",
       "                    --jp-layout-color3: var(--colab-primary-surface-color, white);\n",
       "                }\n",
       "            </style>\n",
       "            "
      ],
      "text/plain": [
       "<IPython.core.display.HTML object>"
      ]
     },
     "metadata": {},
     "output_type": "display_data"
    },
    {
     "name": "stdout",
     "output_type": "stream",
     "text": [
      "projects/thurgau-irrigation/assets/FribourgAndVaud/ET_blue_postprocessed/ET_blue_postprocessed_dekadal_from_Landsat_30m_v2\n"
     ]
    }
   ],
   "source": [
    "YEAR = 2019\n",
    "\n",
    "PATH_TO_AOI = \"projects/thurgau-irrigation/assets/FribourgAndVaud/broye_bounding_box\"\n",
    "# PATH_TO_ET_GREEN = f\"projects/thurgau-irrigation/assets/FribourgAndVaud/ET_green/ET_green_dekadal_from_Landsat_30m_v2\"\n",
    "TEMPORAL_RESOLUTION = \"dekadal\"\n",
    "ET_PRODUCT = \"Landsat_30m\"\n",
    "# ET_PRODUCT = \"WaPOR_10m\"\n",
    "\n",
    "PATH_TO_ET_GREEN = f\"projects/thurgau-irrigation/assets/FribourgAndVaud/ET_green/ET_green_{TEMPORAL_RESOLUTION}_from_{ET_PRODUCT}_v2\"\n",
    "\n",
    "PATH_TO_ET_PRODUCT = (f\"projects/thurgau-irrigation/assets/FribourgAndVaud/ET_products/decadal_Landsat_10m\")\n",
    "# PATH_TO_ET_PRODUCT = f\"projects/thurgau-irrigation/assets/FribourgAndVaud/ET_products/WaPOR_10m_{YEAR}\"\n",
    "\n",
    "#Landsat\n",
    "ET_GREEN_BAND_NAME = \"ET_green\"\n",
    "ET_BAND_NAME = \"ET\"\n",
    "SCALING_FACTOR = 100\n",
    "DYNAMIC = True\n",
    "SCALING_FACTOR_PROPERTY_NAME = \"days\" if DYNAMIC else None\n",
    "NUMBER_OF_IMAGES = 21\n",
    "EXPORT_IMAGE_RESOLUTION = 30  # in meters\n",
    "\n",
    "# ##Wapor\n",
    "# ET_BAND_NAME =\"downscaled\"\n",
    "# SCALING_FACTOR = 100  # scaling factor for the ET band to convert it back to float\n",
    "# DYNAMIC = False #True #False, for wapor\n",
    "# SCALING_FACTOR_PROPERTY_NAME = \"days\" if DYNAMIC else None\n",
    "# ET_BAND_RESOLUTION = 10  # 30# in meters\n",
    "# NUMBER_OF_IMAGES = 21\n",
    "# EXPORT_IMAGE_RESOLUTION = 10  # in meters\n",
    "\n",
    "ET_BLUE_POSTPROCESSED_PATH = f\"projects/thurgau-irrigation/assets/FribourgAndVaud/ET_blue_postprocessed/ET_blue_postprocessed_{TEMPORAL_RESOLUTION}_from_{ET_PRODUCT}_v2\"\n",
    "\n",
    "print(ET_BLUE_POSTPROCESSED_PATH)\n"
   ]
  },
  {
   "cell_type": "markdown",
   "metadata": {},
   "source": [
    "## 1. Load assets"
   ]
  },
  {
   "cell_type": "code",
   "execution_count": 6,
   "metadata": {},
   "outputs": [
    {
     "data": {
      "text/html": [
       "\n",
       "            <style>\n",
       "                .geemap-dark {\n",
       "                    --jp-widgets-color: white;\n",
       "                    --jp-widgets-label-color: white;\n",
       "                    --jp-ui-font-color1: white;\n",
       "                    --jp-layout-color2: #454545;\n",
       "                    background-color: #383838;\n",
       "                }\n",
       "\n",
       "                .geemap-dark .jupyter-button {\n",
       "                    --jp-layout-color3: #383838;\n",
       "                }\n",
       "\n",
       "                .geemap-colab {\n",
       "                    background-color: var(--colab-primary-surface-color, white);\n",
       "                }\n",
       "\n",
       "                .geemap-colab .jupyter-button {\n",
       "                    --jp-layout-color3: var(--colab-primary-surface-color, white);\n",
       "                }\n",
       "            </style>\n",
       "            "
      ],
      "text/plain": [
       "<IPython.core.display.HTML object>"
      ]
     },
     "metadata": {},
     "output_type": "display_data"
    }
   ],
   "source": [
    "aoi = ee.FeatureCollection(PATH_TO_AOI).geometry().simplify(500).buffer(100)"
   ]
  },
  {
   "cell_type": "code",
   "execution_count": 7,
   "metadata": {},
   "outputs": [
    {
     "data": {
      "text/html": [
       "\n",
       "            <style>\n",
       "                .geemap-dark {\n",
       "                    --jp-widgets-color: white;\n",
       "                    --jp-widgets-label-color: white;\n",
       "                    --jp-ui-font-color1: white;\n",
       "                    --jp-layout-color2: #454545;\n",
       "                    background-color: #383838;\n",
       "                }\n",
       "\n",
       "                .geemap-dark .jupyter-button {\n",
       "                    --jp-layout-color3: #383838;\n",
       "                }\n",
       "\n",
       "                .geemap-colab {\n",
       "                    background-color: var(--colab-primary-surface-color, white);\n",
       "                }\n",
       "\n",
       "                .geemap-colab .jupyter-button {\n",
       "                    --jp-layout-color3: var(--colab-primary-surface-color, white);\n",
       "                }\n",
       "            </style>\n",
       "            "
      ],
      "text/plain": [
       "<IPython.core.display.HTML object>"
      ]
     },
     "metadata": {},
     "output_type": "display_data"
    },
    {
     "name": "stdout",
     "output_type": "stream",
     "text": [
      "Dates of images in the collection:\n",
      "2019-04-01\n",
      "2019-04-11\n",
      "2019-04-21\n",
      "2019-05-01\n",
      "2019-05-11\n",
      "2019-05-21\n",
      "2019-06-01\n",
      "2019-06-11\n",
      "2019-06-21\n",
      "2019-07-01\n",
      "2019-07-11\n",
      "2019-07-21\n",
      "2019-08-01\n",
      "2019-08-11\n",
      "2019-08-21\n",
      "2019-09-01\n",
      "2019-09-11\n",
      "2019-09-21\n",
      "2019-10-01\n",
      "2019-10-11\n",
      "2019-10-21\n",
      "{'type': 'Image', 'bands': [{'id': 'ET_green', 'data_type': {'type': 'PixelType', 'precision': 'float'}, 'dimensions': [930, 808], 'crs': 'EPSG:4326', 'crs_transform': [0.00026949458523585647, 0, 6.742754522601129, 0, -0.00026949458523585647, 46.89690873357327]}, {'id': 'ET_green_std', 'data_type': {'type': 'PixelType', 'precision': 'float'}, 'dimensions': [930, 808], 'crs': 'EPSG:4326', 'crs_transform': [0.00026949458523585647, 0, 6.742754522601129, 0, -0.00026949458523585647, 46.89690873357327]}], 'properties': {'system:time_start': 1554076800000, 'system:footprint': {'type': 'LinearRing', 'coordinates': [[6.742840057232417, 46.679024024339206], [6.742889625316077, 46.679021913253315], [6.868069477481089, 46.679021903923434], [6.993249456148091, 46.67902188670316], [6.9934309890054625, 46.679131526520244], [6.993630903363245, 46.67922486315247], [6.993643191711947, 46.679269125531064], [6.993644857864228, 46.89677400656246], [6.99348432158734, 46.8968983443086], [6.993348045768766, 46.897035474338296], [6.993283046434918, 46.89704391376309], [6.868069474556865, 46.89704398200757], [6.742888961939994, 46.8970439534848], [6.742707147834236, 46.89693418183033], [6.74250657592446, 46.896840978074266], [6.742494185544892, 46.89679651374745], [6.74249575770944, 46.67929184083606], [6.742655765939614, 46.67916738257055], [6.742791993542663, 46.67903026533817], [6.742840057232417, 46.679024024339206]]}, 'system:index': 'ET_green_dekadal_2019_04_D1'}}\n"
     ]
    }
   ],
   "source": [
    "et_green_collection = (\n",
    "    ee.ImageCollection(PATH_TO_ET_GREEN)\n",
    "    # .filterBounds(aoi)\n",
    "    .filterDate(f\"{YEAR}-04-01\", f\"{YEAR}-10-31\")\n",
    "    .map(lambda img: back_to_float(img, SCALING_FACTOR))\n",
    ")\n",
    "\n",
    "print_collection_dates(et_green_collection)\n",
    "\n",
    "print(et_green_collection.first().getInfo())\n",
    "et_green_list = et_green_collection.toList(et_green_collection.size())"
   ]
  },
  {
   "cell_type": "code",
   "execution_count": 16,
   "metadata": {},
   "outputs": [
    {
     "data": {
      "text/html": [
       "\n",
       "            <style>\n",
       "                .geemap-dark {\n",
       "                    --jp-widgets-color: white;\n",
       "                    --jp-widgets-label-color: white;\n",
       "                    --jp-ui-font-color1: white;\n",
       "                    --jp-layout-color2: #454545;\n",
       "                    background-color: #383838;\n",
       "                }\n",
       "\n",
       "                .geemap-dark .jupyter-button {\n",
       "                    --jp-layout-color3: #383838;\n",
       "                }\n",
       "\n",
       "                .geemap-colab {\n",
       "                    background-color: var(--colab-primary-surface-color, white);\n",
       "                }\n",
       "\n",
       "                .geemap-colab .jupyter-button {\n",
       "                    --jp-layout-color3: var(--colab-primary-surface-color, white);\n",
       "                }\n",
       "            </style>\n",
       "            "
      ],
      "text/plain": [
       "<IPython.core.display.HTML object>"
      ]
     },
     "metadata": {},
     "output_type": "display_data"
    }
   ],
   "source": [
    "# et_blue_raw_collection = (\n",
    "#     ee.ImageCollection(PATH_TO_ET_BLUE_RAW)\n",
    "#     .filterBounds(aoi)\n",
    "#     .filterDate(f\"{YEAR}-04-01\", f\"{YEAR}-10-31\")\n",
    "#     .map(lambda img: back_to_float(img, SCALING_FACTOR))\n",
    "# )\n",
    "\n",
    "# print_collection_dates(et_blue_raw_collection)\n",
    "\n",
    "\n",
    "# et_blue_raw_list = et_blue_raw_collection.toList(et_blue_raw_collection.size())"
   ]
  },
  {
   "cell_type": "code",
   "execution_count": 8,
   "metadata": {},
   "outputs": [
    {
     "data": {
      "text/html": [
       "\n",
       "            <style>\n",
       "                .geemap-dark {\n",
       "                    --jp-widgets-color: white;\n",
       "                    --jp-widgets-label-color: white;\n",
       "                    --jp-ui-font-color1: white;\n",
       "                    --jp-layout-color2: #454545;\n",
       "                    background-color: #383838;\n",
       "                }\n",
       "\n",
       "                .geemap-dark .jupyter-button {\n",
       "                    --jp-layout-color3: #383838;\n",
       "                }\n",
       "\n",
       "                .geemap-colab {\n",
       "                    background-color: var(--colab-primary-surface-color, white);\n",
       "                }\n",
       "\n",
       "                .geemap-colab .jupyter-button {\n",
       "                    --jp-layout-color3: var(--colab-primary-surface-color, white);\n",
       "                }\n",
       "            </style>\n",
       "            "
      ],
      "text/plain": [
       "<IPython.core.display.HTML object>"
      ]
     },
     "metadata": {},
     "output_type": "display_data"
    },
    {
     "name": "stdout",
     "output_type": "stream",
     "text": [
      "Dates of images in the collection:\n",
      "2019-04-01\n",
      "2019-04-11\n",
      "2019-04-21\n",
      "2019-05-01\n",
      "2019-05-11\n",
      "2019-05-21\n",
      "2019-06-01\n",
      "2019-06-11\n",
      "2019-06-21\n",
      "2019-07-01\n",
      "2019-07-11\n",
      "2019-07-21\n",
      "2019-08-01\n",
      "2019-08-11\n",
      "2019-08-21\n",
      "2019-09-01\n",
      "2019-09-11\n",
      "2019-09-21\n",
      "2019-10-01\n",
      "2019-10-11\n",
      "2019-10-21\n"
     ]
    }
   ],
   "source": [
    "et_collection = (\n",
    "    ee.ImageCollection(PATH_TO_ET_PRODUCT)\n",
    "    # .filter(ee.Filter.eq(\"Region\", \"Thurgau\"))\n",
    "    .filterDate(f\"{YEAR}-01-01\", f\"{YEAR}-12-31\")\n",
    "    .map(\n",
    "        lambda img: back_to_float(\n",
    "            img, SCALING_FACTOR, DYNAMIC, SCALING_FACTOR_PROPERTY_NAME\n",
    "        )\n",
    "    )\n",
    ").sort(\"system:time_start\")\n",
    "\n",
    "et_collection_list = et_collection.toList(et_collection.size())\n",
    "\n",
    "\n",
    "# Sanity checks:\n",
    "print_collection_dates(et_collection)\n"
   ]
  },
  {
   "cell_type": "markdown",
   "metadata": {},
   "source": [
    "## 2. Computing and exporting ET blue postprocessed"
   ]
  },
  {
   "cell_type": "code",
   "execution_count": 9,
   "metadata": {},
   "outputs": [
    {
     "data": {
      "text/html": [
       "\n",
       "            <style>\n",
       "                .geemap-dark {\n",
       "                    --jp-widgets-color: white;\n",
       "                    --jp-widgets-label-color: white;\n",
       "                    --jp-ui-font-color1: white;\n",
       "                    --jp-layout-color2: #454545;\n",
       "                    background-color: #383838;\n",
       "                }\n",
       "\n",
       "                .geemap-dark .jupyter-button {\n",
       "                    --jp-layout-color3: #383838;\n",
       "                }\n",
       "\n",
       "                .geemap-colab {\n",
       "                    background-color: var(--colab-primary-surface-color, white);\n",
       "                }\n",
       "\n",
       "                .geemap-colab .jupyter-button {\n",
       "                    --jp-layout-color3: var(--colab-primary-surface-color, white);\n",
       "                }\n",
       "            </style>\n",
       "            "
      ],
      "text/plain": [
       "<IPython.core.display.HTML object>"
      ]
     },
     "metadata": {},
     "output_type": "display_data"
    }
   ],
   "source": [
    "# postprocess_et_blue_raw(\n",
    "#     et_blue_raw_list=et_blue_raw_list,\n",
    "#     et_green_list=et_green_list,\n",
    "#     year=YEAR,\n",
    "#     aoi=aoi,\n",
    "#     asset_path=ET_BLUE_POSTPROCESSED_PATH,\n",
    "#     time_step_type=TEMPORAL_RESOLUTION,\n",
    "#     resolution=EXPORT_IMAGE_RESOLUTION,\n",
    "#     et_green_band_name=ET_GREEN_BAND_NAME,\n",
    "#     number_of_images=NUMBER_OF_IMAGES,\n",
    "# )"
   ]
  },
  {
   "cell_type": "code",
   "execution_count": 59,
   "metadata": {},
   "outputs": [
    {
     "data": {
      "text/html": [
       "\n",
       "            <style>\n",
       "                .geemap-dark {\n",
       "                    --jp-widgets-color: white;\n",
       "                    --jp-widgets-label-color: white;\n",
       "                    --jp-ui-font-color1: white;\n",
       "                    --jp-layout-color2: #454545;\n",
       "                    background-color: #383838;\n",
       "                }\n",
       "\n",
       "                .geemap-dark .jupyter-button {\n",
       "                    --jp-layout-color3: #383838;\n",
       "                }\n",
       "\n",
       "                .geemap-colab {\n",
       "                    background-color: var(--colab-primary-surface-color, white);\n",
       "                }\n",
       "\n",
       "                .geemap-colab .jupyter-button {\n",
       "                    --jp-layout-color3: var(--colab-primary-surface-color, white);\n",
       "                }\n",
       "            </style>\n",
       "            "
      ],
      "text/plain": [
       "<IPython.core.display.HTML object>"
      ]
     },
     "metadata": {},
     "output_type": "display_data"
    },
    {
     "name": "stdout",
     "output_type": "stream",
     "text": [
      "Exporting ET_blue_postprocessed_dekadal_2018_04_D1 for 2018 to projects/thurgau-irrigation/assets/FribourgAndVaud/ET_blue_postprocessed/ET_blue_postprocessed_dekadal_from_WaPOR_10m_v2/ET_blue_postprocessed_dekadal_2018_04_D1\n",
      "Exporting ET_blue_postprocessed_dekadal_2018_04_D2 for 2018 to projects/thurgau-irrigation/assets/FribourgAndVaud/ET_blue_postprocessed/ET_blue_postprocessed_dekadal_from_WaPOR_10m_v2/ET_blue_postprocessed_dekadal_2018_04_D2\n",
      "Exporting ET_blue_postprocessed_dekadal_2018_04_D3 for 2018 to projects/thurgau-irrigation/assets/FribourgAndVaud/ET_blue_postprocessed/ET_blue_postprocessed_dekadal_from_WaPOR_10m_v2/ET_blue_postprocessed_dekadal_2018_04_D3\n",
      "Exporting ET_blue_postprocessed_dekadal_2018_05_D1 for 2018 to projects/thurgau-irrigation/assets/FribourgAndVaud/ET_blue_postprocessed/ET_blue_postprocessed_dekadal_from_WaPOR_10m_v2/ET_blue_postprocessed_dekadal_2018_05_D1\n",
      "Exporting ET_blue_postprocessed_dekadal_2018_05_D2 for 2018 to projects/thurgau-irrigation/assets/FribourgAndVaud/ET_blue_postprocessed/ET_blue_postprocessed_dekadal_from_WaPOR_10m_v2/ET_blue_postprocessed_dekadal_2018_05_D2\n",
      "Exporting ET_blue_postprocessed_dekadal_2018_05_D3 for 2018 to projects/thurgau-irrigation/assets/FribourgAndVaud/ET_blue_postprocessed/ET_blue_postprocessed_dekadal_from_WaPOR_10m_v2/ET_blue_postprocessed_dekadal_2018_05_D3\n",
      "Exporting ET_blue_postprocessed_dekadal_2018_06_D1 for 2018 to projects/thurgau-irrigation/assets/FribourgAndVaud/ET_blue_postprocessed/ET_blue_postprocessed_dekadal_from_WaPOR_10m_v2/ET_blue_postprocessed_dekadal_2018_06_D1\n",
      "Exporting ET_blue_postprocessed_dekadal_2018_06_D2 for 2018 to projects/thurgau-irrigation/assets/FribourgAndVaud/ET_blue_postprocessed/ET_blue_postprocessed_dekadal_from_WaPOR_10m_v2/ET_blue_postprocessed_dekadal_2018_06_D2\n",
      "Exporting ET_blue_postprocessed_dekadal_2018_06_D3 for 2018 to projects/thurgau-irrigation/assets/FribourgAndVaud/ET_blue_postprocessed/ET_blue_postprocessed_dekadal_from_WaPOR_10m_v2/ET_blue_postprocessed_dekadal_2018_06_D3\n",
      "Exporting ET_blue_postprocessed_dekadal_2018_07_D1 for 2018 to projects/thurgau-irrigation/assets/FribourgAndVaud/ET_blue_postprocessed/ET_blue_postprocessed_dekadal_from_WaPOR_10m_v2/ET_blue_postprocessed_dekadal_2018_07_D1\n",
      "Exporting ET_blue_postprocessed_dekadal_2018_07_D2 for 2018 to projects/thurgau-irrigation/assets/FribourgAndVaud/ET_blue_postprocessed/ET_blue_postprocessed_dekadal_from_WaPOR_10m_v2/ET_blue_postprocessed_dekadal_2018_07_D2\n",
      "Exporting ET_blue_postprocessed_dekadal_2018_07_D3 for 2018 to projects/thurgau-irrigation/assets/FribourgAndVaud/ET_blue_postprocessed/ET_blue_postprocessed_dekadal_from_WaPOR_10m_v2/ET_blue_postprocessed_dekadal_2018_07_D3\n",
      "Exporting ET_blue_postprocessed_dekadal_2018_08_D1 for 2018 to projects/thurgau-irrigation/assets/FribourgAndVaud/ET_blue_postprocessed/ET_blue_postprocessed_dekadal_from_WaPOR_10m_v2/ET_blue_postprocessed_dekadal_2018_08_D1\n",
      "Exporting ET_blue_postprocessed_dekadal_2018_08_D2 for 2018 to projects/thurgau-irrigation/assets/FribourgAndVaud/ET_blue_postprocessed/ET_blue_postprocessed_dekadal_from_WaPOR_10m_v2/ET_blue_postprocessed_dekadal_2018_08_D2\n",
      "Exporting ET_blue_postprocessed_dekadal_2018_08_D3 for 2018 to projects/thurgau-irrigation/assets/FribourgAndVaud/ET_blue_postprocessed/ET_blue_postprocessed_dekadal_from_WaPOR_10m_v2/ET_blue_postprocessed_dekadal_2018_08_D3\n",
      "Exporting ET_blue_postprocessed_dekadal_2018_09_D1 for 2018 to projects/thurgau-irrigation/assets/FribourgAndVaud/ET_blue_postprocessed/ET_blue_postprocessed_dekadal_from_WaPOR_10m_v2/ET_blue_postprocessed_dekadal_2018_09_D1\n",
      "Exporting ET_blue_postprocessed_dekadal_2018_09_D2 for 2018 to projects/thurgau-irrigation/assets/FribourgAndVaud/ET_blue_postprocessed/ET_blue_postprocessed_dekadal_from_WaPOR_10m_v2/ET_blue_postprocessed_dekadal_2018_09_D2\n",
      "Exporting ET_blue_postprocessed_dekadal_2018_09_D3 for 2018 to projects/thurgau-irrigation/assets/FribourgAndVaud/ET_blue_postprocessed/ET_blue_postprocessed_dekadal_from_WaPOR_10m_v2/ET_blue_postprocessed_dekadal_2018_09_D3\n",
      "Exporting ET_blue_postprocessed_dekadal_2018_10_D1 for 2018 to projects/thurgau-irrigation/assets/FribourgAndVaud/ET_blue_postprocessed/ET_blue_postprocessed_dekadal_from_WaPOR_10m_v2/ET_blue_postprocessed_dekadal_2018_10_D1\n",
      "Exporting ET_blue_postprocessed_dekadal_2018_10_D2 for 2018 to projects/thurgau-irrigation/assets/FribourgAndVaud/ET_blue_postprocessed/ET_blue_postprocessed_dekadal_from_WaPOR_10m_v2/ET_blue_postprocessed_dekadal_2018_10_D2\n",
      "Exporting ET_blue_postprocessed_dekadal_2018_10_D3 for 2018 to projects/thurgau-irrigation/assets/FribourgAndVaud/ET_blue_postprocessed/ET_blue_postprocessed_dekadal_from_WaPOR_10m_v2/ET_blue_postprocessed_dekadal_2018_10_D3\n",
      "Generated 21 export tasks for year 2018\n"
     ]
    }
   ],
   "source": [
    "process_et_blue_raw(\n",
    "    et_collection_list=et_collection_list,\n",
    "    et_green_list=et_green_list,\n",
    "    year=YEAR,\n",
    "    aoi=aoi,\n",
    "    asset_path=ET_BLUE_POSTPROCESSED_PATH,\n",
    "    time_step_type=TEMPORAL_RESOLUTION,\n",
    "    resolution=EXPORT_IMAGE_RESOLUTION,\n",
    "    et_green_band_name=ET_GREEN_BAND_NAME,\n",
    "    number_of_images=NUMBER_OF_IMAGES,\n",
    ")"
   ]
  },
  {
   "cell_type": "markdown",
   "metadata": {},
   "source": [
    "## 3. Sanity check"
   ]
  },
  {
   "cell_type": "code",
   "execution_count": null,
   "metadata": {},
   "outputs": [
    {
     "data": {
      "text/html": [
       "\n",
       "            <style>\n",
       "                .geemap-dark {\n",
       "                    --jp-widgets-color: white;\n",
       "                    --jp-widgets-label-color: white;\n",
       "                    --jp-ui-font-color1: white;\n",
       "                    --jp-layout-color2: #454545;\n",
       "                    background-color: #383838;\n",
       "                }\n",
       "\n",
       "                .geemap-dark .jupyter-button {\n",
       "                    --jp-layout-color3: #383838;\n",
       "                }\n",
       "\n",
       "                .geemap-colab {\n",
       "                    background-color: var(--colab-primary-surface-color, white);\n",
       "                }\n",
       "\n",
       "                .geemap-colab .jupyter-button {\n",
       "                    --jp-layout-color3: var(--colab-primary-surface-color, white);\n",
       "                }\n",
       "            </style>\n",
       "            "
      ],
      "text/plain": [
       "<IPython.core.display.HTML object>"
      ]
     },
     "metadata": {},
     "output_type": "display_data"
    },
    {
     "data": {
      "text/plain": [
       "range(0, 11)"
      ]
     },
     "execution_count": 10,
     "metadata": {},
     "output_type": "execute_result"
    }
   ],
   "source": [
    "range(NUMBER_OF_IMAGES)"
   ]
  },
  {
   "cell_type": "code",
   "execution_count": 22,
   "metadata": {},
   "outputs": [
    {
     "data": {
      "text/html": [
       "\n",
       "            <style>\n",
       "                .geemap-dark {\n",
       "                    --jp-widgets-color: white;\n",
       "                    --jp-widgets-label-color: white;\n",
       "                    --jp-ui-font-color1: white;\n",
       "                    --jp-layout-color2: #454545;\n",
       "                    background-color: #383838;\n",
       "                }\n",
       "\n",
       "                .geemap-dark .jupyter-button {\n",
       "                    --jp-layout-color3: #383838;\n",
       "                }\n",
       "\n",
       "                .geemap-colab {\n",
       "                    background-color: var(--colab-primary-surface-color, white);\n",
       "                }\n",
       "\n",
       "                .geemap-colab .jupyter-button {\n",
       "                    --jp-layout-color3: var(--colab-primary-surface-color, white);\n",
       "                }\n",
       "            </style>\n",
       "            "
      ],
      "text/plain": [
       "<IPython.core.display.HTML object>"
      ]
     },
     "metadata": {},
     "output_type": "display_data"
    },
    {
     "name": "stdout",
     "output_type": "stream",
     "text": [
      "2019-07-21\n"
     ]
    }
   ],
   "source": [
    "et_blue_previous = None\n",
    "et_blue_postprocessed = []\n",
    "\n",
    "for i in range(0,12):\n",
    "    # Get current images\n",
    "        # Process ET images\n",
    "    et_image = ee.Image(et_collection_list.get(i))\n",
    "    et_green = ee.Image(et_green_list.get(i))\n",
    "\n",
    "    # Get time step pattern from image date\n",
    "    date = ee.Date(et_image.get(\"system:time_start\"))\n",
    "\n",
    "    et_blue = compute_et_blue(et_image, et_green.select(ET_GREEN_BAND_NAME))\n",
    "    # et_blue = back_to_int(et_blue, 100)\n",
    "\n",
    "    et_blue_present = et_blue# ee.Image(et_blue_raw_list.get(i))\n",
    "\n",
    "    # Initialize previous for first iteration\n",
    "    if et_blue_previous is None:\n",
    "        et_blue_previous = et_blue_present\n",
    "\n",
    "    # Calculate threshold from ET green\n",
    "    # threshold = calculate_band_std_dev(et_green, et_green_band_name)\n",
    "    threshold = et_green.select(f\"{ET_GREEN_BAND_NAME}_std\")\n",
    "    # Post process using the previous processed image\n",
    "    et_blue = postprocess_et_blue(et_blue_present, et_blue_previous, threshold)\n",
    "\n",
    "    # Compute and add volumetric band\n",
    "    et_blue_m3 = compute_volumetric_et_blue(et_blue)\n",
    "    et_blue = et_blue.addBands(et_blue_m3)\n",
    "\n",
    "    # Store current processed image for next iteration\n",
    "    et_blue_previous = et_blue.select(\"ET_blue\")\n",
    "\n",
    "    # Convert to int for storage\n",
    "    # et_blue = back_to_int(et_blue, 100)\n",
    "    et_blue_postprocessed.append(et_blue)\n",
    "\n",
    "\n",
    "print(date.format('YYYY-MM-dd').getInfo())"
   ]
  },
  {
   "cell_type": "code",
   "execution_count": null,
   "metadata": {},
   "outputs": [
    {
     "data": {
      "text/html": [
       "\n",
       "            <style>\n",
       "                .geemap-dark {\n",
       "                    --jp-widgets-color: white;\n",
       "                    --jp-widgets-label-color: white;\n",
       "                    --jp-ui-font-color1: white;\n",
       "                    --jp-layout-color2: #454545;\n",
       "                    background-color: #383838;\n",
       "                }\n",
       "\n",
       "                .geemap-dark .jupyter-button {\n",
       "                    --jp-layout-color3: #383838;\n",
       "                }\n",
       "\n",
       "                .geemap-colab {\n",
       "                    background-color: var(--colab-primary-surface-color, white);\n",
       "                }\n",
       "\n",
       "                .geemap-colab .jupyter-button {\n",
       "                    --jp-layout-color3: var(--colab-primary-surface-color, white);\n",
       "                }\n",
       "            </style>\n",
       "            "
      ],
      "text/plain": [
       "<IPython.core.display.HTML object>"
      ]
     },
     "metadata": {},
     "output_type": "display_data"
    },
    {
     "data": {
      "application/vnd.jupyter.widget-view+json": {
       "model_id": "214bbbda63114fecb7e34bebe9e15d98",
       "version_major": 2,
       "version_minor": 0
      },
      "text/plain": [
       "Map(center=[46.78675332740657, 6.874554339425382], controls=(WidgetControl(options=['position', 'transparent_b…"
      ]
     },
     "execution_count": 24,
     "metadata": {},
     "output_type": "execute_result"
    },
    {
     "name": "stdout",
     "output_type": "stream",
     "text": [
      "The provided color (v) is invalid. Using the default black color.\n",
      "'#v' is not in web format. Need 3 or 6 hex digit.\n",
      "The provided color (i) is invalid. Using the default black color.\n",
      "'#i' is not in web format. Need 3 or 6 hex digit.\n",
      "The provided color (r) is invalid. Using the default black color.\n",
      "'#r' is not in web format. Need 3 or 6 hex digit.\n",
      "The provided color (i) is invalid. Using the default black color.\n",
      "'#i' is not in web format. Need 3 or 6 hex digit.\n",
      "The provided color (d) is invalid. Using the default black color.\n",
      "'#d' is not in web format. Need 3 or 6 hex digit.\n",
      "The provided color (i) is invalid. Using the default black color.\n",
      "'#i' is not in web format. Need 3 or 6 hex digit.\n",
      "The provided color (s) is invalid. Using the default black color.\n",
      "'#s' is not in web format. Need 3 or 6 hex digit.\n"
     ]
    }
   ],
   "source": [
    "image = ee.Image(et_blue_postprocessed[11])\n",
    "\n",
    "Map = geemap.Map()\n",
    "\n",
    "vis_params = {\n",
    "    \"bands\": [\"ET_blue\"],\n",
    "    \"min\": 0,\n",
    "    \"max\": 2,\n",
    "    \"palette\":\"viridis\",\n",
    "}\n",
    "\n",
    "\n",
    "Map.addLayer(et_image.updateMask(et_blue_present.gt(0)), {\n",
    "    \"bands\": [\"ET\"],\n",
    "    \"min\": 2,\n",
    "    \"max\": 4,\n",
    "    \"palette\":\"viridis\",\n",
    "}, \"et_image\")\n",
    "Map.addLayer(et_green.updateMask(et_blue_present.gt(0)), {\n",
    "    \"bands\": [ET_GREEN_BAND_NAME],\n",
    "    \"min\": 0,\n",
    "    \"max\": 2,\n",
    "    \"palette\":\"viridis\",\n",
    "}, \"et_green\")\n",
    "\n",
    "Map.addLayer(image.updateMask(image.gt(0)), vis_params, \"ET_blue\")\n",
    "Map.addLayer(et_blue_present.updateMask(et_blue_present.gt(0)), vis_params, \"et_blue_present\")\n",
    "\n",
    "# Map.addLayer(aoi, {}, \"AOI\")\n",
    "Map.center_object(aoi, 12)\n",
    "\n",
    "Map"
   ]
  },
  {
   "cell_type": "code",
   "execution_count": 16,
   "metadata": {},
   "outputs": [
    {
     "data": {
      "text/html": [
       "\n",
       "            <style>\n",
       "                .geemap-dark {\n",
       "                    --jp-widgets-color: white;\n",
       "                    --jp-widgets-label-color: white;\n",
       "                    --jp-ui-font-color1: white;\n",
       "                    --jp-layout-color2: #454545;\n",
       "                    background-color: #383838;\n",
       "                }\n",
       "\n",
       "                .geemap-dark .jupyter-button {\n",
       "                    --jp-layout-color3: #383838;\n",
       "                }\n",
       "\n",
       "                .geemap-colab {\n",
       "                    background-color: var(--colab-primary-surface-color, white);\n",
       "                }\n",
       "\n",
       "                .geemap-colab .jupyter-button {\n",
       "                    --jp-layout-color3: var(--colab-primary-surface-color, white);\n",
       "                }\n",
       "            </style>\n",
       "            "
      ],
      "text/plain": [
       "<IPython.core.display.HTML object>"
      ]
     },
     "metadata": {},
     "output_type": "display_data"
    },
    {
     "name": "stdout",
     "output_type": "stream",
     "text": [
      "Dates of images in the collection:\n",
      "2018-04-01\n",
      "2018-04-11\n",
      "2018-04-21\n",
      "2018-05-01\n",
      "2018-05-11\n",
      "2018-05-21\n",
      "2018-06-01\n",
      "2018-06-11\n",
      "2018-06-21\n",
      "2018-07-01\n"
     ]
    }
   ],
   "source": [
    "et_blue_postprocessed_check = ee.ImageCollection(\"projects/thurgau-irrigation/assets/FribourgAndVaud/ET_blue_postprocessed/ET_blue_postprocessed_2018_dekadal_from_Landsat_30m\").map(lambda img: back_to_float(img, SCALING_FACTOR))\n",
    "\n",
    "print_collection_dates(et_blue_postprocessed_check)"
   ]
  },
  {
   "cell_type": "code",
   "execution_count": 17,
   "metadata": {},
   "outputs": [
    {
     "data": {
      "text/html": [
       "\n",
       "            <style>\n",
       "                .geemap-dark {\n",
       "                    --jp-widgets-color: white;\n",
       "                    --jp-widgets-label-color: white;\n",
       "                    --jp-ui-font-color1: white;\n",
       "                    --jp-layout-color2: #454545;\n",
       "                    background-color: #383838;\n",
       "                }\n",
       "\n",
       "                .geemap-dark .jupyter-button {\n",
       "                    --jp-layout-color3: #383838;\n",
       "                }\n",
       "\n",
       "                .geemap-colab {\n",
       "                    background-color: var(--colab-primary-surface-color, white);\n",
       "                }\n",
       "\n",
       "                .geemap-colab .jupyter-button {\n",
       "                    --jp-layout-color3: var(--colab-primary-surface-color, white);\n",
       "                }\n",
       "            </style>\n",
       "            "
      ],
      "text/plain": [
       "<IPython.core.display.HTML object>"
      ]
     },
     "metadata": {},
     "output_type": "display_data"
    },
    {
     "data": {
      "application/vnd.jupyter.widget-view+json": {
       "model_id": "713baa078a204b53947c0dbb728a9a78",
       "version_major": 2,
       "version_minor": 0
      },
      "text/plain": [
       "Map(center=[46.78675332740657, 6.874554339425382], controls=(WidgetControl(options=['position', 'transparent_b…"
      ]
     },
     "execution_count": 17,
     "metadata": {},
     "output_type": "execute_result"
    }
   ],
   "source": [
    "et_blue_postprocessed_check_list = et_blue_postprocessed_check.toList(et_blue_postprocessed_check.size())\n",
    "\n",
    "image_7 = ee.Image(et_blue_postprocessed_check_list.get(-2))\n",
    "\n",
    "Map = geemap.Map()\n",
    "\n",
    "vis_params = {\n",
    "    \"bands\": [\"ET_blue\"],\n",
    "    \"min\": 0,\n",
    "    \"max\": 2,\n",
    "    \"palette\": [\"blue\", \"green\", \"yellow\", \"red\"],\n",
    "}\n",
    "\n",
    "Map.addLayer(image_7, vis_params, \"ET_blue\")\n",
    "Map.center_object(aoi, 12)\n",
    "Map"
   ]
  },
  {
   "cell_type": "code",
   "execution_count": null,
   "metadata": {},
   "outputs": [],
   "source": []
  },
  {
   "cell_type": "code",
   "execution_count": null,
   "metadata": {},
   "outputs": [],
   "source": []
  }
 ],
 "metadata": {
  "kernelspec": {
   "display_name": "venv",
   "language": "python",
   "name": "python3"
  },
  "language_info": {
   "codemirror_mode": {
    "name": "ipython",
    "version": 3
   },
   "file_extension": ".py",
   "mimetype": "text/x-python",
   "name": "python",
   "nbconvert_exporter": "python",
   "pygments_lexer": "ipython3",
   "version": "3.9.0"
  }
 },
 "nbformat": 4,
 "nbformat_minor": 2
}
