{
 "cells": [
  {
   "cell_type": "code",
   "execution_count": 1,
   "metadata": {},
   "outputs": [],
   "source": [
    "import sys\n",
    "from pathlib import Path\n",
    "sys.path.append(str(Path().absolute().parent))"
   ]
  },
  {
   "cell_type": "code",
   "execution_count": 2,
   "metadata": {},
   "outputs": [
    {
     "name": "stderr",
     "output_type": "stream",
     "text": [
      "*** Earth Engine *** Share your feedback by taking our Annual Developer Satisfaction Survey: https://google.qualtrics.com/jfe/form/SV_0JLhFqfSY1uiEaW?source=Init\n"
     ]
    }
   ],
   "source": [
    "import ee \n",
    "import geemap\n",
    "\n",
    "ee.Initialize(project=\"ee-india-reservoirs\")"
   ]
  },
  {
   "cell_type": "code",
   "execution_count": 4,
   "metadata": {},
   "outputs": [
    {
     "data": {
      "text/html": [
       "\n",
       "            <style>\n",
       "                .geemap-dark {\n",
       "                    --jp-widgets-color: white;\n",
       "                    --jp-widgets-label-color: white;\n",
       "                    --jp-ui-font-color1: white;\n",
       "                    --jp-layout-color2: #454545;\n",
       "                    background-color: #383838;\n",
       "                }\n",
       "\n",
       "                .geemap-dark .jupyter-button {\n",
       "                    --jp-layout-color3: #383838;\n",
       "                }\n",
       "\n",
       "                .geemap-colab {\n",
       "                    background-color: var(--colab-primary-surface-color, white);\n",
       "                }\n",
       "\n",
       "                .geemap-colab .jupyter-button {\n",
       "                    --jp-layout-color3: var(--colab-primary-surface-color, white);\n",
       "                }\n",
       "            </style>\n",
       "            "
      ],
      "text/plain": [
       "<IPython.core.display.HTML object>"
      ]
     },
     "metadata": {},
     "output_type": "display_data"
    }
   ],
   "source": [
    "from src.et_blue.exporting_utils import postprocess_et_blue_raw, process_et_blue_raw\n",
    "from src.et_blue.compute_et_blue import compute_et_blue, compute_volumetric_et_blue, postprocess_et_blue\n",
    "\n",
    "from src.et_green.compute_et_green import calculate_band_std_dev\n",
    "\n",
    "from utils.ee_utils import (\n",
    "    back_to_float,\n",
    "    back_to_int,\n",
    "    export_image_to_asset,\n",
    "    print_value_ranges,\n",
    ")\n",
    "\n",
    "from utils.date_utils import print_collection_dates"
   ]
  },
  {
   "cell_type": "markdown",
   "metadata": {
    "vscode": {
     "languageId": "plaintext"
    }
   },
   "source": [
    "---"
   ]
  },
  {
   "cell_type": "markdown",
   "metadata": {},
   "source": [
    "## Constants"
   ]
  },
  {
   "cell_type": "code",
   "execution_count": 41,
   "metadata": {},
   "outputs": [
    {
     "data": {
      "text/html": [
       "\n",
       "            <style>\n",
       "                .geemap-dark {\n",
       "                    --jp-widgets-color: white;\n",
       "                    --jp-widgets-label-color: white;\n",
       "                    --jp-ui-font-color1: white;\n",
       "                    --jp-layout-color2: #454545;\n",
       "                    background-color: #383838;\n",
       "                }\n",
       "\n",
       "                .geemap-dark .jupyter-button {\n",
       "                    --jp-layout-color3: #383838;\n",
       "                }\n",
       "\n",
       "                .geemap-colab {\n",
       "                    background-color: var(--colab-primary-surface-color, white);\n",
       "                }\n",
       "\n",
       "                .geemap-colab .jupyter-button {\n",
       "                    --jp-layout-color3: var(--colab-primary-surface-color, white);\n",
       "                }\n",
       "            </style>\n",
       "            "
      ],
      "text/plain": [
       "<IPython.core.display.HTML object>"
      ]
     },
     "metadata": {},
     "output_type": "display_data"
    },
    {
     "name": "stdout",
     "output_type": "stream",
     "text": [
      "projects/thurgau-irrigation/assets/FribourgAndVaud/ET_blue_postprocessed/ET_blue_postprocessed_dekadal_from_WaPOR_10m_v2\n"
     ]
    }
   ],
   "source": [
    "YEAR = 2018\n",
    "\n",
    "PATH_TO_AOI = \"projects/thurgau-irrigation/assets/FribourgAndVaud/broye_bounding_box\"\n",
    "# PATH_TO_ET_GREEN = f\"projects/thurgau-irrigation/assets/FribourgAndVaud/ET_green/ET_green_dekadal_from_Landsat_30m_v2\"\n",
    "TEMPORAL_RESOLUTION = \"dekadal\"\n",
    "# ET_PRODUCT = \"Landsat_30m\"\n",
    "ET_PRODUCT = \"WaPOR_10m\"\n",
    "\n",
    "PATH_TO_ET_GREEN = f\"projects/thurgau-irrigation/assets/FribourgAndVaud/ET_green/ET_green_{TEMPORAL_RESOLUTION}_from_{ET_PRODUCT}_v2\"\n",
    "\n",
    "# PATH_TO_ET_PRODUCT = (f\"projects/thurgau-irrigation/assets/FribourgAndVaud/ET_products/decadal_Landsat_10m\")\n",
    "PATH_TO_ET_PRODUCT = f\"projects/thurgau-irrigation/assets/FribourgAndVaud/ET_products/WaPOR_10m_{YEAR}\"\n",
    "\n",
    "# #Landsat\n",
    "# ET_GREEN_BAND_NAME = \"ET_green\"\n",
    "# ET_BAND_NAME = \"ET\"\n",
    "# SCALING_FACTOR = 100\n",
    "# DYNAMIC = True\n",
    "# SCALING_FACTOR_PROPERTY_NAME = \"days\" if DYNAMIC else None\n",
    "# NUMBER_OF_IMAGES = 21\n",
    "\n",
    "##Wapor\n",
    "ET_BAND_NAME =\"downscaled\"\n",
    "SCALING_FACTOR = 100  # scaling factor for the ET band to convert it back to float\n",
    "DYNAMIC = False #True #False, for wapor\n",
    "SCALING_FACTOR_PROPERTY_NAME = \"days\" if DYNAMIC else None\n",
    "ET_BAND_RESOLUTION = 10  # 30# in meters\n",
    "NUMBER_OF_IMAGES = 21\n",
    "\n",
    "# ET_BLUE_POSTPROCESSED_PATH = f\"projects/thurgau-irrigation/assets/FribourgAndVaud/ET_blue_postprocessed/ET_blue_postprocessed_{TEMPORAL_RESOLUTION}_from_Landsat_30m_v2\"\n",
    "ET_BLUE_POSTPROCESSED_PATH = f\"projects/thurgau-irrigation/assets/FribourgAndVaud/ET_blue_postprocessed/ET_blue_postprocessed_{TEMPORAL_RESOLUTION}_from_{ET_PRODUCT}_v2\"\n",
    "\n",
    "print(ET_BLUE_POSTPROCESSED_PATH)\n",
    "EXPORT_IMAGE_RESOLUTION = 30  # in meters"
   ]
  },
  {
   "cell_type": "markdown",
   "metadata": {},
   "source": [
    "## 1. Load assets"
   ]
  },
  {
   "cell_type": "code",
   "execution_count": 6,
   "metadata": {},
   "outputs": [
    {
     "data": {
      "text/html": [
       "\n",
       "            <style>\n",
       "                .geemap-dark {\n",
       "                    --jp-widgets-color: white;\n",
       "                    --jp-widgets-label-color: white;\n",
       "                    --jp-ui-font-color1: white;\n",
       "                    --jp-layout-color2: #454545;\n",
       "                    background-color: #383838;\n",
       "                }\n",
       "\n",
       "                .geemap-dark .jupyter-button {\n",
       "                    --jp-layout-color3: #383838;\n",
       "                }\n",
       "\n",
       "                .geemap-colab {\n",
       "                    background-color: var(--colab-primary-surface-color, white);\n",
       "                }\n",
       "\n",
       "                .geemap-colab .jupyter-button {\n",
       "                    --jp-layout-color3: var(--colab-primary-surface-color, white);\n",
       "                }\n",
       "            </style>\n",
       "            "
      ],
      "text/plain": [
       "<IPython.core.display.HTML object>"
      ]
     },
     "metadata": {},
     "output_type": "display_data"
    }
   ],
   "source": [
    "aoi = ee.FeatureCollection(PATH_TO_AOI).geometry().simplify(500).buffer(100)"
   ]
  },
  {
   "cell_type": "code",
   "execution_count": 42,
   "metadata": {},
   "outputs": [
    {
     "data": {
      "text/html": [
       "\n",
       "            <style>\n",
       "                .geemap-dark {\n",
       "                    --jp-widgets-color: white;\n",
       "                    --jp-widgets-label-color: white;\n",
       "                    --jp-ui-font-color1: white;\n",
       "                    --jp-layout-color2: #454545;\n",
       "                    background-color: #383838;\n",
       "                }\n",
       "\n",
       "                .geemap-dark .jupyter-button {\n",
       "                    --jp-layout-color3: #383838;\n",
       "                }\n",
       "\n",
       "                .geemap-colab {\n",
       "                    background-color: var(--colab-primary-surface-color, white);\n",
       "                }\n",
       "\n",
       "                .geemap-colab .jupyter-button {\n",
       "                    --jp-layout-color3: var(--colab-primary-surface-color, white);\n",
       "                }\n",
       "            </style>\n",
       "            "
      ],
      "text/plain": [
       "<IPython.core.display.HTML object>"
      ]
     },
     "metadata": {},
     "output_type": "display_data"
    },
    {
     "name": "stdout",
     "output_type": "stream",
     "text": [
      "Dates of images in the collection:\n",
      "2018-04-01\n",
      "2018-04-11\n",
      "2018-04-21\n",
      "2018-05-01\n",
      "2018-05-11\n",
      "2018-05-21\n",
      "2018-06-01\n",
      "2018-06-11\n",
      "2018-06-21\n",
      "2018-07-01\n",
      "2018-07-11\n",
      "2018-07-21\n",
      "2018-08-01\n",
      "2018-08-11\n",
      "2018-08-21\n",
      "2018-09-01\n",
      "2018-09-11\n",
      "2018-09-21\n",
      "2018-10-01\n",
      "2018-10-11\n",
      "2018-10-21\n",
      "{'type': 'Image', 'bands': [{'id': 'ET_green', 'data_type': {'type': 'PixelType', 'precision': 'float'}, 'dimensions': [1963, 2387], 'crs': 'EPSG:32632', 'crs_transform': [10, 0, 327440, 0, -10, 5195720]}, {'id': 'ET_green_std', 'data_type': {'type': 'PixelType', 'precision': 'float'}, 'dimensions': [1963, 2387], 'crs': 'EPSG:32632', 'crs_transform': [10, 0, 327440, 0, -10, 5195720]}], 'properties': {'system:time_start': 1522540800000, 'system:footprint': {'type': 'LinearRing', 'coordinates': [[6.743775905774364, 46.67791279248287], [6.74379230131995, 46.67791241686437], [7.000159954652322, 46.68268240154832], [7.000219018288402, 46.6827200237579], [7.000284417647323, 46.682752222712836], [7.000287991453084, 46.68276710852673], [6.992321048706773, 46.89736155309526], [6.992266071471521, 46.897402096941775], [6.992218820269509, 46.897447001422414], [6.99220258585266, 46.89744881274416], [6.992186096673732, 46.89744922681749], [6.734798212460734, 46.89264354279371], [6.734739148440174, 46.89260577097019], [6.734673588281716, 46.89257336178387], [6.734670083481858, 46.89255855419111], [6.743657449128487, 46.67799978995011], [6.743712500643442, 46.67795938716433], [6.7437596658226315, 46.67791456512406], [6.743775905774364, 46.67791279248287]]}, 'system:index': 'ET_green_dekadal_2018_04_D1'}}\n"
     ]
    }
   ],
   "source": [
    "et_green_collection = (\n",
    "    ee.ImageCollection(PATH_TO_ET_GREEN)\n",
    "    # .filterBounds(aoi)\n",
    "    .filterDate(f\"{YEAR}-04-01\", f\"{YEAR}-10-31\")\n",
    "    .map(lambda img: back_to_float(img, SCALING_FACTOR))\n",
    ")\n",
    "\n",
    "print_collection_dates(et_green_collection)\n",
    "\n",
    "print(et_green_collection.first().getInfo())\n",
    "et_green_list = et_green_collection.toList(et_green_collection.size())"
   ]
  },
  {
   "cell_type": "code",
   "execution_count": 16,
   "metadata": {},
   "outputs": [
    {
     "data": {
      "text/html": [
       "\n",
       "            <style>\n",
       "                .geemap-dark {\n",
       "                    --jp-widgets-color: white;\n",
       "                    --jp-widgets-label-color: white;\n",
       "                    --jp-ui-font-color1: white;\n",
       "                    --jp-layout-color2: #454545;\n",
       "                    background-color: #383838;\n",
       "                }\n",
       "\n",
       "                .geemap-dark .jupyter-button {\n",
       "                    --jp-layout-color3: #383838;\n",
       "                }\n",
       "\n",
       "                .geemap-colab {\n",
       "                    background-color: var(--colab-primary-surface-color, white);\n",
       "                }\n",
       "\n",
       "                .geemap-colab .jupyter-button {\n",
       "                    --jp-layout-color3: var(--colab-primary-surface-color, white);\n",
       "                }\n",
       "            </style>\n",
       "            "
      ],
      "text/plain": [
       "<IPython.core.display.HTML object>"
      ]
     },
     "metadata": {},
     "output_type": "display_data"
    }
   ],
   "source": [
    "# et_blue_raw_collection = (\n",
    "#     ee.ImageCollection(PATH_TO_ET_BLUE_RAW)\n",
    "#     .filterBounds(aoi)\n",
    "#     .filterDate(f\"{YEAR}-04-01\", f\"{YEAR}-10-31\")\n",
    "#     .map(lambda img: back_to_float(img, SCALING_FACTOR))\n",
    "# )\n",
    "\n",
    "# print_collection_dates(et_blue_raw_collection)\n",
    "\n",
    "\n",
    "# et_blue_raw_list = et_blue_raw_collection.toList(et_blue_raw_collection.size())"
   ]
  },
  {
   "cell_type": "code",
   "execution_count": 43,
   "metadata": {},
   "outputs": [
    {
     "data": {
      "text/html": [
       "\n",
       "            <style>\n",
       "                .geemap-dark {\n",
       "                    --jp-widgets-color: white;\n",
       "                    --jp-widgets-label-color: white;\n",
       "                    --jp-ui-font-color1: white;\n",
       "                    --jp-layout-color2: #454545;\n",
       "                    background-color: #383838;\n",
       "                }\n",
       "\n",
       "                .geemap-dark .jupyter-button {\n",
       "                    --jp-layout-color3: #383838;\n",
       "                }\n",
       "\n",
       "                .geemap-colab {\n",
       "                    background-color: var(--colab-primary-surface-color, white);\n",
       "                }\n",
       "\n",
       "                .geemap-colab .jupyter-button {\n",
       "                    --jp-layout-color3: var(--colab-primary-surface-color, white);\n",
       "                }\n",
       "            </style>\n",
       "            "
      ],
      "text/plain": [
       "<IPython.core.display.HTML object>"
      ]
     },
     "metadata": {},
     "output_type": "display_data"
    },
    {
     "name": "stdout",
     "output_type": "stream",
     "text": [
      "Dates of images in the collection:\n",
      "2018-04-01\n",
      "2018-04-11\n",
      "2018-04-21\n",
      "2018-05-01\n",
      "2018-05-11\n",
      "2018-05-21\n",
      "2018-06-01\n",
      "2018-06-11\n",
      "2018-06-21\n",
      "2018-07-01\n",
      "2018-07-11\n",
      "2018-07-21\n",
      "2018-08-01\n",
      "2018-08-11\n",
      "2018-08-21\n",
      "2018-09-01\n",
      "2018-09-11\n",
      "2018-09-21\n",
      "2018-10-01\n",
      "2018-10-11\n",
      "2018-10-21\n"
     ]
    }
   ],
   "source": [
    "et_collection = (\n",
    "    ee.ImageCollection(PATH_TO_ET_PRODUCT)\n",
    "    # .filter(ee.Filter.eq(\"Region\", \"Thurgau\"))\n",
    "    .filterDate(f\"{YEAR}-01-01\", f\"{YEAR}-12-31\")\n",
    "    .map(\n",
    "        lambda img: back_to_float(\n",
    "            img, SCALING_FACTOR, DYNAMIC, SCALING_FACTOR_PROPERTY_NAME\n",
    "        )\n",
    "    )\n",
    ").sort(\"system:time_start\")\n",
    "\n",
    "et_collection_list = et_collection.toList(et_collection.size())\n",
    "\n",
    "\n",
    "# Sanity checks:\n",
    "print_collection_dates(et_collection)\n"
   ]
  },
  {
   "cell_type": "markdown",
   "metadata": {},
   "source": [
    "## 2. Computing and exporting ET blue postprocessed"
   ]
  },
  {
   "cell_type": "code",
   "execution_count": 9,
   "metadata": {},
   "outputs": [
    {
     "data": {
      "text/html": [
       "\n",
       "            <style>\n",
       "                .geemap-dark {\n",
       "                    --jp-widgets-color: white;\n",
       "                    --jp-widgets-label-color: white;\n",
       "                    --jp-ui-font-color1: white;\n",
       "                    --jp-layout-color2: #454545;\n",
       "                    background-color: #383838;\n",
       "                }\n",
       "\n",
       "                .geemap-dark .jupyter-button {\n",
       "                    --jp-layout-color3: #383838;\n",
       "                }\n",
       "\n",
       "                .geemap-colab {\n",
       "                    background-color: var(--colab-primary-surface-color, white);\n",
       "                }\n",
       "\n",
       "                .geemap-colab .jupyter-button {\n",
       "                    --jp-layout-color3: var(--colab-primary-surface-color, white);\n",
       "                }\n",
       "            </style>\n",
       "            "
      ],
      "text/plain": [
       "<IPython.core.display.HTML object>"
      ]
     },
     "metadata": {},
     "output_type": "display_data"
    }
   ],
   "source": [
    "# postprocess_et_blue_raw(\n",
    "#     et_blue_raw_list=et_blue_raw_list,\n",
    "#     et_green_list=et_green_list,\n",
    "#     year=YEAR,\n",
    "#     aoi=aoi,\n",
    "#     asset_path=ET_BLUE_POSTPROCESSED_PATH,\n",
    "#     time_step_type=TEMPORAL_RESOLUTION,\n",
    "#     resolution=EXPORT_IMAGE_RESOLUTION,\n",
    "#     et_green_band_name=ET_GREEN_BAND_NAME,\n",
    "#     number_of_images=NUMBER_OF_IMAGES,\n",
    "# )"
   ]
  },
  {
   "cell_type": "code",
   "execution_count": 44,
   "metadata": {},
   "outputs": [
    {
     "data": {
      "text/html": [
       "\n",
       "            <style>\n",
       "                .geemap-dark {\n",
       "                    --jp-widgets-color: white;\n",
       "                    --jp-widgets-label-color: white;\n",
       "                    --jp-ui-font-color1: white;\n",
       "                    --jp-layout-color2: #454545;\n",
       "                    background-color: #383838;\n",
       "                }\n",
       "\n",
       "                .geemap-dark .jupyter-button {\n",
       "                    --jp-layout-color3: #383838;\n",
       "                }\n",
       "\n",
       "                .geemap-colab {\n",
       "                    background-color: var(--colab-primary-surface-color, white);\n",
       "                }\n",
       "\n",
       "                .geemap-colab .jupyter-button {\n",
       "                    --jp-layout-color3: var(--colab-primary-surface-color, white);\n",
       "                }\n",
       "            </style>\n",
       "            "
      ],
      "text/plain": [
       "<IPython.core.display.HTML object>"
      ]
     },
     "metadata": {},
     "output_type": "display_data"
    },
    {
     "name": "stdout",
     "output_type": "stream",
     "text": [
      "Exporting ET_blue_postprocessed_dekadal_2018_04_D1 for 2018 to projects/thurgau-irrigation/assets/FribourgAndVaud/ET_blue_postprocessed/ET_blue_postprocessed_dekadal_from_WaPOR_10m_v2/ET_blue_postprocessed_dekadal_2018_04_D1\n",
      "Exporting ET_blue_postprocessed_dekadal_2018_04_D2 for 2018 to projects/thurgau-irrigation/assets/FribourgAndVaud/ET_blue_postprocessed/ET_blue_postprocessed_dekadal_from_WaPOR_10m_v2/ET_blue_postprocessed_dekadal_2018_04_D2\n",
      "Exporting ET_blue_postprocessed_dekadal_2018_04_D3 for 2018 to projects/thurgau-irrigation/assets/FribourgAndVaud/ET_blue_postprocessed/ET_blue_postprocessed_dekadal_from_WaPOR_10m_v2/ET_blue_postprocessed_dekadal_2018_04_D3\n",
      "Exporting ET_blue_postprocessed_dekadal_2018_05_D1 for 2018 to projects/thurgau-irrigation/assets/FribourgAndVaud/ET_blue_postprocessed/ET_blue_postprocessed_dekadal_from_WaPOR_10m_v2/ET_blue_postprocessed_dekadal_2018_05_D1\n",
      "Exporting ET_blue_postprocessed_dekadal_2018_05_D2 for 2018 to projects/thurgau-irrigation/assets/FribourgAndVaud/ET_blue_postprocessed/ET_blue_postprocessed_dekadal_from_WaPOR_10m_v2/ET_blue_postprocessed_dekadal_2018_05_D2\n",
      "Exporting ET_blue_postprocessed_dekadal_2018_05_D3 for 2018 to projects/thurgau-irrigation/assets/FribourgAndVaud/ET_blue_postprocessed/ET_blue_postprocessed_dekadal_from_WaPOR_10m_v2/ET_blue_postprocessed_dekadal_2018_05_D3\n",
      "Exporting ET_blue_postprocessed_dekadal_2018_06_D1 for 2018 to projects/thurgau-irrigation/assets/FribourgAndVaud/ET_blue_postprocessed/ET_blue_postprocessed_dekadal_from_WaPOR_10m_v2/ET_blue_postprocessed_dekadal_2018_06_D1\n",
      "Exporting ET_blue_postprocessed_dekadal_2018_06_D2 for 2018 to projects/thurgau-irrigation/assets/FribourgAndVaud/ET_blue_postprocessed/ET_blue_postprocessed_dekadal_from_WaPOR_10m_v2/ET_blue_postprocessed_dekadal_2018_06_D2\n",
      "Exporting ET_blue_postprocessed_dekadal_2018_06_D3 for 2018 to projects/thurgau-irrigation/assets/FribourgAndVaud/ET_blue_postprocessed/ET_blue_postprocessed_dekadal_from_WaPOR_10m_v2/ET_blue_postprocessed_dekadal_2018_06_D3\n",
      "Exporting ET_blue_postprocessed_dekadal_2018_07_D1 for 2018 to projects/thurgau-irrigation/assets/FribourgAndVaud/ET_blue_postprocessed/ET_blue_postprocessed_dekadal_from_WaPOR_10m_v2/ET_blue_postprocessed_dekadal_2018_07_D1\n",
      "Exporting ET_blue_postprocessed_dekadal_2018_07_D2 for 2018 to projects/thurgau-irrigation/assets/FribourgAndVaud/ET_blue_postprocessed/ET_blue_postprocessed_dekadal_from_WaPOR_10m_v2/ET_blue_postprocessed_dekadal_2018_07_D2\n",
      "Exporting ET_blue_postprocessed_dekadal_2018_07_D3 for 2018 to projects/thurgau-irrigation/assets/FribourgAndVaud/ET_blue_postprocessed/ET_blue_postprocessed_dekadal_from_WaPOR_10m_v2/ET_blue_postprocessed_dekadal_2018_07_D3\n",
      "Exporting ET_blue_postprocessed_dekadal_2018_08_D1 for 2018 to projects/thurgau-irrigation/assets/FribourgAndVaud/ET_blue_postprocessed/ET_blue_postprocessed_dekadal_from_WaPOR_10m_v2/ET_blue_postprocessed_dekadal_2018_08_D1\n",
      "Exporting ET_blue_postprocessed_dekadal_2018_08_D2 for 2018 to projects/thurgau-irrigation/assets/FribourgAndVaud/ET_blue_postprocessed/ET_blue_postprocessed_dekadal_from_WaPOR_10m_v2/ET_blue_postprocessed_dekadal_2018_08_D2\n",
      "Exporting ET_blue_postprocessed_dekadal_2018_08_D3 for 2018 to projects/thurgau-irrigation/assets/FribourgAndVaud/ET_blue_postprocessed/ET_blue_postprocessed_dekadal_from_WaPOR_10m_v2/ET_blue_postprocessed_dekadal_2018_08_D3\n",
      "Exporting ET_blue_postprocessed_dekadal_2018_09_D1 for 2018 to projects/thurgau-irrigation/assets/FribourgAndVaud/ET_blue_postprocessed/ET_blue_postprocessed_dekadal_from_WaPOR_10m_v2/ET_blue_postprocessed_dekadal_2018_09_D1\n",
      "Exporting ET_blue_postprocessed_dekadal_2018_09_D2 for 2018 to projects/thurgau-irrigation/assets/FribourgAndVaud/ET_blue_postprocessed/ET_blue_postprocessed_dekadal_from_WaPOR_10m_v2/ET_blue_postprocessed_dekadal_2018_09_D2\n",
      "Exporting ET_blue_postprocessed_dekadal_2018_09_D3 for 2018 to projects/thurgau-irrigation/assets/FribourgAndVaud/ET_blue_postprocessed/ET_blue_postprocessed_dekadal_from_WaPOR_10m_v2/ET_blue_postprocessed_dekadal_2018_09_D3\n",
      "Exporting ET_blue_postprocessed_dekadal_2018_10_D1 for 2018 to projects/thurgau-irrigation/assets/FribourgAndVaud/ET_blue_postprocessed/ET_blue_postprocessed_dekadal_from_WaPOR_10m_v2/ET_blue_postprocessed_dekadal_2018_10_D1\n",
      "Exporting ET_blue_postprocessed_dekadal_2018_10_D2 for 2018 to projects/thurgau-irrigation/assets/FribourgAndVaud/ET_blue_postprocessed/ET_blue_postprocessed_dekadal_from_WaPOR_10m_v2/ET_blue_postprocessed_dekadal_2018_10_D2\n",
      "Exporting ET_blue_postprocessed_dekadal_2018_10_D3 for 2018 to projects/thurgau-irrigation/assets/FribourgAndVaud/ET_blue_postprocessed/ET_blue_postprocessed_dekadal_from_WaPOR_10m_v2/ET_blue_postprocessed_dekadal_2018_10_D3\n",
      "Generated 21 export tasks for year 2018\n"
     ]
    }
   ],
   "source": [
    "process_et_blue_raw(\n",
    "    et_collection_list=et_collection_list,\n",
    "    et_green_list=et_green_list,\n",
    "    year=YEAR,\n",
    "    aoi=aoi,\n",
    "    asset_path=ET_BLUE_POSTPROCESSED_PATH,\n",
    "    time_step_type=TEMPORAL_RESOLUTION,\n",
    "    resolution=EXPORT_IMAGE_RESOLUTION,\n",
    "    et_green_band_name=ET_GREEN_BAND_NAME,\n",
    "    number_of_images=NUMBER_OF_IMAGES,\n",
    ")"
   ]
  },
  {
   "cell_type": "markdown",
   "metadata": {},
   "source": [
    "## 3. Sanity check"
   ]
  },
  {
   "cell_type": "code",
   "execution_count": null,
   "metadata": {},
   "outputs": [
    {
     "data": {
      "text/html": [
       "\n",
       "            <style>\n",
       "                .geemap-dark {\n",
       "                    --jp-widgets-color: white;\n",
       "                    --jp-widgets-label-color: white;\n",
       "                    --jp-ui-font-color1: white;\n",
       "                    --jp-layout-color2: #454545;\n",
       "                    background-color: #383838;\n",
       "                }\n",
       "\n",
       "                .geemap-dark .jupyter-button {\n",
       "                    --jp-layout-color3: #383838;\n",
       "                }\n",
       "\n",
       "                .geemap-colab {\n",
       "                    background-color: var(--colab-primary-surface-color, white);\n",
       "                }\n",
       "\n",
       "                .geemap-colab .jupyter-button {\n",
       "                    --jp-layout-color3: var(--colab-primary-surface-color, white);\n",
       "                }\n",
       "            </style>\n",
       "            "
      ],
      "text/plain": [
       "<IPython.core.display.HTML object>"
      ]
     },
     "metadata": {},
     "output_type": "display_data"
    },
    {
     "name": "stdout",
     "output_type": "stream",
     "text": [
      "ET_blue_raw_dekadal_2019_04_D2\n",
      "{'Uebrige Dauerwiesen (ohne Weiden)', 'Waldweiden (ohne bewaldete Flaeche)', 'Uebrige Gruenflaeche (Dauergruenflaechen), nicht beitragsberechtigt', 'Uebrige Gruenflaeche (Dauergruenflaeche), beitragsberechtigt', 'Extensiv genutzte Weiden', 'Weiden (Heimweiden, uebrige Weiden ohne Soemmerungsweiden)'}\n",
      "{'Bluehstreifen fuer Bestaeuber und and. Nuetzlinge', 'uebrige offene Ackerflaeche, nicht beitragsberechtigt', 'Hecken-, Feld- und Ufergehoelze (mit Puf.str.)', 'Weide (Heimweiden, ueb. Weide ohne Soe.geb.)', 'Uebrige Flaechen innerhalb der LN, nicht beitragsberechtigt', 'Uferwiesen (ohne Weiden) entlang von Fliessg.', 'Uferwiese (o.Wei.) entlang von Fliessgew.', 'Mehrjaehrige nachwachsende Rohstoffe (Chinaschilf, usw.)', 'Andere Obstanlagen (Kiwis, Holunder usw.)', 'Rotationsbrache', 'Baumschule von Forstpflanzen ausserhalb der Forstzone', 'Hecken-, Feld- und Ufergehoelze (mit Pufferstreifen)', 'Obstanlagen (Aepfel)', 'Baumschulen von Reben', 'Uferwiese (ohne Weiden) entlang von Fliessgewaessern', 'Christbaeume', 'Buntbrache', 'Uebrige Gruenflaeche (Dauergruenflaeche), beitragsberechtigt', 'Wald', 'Streueflaechen in der LN', 'Uebrige Baumschulen (Rosen, Fruechte, usw.)', 'Uferwiesen entlang von Fliessgewaessern (ohne Weiden)', 'Hecken-, Feld- und Ufergehoelze (mit Krautsaum)', 'Flaechen ohne landwirtschaftliche Hauptzweckbestimmung (erschlossenes Bauland, Spiel-, Reit-, Camping-, Golf-, Flug- und Militaerplaetze oder ausgemarchte Bereiche von Eisenbahnen, oeffentlichen Strassen und Gewaessern)', 'Obstanlagen aggregiert', 'Uebrige Flaechen mit Dauerkulturen, beitragsberechtigt', 'Uebrige Kunstwiese (Schweine-, Gefluegelweide)', 'Ackerschonstreifen', 'Ruderalflaechen, Steinhaufen und -waelle', 'Flaechen ohne landwirtschaftliche Hauptzweckbestimmung', 'Reben', 'Saum auf Ackerflaeche', 'uebrige Unproduktive Flaechen (z.B. gemulchte Flaechen, stark verunkraute Flaechen, Hecke ohne Pufferstreifen)', 'Wassergraeben, Tuempel, Teiche', 'Uebr. Kunstwiese bb z.B. Schweine-, Gefluegelwe.', 'Weiden (Heimweiden, uebrige Weiden ohne Soemmerungsweiden)', 'Saum auf Ackerflaechen', 'Heuwiesen im Soemmerungsgebiet, Uebrige Wiesen', 'Soemmerungsweiden', 'Wenig intensiv genutzte Wiesen (ohne Weiden)', 'Ueb. Gruenflaeche beitragsberechtigt', 'Extensiv genutzte Weiden', 'Obstanlagen (Birnen)', 'Landwirtschaftliche Produktion in Gebaeuden (z. B. Champignon, Bruesseler)', 'Uebrige Flaechen ausserhalb der LN und SF', 'Flaeche ohne landw. Hauptzweckbestimmung', 'Uebrige Flaechen mit Dauerkulturen, nicht beitragsberechtigt', 'Hecken-, Feld und Ufergehoelz (reg. BFF)', 'Hecken-, Feld und Ufergehoelze (mit Krautsaum)', 'Uebrige Ackergewaechse (nicht beitragsber.)', 'Unbefestigte, natuerliche Wege', 'Obstanlagen (Steinobst)', 'Bluehstreifen fuer Bestaeuber und andere Nuetzlinge', 'Wenig intensiv gen. Wiesen (ohne Weiden)', 'Uebrige Gruenflaeche (Dauergruenflaeche), nicht beitragsberechtigt', 'Trueffelanlagen', 'Uebrige Kunstwiese, beitragsberechtigt (z.B. Schweineweide, Gefluegelweide)', 'Wassergraben, Tuempel, Teiche', 'Obstanlagen Steinobst', 'Hausgaerten', 'Zierstraeucher, Ziergehoelze und Zierstauden', 'Extensiv genutzte Wiesen (ohne Weiden)', 'Obstanlagen Aepfel', 'Hecken-, Feld- und Ufergehoelze (mit Pufferstreifen) (regionsspezifische Biodiversitaetsfoerderflaeche)', 'Uebrige unproduktive Flaechen (z.B. gemulchte Flaechen, stark verunkrautete Flaechen, Hecken ohne Pufferstreifen)', 'Hochstamm-Feldobstbaeume (Punkte oder Flaechen)', 'Hecken, Feld-, Ufergehoelze mit Krautsaum', 'Rebflaechen mit natuerlicher Artenvielfalt', 'Ueb. Gruenflaeche (Dauergruenflaeche) beitragsbe.', 'Weide (Heimweiden, Ueb. Weide ohne Soe.weiden)', 'Ueb. Gruenflaeche nicht beitragsberechtigt'}\n"
     ]
    },
    {
     "ename": "NameError",
     "evalue": "name 'double_cropping_image' is not defined",
     "output_type": "error",
     "traceback": [
      "\u001b[0;31m---------------------------------------------------------------------------\u001b[0m",
      "\u001b[0;31mNameError\u001b[0m                                 Traceback (most recent call last)",
      "Cell \u001b[0;32mIn[31], line 28\u001b[0m\n\u001b[1;32m     21\u001b[0m landuse_collection \u001b[38;5;241m=\u001b[39m (\n\u001b[1;32m     22\u001b[0m     landuse_collection\u001b[38;5;241m.\u001b[39mmap(\u001b[38;5;28;01mlambda\u001b[39;00m f: f\u001b[38;5;241m.\u001b[39mset(\u001b[38;5;124m\"\u001b[39m\u001b[38;5;124mnutzung\u001b[39m\u001b[38;5;124m\"\u001b[39m, f\u001b[38;5;241m.\u001b[39mget(LANDUSE_PROPERTY_NAME)))\n\u001b[1;32m     23\u001b[0m     \u001b[38;5;28;01mif\u001b[39;00m LANDUSE_PROPERTY_NAME \u001b[38;5;241m!=\u001b[39m \u001b[38;5;124m\"\u001b[39m\u001b[38;5;124mnutzung\u001b[39m\u001b[38;5;124m\"\u001b[39m\n\u001b[1;32m     24\u001b[0m     \u001b[38;5;28;01melse\u001b[39;00m landuse_collection\n\u001b[1;32m     25\u001b[0m )\n\u001b[1;32m     26\u001b[0m \u001b[38;5;66;03m# Prepare rainfed fields\u001b[39;00m\n\u001b[1;32m     27\u001b[0m rainfed_fields \u001b[38;5;241m=\u001b[39m prepare_rainfed_fields(\n\u001b[0;32m---> 28\u001b[0m     landuse_collection, \u001b[43mdouble_cropping_image\u001b[49m, not_irrigated_crops, rainfed_crops, MINIMUM_FIELD_SIZE\n\u001b[1;32m     29\u001b[0m )\n\u001b[1;32m     30\u001b[0m \u001b[38;5;28mprint\u001b[39m(rainfed_fields\u001b[38;5;241m.\u001b[39maggregate_array(\u001b[38;5;124m\"\u001b[39m\u001b[38;5;124mnutzung\u001b[39m\u001b[38;5;124m\"\u001b[39m)\u001b[38;5;241m.\u001b[39mdistinct()\u001b[38;5;241m.\u001b[39mgetInfo())\n\u001b[1;32m     33\u001b[0m \u001b[38;5;66;03m# Initialize previous for first iteration\u001b[39;00m\n",
      "\u001b[0;31mNameError\u001b[0m: name 'double_cropping_image' is not defined"
     ]
    }
   ],
   "source": [
    "et_blue_postprocessed = []\n",
    "\n",
    "et_blue_previous = None\n",
    "i = 1\n",
    "et_green = ee.Image(et_green_list.get(i))\n",
    "et_blue_present = ee.Image(et_blue_raw_list.get(i))\n",
    "et = ee.Image(et_collection_list.get(i))\n",
    "print(et_blue_present.get('system:index').getInfo())\n",
    "\n",
    "# Check if the collection has \"nutzung\" property, otherwise rename it\n",
    "# properties = landuse_collection.first().propertyNames().getInfo()\n",
    "\n",
    "\n",
    "# Initialize previous for first iteration\n",
    "if et_blue_previous is None:\n",
    "    et_blue_previous = et_blue_present\n",
    "\n",
    "# Calculate threshold from ET green\n",
    "threshold = calculate_band_std_dev(et_green, ET_GREEN_BAND_NAME)\n",
    "print(threshold.getInfo())"
   ]
  },
  {
   "cell_type": "code",
   "execution_count": 9,
   "metadata": {},
   "outputs": [
    {
     "data": {
      "text/html": [
       "\n",
       "            <style>\n",
       "                .geemap-dark {\n",
       "                    --jp-widgets-color: white;\n",
       "                    --jp-widgets-label-color: white;\n",
       "                    --jp-ui-font-color1: white;\n",
       "                    --jp-layout-color2: #454545;\n",
       "                    background-color: #383838;\n",
       "                }\n",
       "\n",
       "                .geemap-dark .jupyter-button {\n",
       "                    --jp-layout-color3: #383838;\n",
       "                }\n",
       "\n",
       "                .geemap-colab {\n",
       "                    background-color: var(--colab-primary-surface-color, white);\n",
       "                }\n",
       "\n",
       "                .geemap-colab .jupyter-button {\n",
       "                    --jp-layout-color3: var(--colab-primary-surface-color, white);\n",
       "                }\n",
       "            </style>\n",
       "            "
      ],
      "text/plain": [
       "<IPython.core.display.HTML object>"
      ]
     },
     "metadata": {},
     "output_type": "display_data"
    }
   ],
   "source": [
    "et_blue_postprocessed = []\n",
    "\n",
    "et_blue_previous = None\n",
    "\n",
    "for i in range(NUMBER_OF_IMAGES):\n",
    "    # Get current images\n",
    "    et_green = ee.Image(et_green_list.get(i))\n",
    "    et_blue_present = ee.Image(et_blue_raw_list.get(i))\n",
    "\n",
    "    # Initialize previous for first iteration\n",
    "    if et_blue_previous is None:\n",
    "        et_blue_previous = et_blue_present\n",
    "\n",
    "    # Calculate threshold from ET green\n",
    "    threshold = calculate_band_std_dev(et_green, ET_GREEN_BAND_NAME)\n",
    "\n",
    "    # Post process using the previous processed image\n",
    "    et_blue = postprocess_et_blue(et_blue_present, et_blue_previous, threshold)\n",
    "\n",
    "    # Compute and add volumetric band\n",
    "    et_blue_m3 = compute_volumetric_et_blue(et_blue)\n",
    "    et_blue = et_blue.addBands(et_blue_m3)\n",
    "\n",
    "    # Store current processed image for next iteration\n",
    "    et_blue_previous = et_blue.select(\"ET_blue\")\n",
    "\n",
    "    # et_blue = back_to_int(et_blue, 100)\n",
    "\n",
    "    et_blue_postprocessed.append(et_blue)"
   ]
  },
  {
   "cell_type": "code",
   "execution_count": 10,
   "metadata": {},
   "outputs": [
    {
     "data": {
      "text/html": [
       "\n",
       "            <style>\n",
       "                .geemap-dark {\n",
       "                    --jp-widgets-color: white;\n",
       "                    --jp-widgets-label-color: white;\n",
       "                    --jp-ui-font-color1: white;\n",
       "                    --jp-layout-color2: #454545;\n",
       "                    background-color: #383838;\n",
       "                }\n",
       "\n",
       "                .geemap-dark .jupyter-button {\n",
       "                    --jp-layout-color3: #383838;\n",
       "                }\n",
       "\n",
       "                .geemap-colab {\n",
       "                    background-color: var(--colab-primary-surface-color, white);\n",
       "                }\n",
       "\n",
       "                .geemap-colab .jupyter-button {\n",
       "                    --jp-layout-color3: var(--colab-primary-surface-color, white);\n",
       "                }\n",
       "            </style>\n",
       "            "
      ],
      "text/plain": [
       "<IPython.core.display.HTML object>"
      ]
     },
     "metadata": {},
     "output_type": "display_data"
    },
    {
     "data": {
      "application/vnd.jupyter.widget-view+json": {
       "model_id": "e3a2f2378b9b4eefa2f70a939f434a20",
       "version_major": 2,
       "version_minor": 0
      },
      "text/plain": [
       "Map(center=[46.78675332740657, 6.874554339425382], controls=(WidgetControl(options=['position', 'transparent_b…"
      ]
     },
     "execution_count": 10,
     "metadata": {},
     "output_type": "execute_result"
    }
   ],
   "source": [
    "image = ee.Image(et_blue_postprocessed[3])\n",
    "\n",
    "Map = geemap.Map()\n",
    "\n",
    "vis_params = {\n",
    "    \"bands\": [\"ET_blue\"],\n",
    "    \"min\": 0,\n",
    "    \"max\": 1.5,\n",
    "    \"palette\":\"viridis\",\n",
    "}\n",
    "\n",
    "Map.addLayer(image, vis_params, \"ET_blue\")\n",
    "\n",
    "# Map.addLayer(aoi, {}, \"AOI\")\n",
    "Map.center_object(aoi, 12)\n",
    "\n",
    "Map"
   ]
  },
  {
   "cell_type": "code",
   "execution_count": 16,
   "metadata": {},
   "outputs": [
    {
     "data": {
      "text/html": [
       "\n",
       "            <style>\n",
       "                .geemap-dark {\n",
       "                    --jp-widgets-color: white;\n",
       "                    --jp-widgets-label-color: white;\n",
       "                    --jp-ui-font-color1: white;\n",
       "                    --jp-layout-color2: #454545;\n",
       "                    background-color: #383838;\n",
       "                }\n",
       "\n",
       "                .geemap-dark .jupyter-button {\n",
       "                    --jp-layout-color3: #383838;\n",
       "                }\n",
       "\n",
       "                .geemap-colab {\n",
       "                    background-color: var(--colab-primary-surface-color, white);\n",
       "                }\n",
       "\n",
       "                .geemap-colab .jupyter-button {\n",
       "                    --jp-layout-color3: var(--colab-primary-surface-color, white);\n",
       "                }\n",
       "            </style>\n",
       "            "
      ],
      "text/plain": [
       "<IPython.core.display.HTML object>"
      ]
     },
     "metadata": {},
     "output_type": "display_data"
    },
    {
     "name": "stdout",
     "output_type": "stream",
     "text": [
      "Dates of images in the collection:\n",
      "2018-04-01\n",
      "2018-04-11\n",
      "2018-04-21\n",
      "2018-05-01\n",
      "2018-05-11\n",
      "2018-05-21\n",
      "2018-06-01\n",
      "2018-06-11\n",
      "2018-06-21\n",
      "2018-07-01\n"
     ]
    }
   ],
   "source": [
    "et_blue_postprocessed_check = ee.ImageCollection(\"projects/thurgau-irrigation/assets/FribourgAndVaud/ET_blue_postprocessed/ET_blue_postprocessed_2018_dekadal_from_Landsat_30m\").map(lambda img: back_to_float(img, SCALING_FACTOR))\n",
    "\n",
    "print_collection_dates(et_blue_postprocessed_check)"
   ]
  },
  {
   "cell_type": "code",
   "execution_count": 17,
   "metadata": {},
   "outputs": [
    {
     "data": {
      "text/html": [
       "\n",
       "            <style>\n",
       "                .geemap-dark {\n",
       "                    --jp-widgets-color: white;\n",
       "                    --jp-widgets-label-color: white;\n",
       "                    --jp-ui-font-color1: white;\n",
       "                    --jp-layout-color2: #454545;\n",
       "                    background-color: #383838;\n",
       "                }\n",
       "\n",
       "                .geemap-dark .jupyter-button {\n",
       "                    --jp-layout-color3: #383838;\n",
       "                }\n",
       "\n",
       "                .geemap-colab {\n",
       "                    background-color: var(--colab-primary-surface-color, white);\n",
       "                }\n",
       "\n",
       "                .geemap-colab .jupyter-button {\n",
       "                    --jp-layout-color3: var(--colab-primary-surface-color, white);\n",
       "                }\n",
       "            </style>\n",
       "            "
      ],
      "text/plain": [
       "<IPython.core.display.HTML object>"
      ]
     },
     "metadata": {},
     "output_type": "display_data"
    },
    {
     "data": {
      "application/vnd.jupyter.widget-view+json": {
       "model_id": "713baa078a204b53947c0dbb728a9a78",
       "version_major": 2,
       "version_minor": 0
      },
      "text/plain": [
       "Map(center=[46.78675332740657, 6.874554339425382], controls=(WidgetControl(options=['position', 'transparent_b…"
      ]
     },
     "execution_count": 17,
     "metadata": {},
     "output_type": "execute_result"
    }
   ],
   "source": [
    "et_blue_postprocessed_check_list = et_blue_postprocessed_check.toList(et_blue_postprocessed_check.size())\n",
    "\n",
    "image_7 = ee.Image(et_blue_postprocessed_check_list.get(-2))\n",
    "\n",
    "Map = geemap.Map()\n",
    "\n",
    "vis_params = {\n",
    "    \"bands\": [\"ET_blue\"],\n",
    "    \"min\": 0,\n",
    "    \"max\": 2,\n",
    "    \"palette\": [\"blue\", \"green\", \"yellow\", \"red\"],\n",
    "}\n",
    "\n",
    "Map.addLayer(image_7, vis_params, \"ET_blue\")\n",
    "Map.center_object(aoi, 12)\n",
    "Map"
   ]
  },
  {
   "cell_type": "code",
   "execution_count": null,
   "metadata": {},
   "outputs": [],
   "source": []
  },
  {
   "cell_type": "code",
   "execution_count": null,
   "metadata": {},
   "outputs": [],
   "source": []
  }
 ],
 "metadata": {
  "kernelspec": {
   "display_name": "venv",
   "language": "python",
   "name": "python3"
  },
  "language_info": {
   "codemirror_mode": {
    "name": "ipython",
    "version": 3
   },
   "file_extension": ".py",
   "mimetype": "text/x-python",
   "name": "python",
   "nbconvert_exporter": "python",
   "pygments_lexer": "ipython3",
   "version": "3.9.0"
  }
 },
 "nbformat": 4,
 "nbformat_minor": 2
}
