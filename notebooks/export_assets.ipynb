{
 "cells": [
  {
   "cell_type": "code",
   "execution_count": 1,
   "metadata": {},
   "outputs": [],
   "source": [
    "import sys\n",
    "import os\n",
    "\n",
    "sys.path.append(os.path.abspath(os.path.join('..')))"
   ]
  },
  {
   "cell_type": "code",
   "execution_count": 2,
   "metadata": {},
   "outputs": [
    {
     "name": "stderr",
     "output_type": "stream",
     "text": [
      "*** Earth Engine *** Share your feedback by taking our Annual Developer Satisfaction Survey: https://google.qualtrics.com/jfe/form/SV_0JLhFqfSY1uiEaW?source=Init\n"
     ]
    }
   ],
   "source": [
    "import ee\n",
    "import geemap\n",
    "\n",
    "from vegetation_period_NDVI.time_series import extract_time_ranges, get_harmonic_ts\n",
    "from vegetation_period_NDVI.vegetation_period_extraction import (\n",
    "    get_crop_veg_period,\n",
    "    create_binary_ndvi_indicator,\n",
    "    create_binary_mask,\n",
    ")\n",
    "from typing import List"
   ]
  },
  {
   "cell_type": "code",
   "execution_count": 3,
   "metadata": {},
   "outputs": [
    {
     "data": {
      "text/html": [
       "\n",
       "            <style>\n",
       "                .geemap-dark {\n",
       "                    --jp-widgets-color: white;\n",
       "                    --jp-widgets-label-color: white;\n",
       "                    --jp-ui-font-color1: white;\n",
       "                    --jp-layout-color2: #454545;\n",
       "                    background-color: #383838;\n",
       "                }\n",
       "\n",
       "                .geemap-dark .jupyter-button {\n",
       "                    --jp-layout-color3: #383838;\n",
       "                }\n",
       "\n",
       "                .geemap-colab {\n",
       "                    background-color: var(--colab-primary-surface-color, white);\n",
       "                }\n",
       "\n",
       "                .geemap-colab .jupyter-button {\n",
       "                    --jp-layout-color3: var(--colab-primary-surface-color, white);\n",
       "                }\n",
       "            </style>\n",
       "            "
      ],
      "text/plain": [
       "<IPython.core.display.HTML object>"
      ]
     },
     "metadata": {},
     "output_type": "display_data"
    }
   ],
   "source": [
    "ee.Initialize(project=\"ee-sahellakes\")\n"
   ]
  },
  {
   "cell_type": "code",
   "execution_count": 7,
   "metadata": {},
   "outputs": [
    {
     "data": {
      "text/html": [
       "\n",
       "            <style>\n",
       "                .geemap-dark {\n",
       "                    --jp-widgets-color: white;\n",
       "                    --jp-widgets-label-color: white;\n",
       "                    --jp-ui-font-color1: white;\n",
       "                    --jp-layout-color2: #454545;\n",
       "                    background-color: #383838;\n",
       "                }\n",
       "\n",
       "                .geemap-dark .jupyter-button {\n",
       "                    --jp-layout-color3: #383838;\n",
       "                }\n",
       "\n",
       "                .geemap-colab {\n",
       "                    background-color: var(--colab-primary-surface-color, white);\n",
       "                }\n",
       "\n",
       "                .geemap-colab .jupyter-button {\n",
       "                    --jp-layout-color3: var(--colab-primary-surface-color, white);\n",
       "                }\n",
       "            </style>\n",
       "            "
      ],
      "text/plain": [
       "<IPython.core.display.HTML object>"
      ]
     },
     "metadata": {},
     "output_type": "display_data"
    },
    {
     "data": {
      "text/plain": [
       "['firstStart', 'firstEnd', 'secondStart', 'secondEnd', 'isDoubleCropping']"
      ]
     },
     "execution_count": 7,
     "metadata": {},
     "output_type": "execute_result"
    }
   ],
   "source": [
    "double_cropping = ee.Image(\"projects/thurgau-irrigation/assets/Zuerich/crop_vegetation_period_zh_2022\")\n",
    "\n",
    "double_cropping.bandNames().getInfo()"
   ]
  },
  {
   "cell_type": "code",
   "execution_count": 8,
   "metadata": {},
   "outputs": [
    {
     "data": {
      "text/html": [
       "\n",
       "            <style>\n",
       "                .geemap-dark {\n",
       "                    --jp-widgets-color: white;\n",
       "                    --jp-widgets-label-color: white;\n",
       "                    --jp-ui-font-color1: white;\n",
       "                    --jp-layout-color2: #454545;\n",
       "                    background-color: #383838;\n",
       "                }\n",
       "\n",
       "                .geemap-dark .jupyter-button {\n",
       "                    --jp-layout-color3: #383838;\n",
       "                }\n",
       "\n",
       "                .geemap-colab {\n",
       "                    background-color: var(--colab-primary-surface-color, white);\n",
       "                }\n",
       "\n",
       "                .geemap-colab .jupyter-button {\n",
       "                    --jp-layout-color3: var(--colab-primary-surface-color, white);\n",
       "                }\n",
       "            </style>\n",
       "            "
      ],
      "text/plain": [
       "<IPython.core.display.HTML object>"
      ]
     },
     "metadata": {},
     "output_type": "display_data"
    },
    {
     "data": {
      "application/vnd.jupyter.widget-view+json": {
       "model_id": "d674021d25cf4510a79c0d7320a509c8",
       "version_major": 2,
       "version_minor": 0
      },
      "text/plain": [
       "Map(center=[0, 0], controls=(WidgetControl(options=['position', 'transparent_bg'], widget=SearchDataGUI(childr…"
      ]
     },
     "execution_count": 8,
     "metadata": {},
     "output_type": "execute_result"
    }
   ],
   "source": [
    "Map = geemap.Map()\n",
    "\n",
    "vis_params = {\n",
    "    \"bands\": [\"isDoubleCropping\"],\n",
    "    \"min\": 0,\n",
    "    \"max\": 1,\n",
    "    \"palette\": [\"white\", \"green\"],\n",
    "}\n",
    "Map.addLayer(double_cropping, vis_params, \"Double Cropping\")\n",
    "\n",
    "Map"
   ]
  },
  {
   "cell_type": "code",
   "execution_count": null,
   "metadata": {},
   "outputs": [],
   "source": []
  },
  {
   "cell_type": "markdown",
   "metadata": {},
   "source": [
    "## Exporting the vegetation period images as an asset to the project"
   ]
  },
  {
   "cell_type": "markdown",
   "metadata": {},
   "source": [
    "### Define the Area of Interest"
   ]
  },
  {
   "cell_type": "code",
   "execution_count": 4,
   "metadata": {},
   "outputs": [
    {
     "data": {
      "text/html": [
       "\n",
       "            <style>\n",
       "                .geemap-dark {\n",
       "                    --jp-widgets-color: white;\n",
       "                    --jp-widgets-label-color: white;\n",
       "                    --jp-ui-font-color1: white;\n",
       "                    --jp-layout-color2: #454545;\n",
       "                    background-color: #383838;\n",
       "                }\n",
       "\n",
       "                .geemap-dark .jupyter-button {\n",
       "                    --jp-layout-color3: #383838;\n",
       "                }\n",
       "\n",
       "                .geemap-colab {\n",
       "                    background-color: var(--colab-primary-surface-color, white);\n",
       "                }\n",
       "\n",
       "                .geemap-colab .jupyter-button {\n",
       "                    --jp-layout-color3: var(--colab-primary-surface-color, white);\n",
       "                }\n",
       "            </style>\n",
       "            "
      ],
      "text/plain": [
       "<IPython.core.display.HTML object>"
      ]
     },
     "metadata": {},
     "output_type": "display_data"
    }
   ],
   "source": [
    "# cantonal_borders_asset = \"projects/thurgau-irrigation/assets/Zuerich/Zuerich_bound\"\n",
    "\n",
    "# aoi_feature_collection = ee.FeatureCollection(cantonal_borders_asset)\n",
    "# aoi_geometry = aoi_feature_collection.geometry()\n",
    "# aoi_geometry = aoi_geometry.simplify(500)\n",
    "# aoi_buffered = aoi_geometry.buffer(100)\n",
    "\n",
    "# aoi_name = \"Zuerich\"\n",
    "\n",
    "\n",
    "# List of countries\n",
    "countries = ee.List([\n",
    "    'Albania',\n",
    "    'Bulgaria',\n",
    "    'Bosnia & Herzegovina',\n",
    "    'Croatia',\n",
    "    'Moldova',\n",
    "    'Macedonia',\n",
    "    'Montenegro',\n",
    "    'Poland',\n",
    "    'Romania',\n",
    "    'Serbia',\n",
    "    'Turkey',\n",
    "    'Kosovo'\n",
    "])\n",
    "\n",
    "# Load the FeatureCollection\n",
    "grid_results = ee.FeatureCollection('projects/ee-et-data/assets/ECA/GRID_area_irrg_WorldCereal_Corine_v2')\n",
    "borders=ee.FeatureCollection(\"USDOS/LSIB_SIMPLE/2017\")\n",
    "# Map over the FeatureCollection to add a 'combined' property\n",
    "grid_results = grid_results.map(lambda ft: ft.set(\n",
    "    'combined',\n",
    "    ee.Number(ft.get('Corine')).gt(0).Or(ee.Number(ft.get('WorldCereal')).gt(1000))\n",
    "))\n",
    "\n",
    "# Filter features where 'combined' equals 1\n",
    "loaded_collections = grid_results.filter(ee.Filter.eq('combined', 1))\n",
    "\n",
    "# Function to filter borders for each country and combine them\n",
    "def add_to_list(str, previous):\n",
    "    previous = ee.List(previous)\n",
    "    return previous.add(borders.filter(ee.Filter.eq('country_na', ee.String(str))).first())\n",
    "\n",
    "# Accumulate borders for the specified countries\n",
    "borders_ECA = ee.List(countries.iterate(add_to_list, ee.List([])))\n",
    "borders_ECA = ee.FeatureCollection(borders_ECA)\n",
    "\n",
    "# Filter loadedCollections to the bounds of the borders_ECA\n",
    "loaded_collections = loaded_collections.filterBounds(borders_ECA)\n",
    "\n",
    "# Map over loadedCollections to set 'fid' and 'scheme_property_name'\n",
    "scheme_property_name = 'fid_property'  # Replace with your actual scheme property name\n",
    "aoi_buffered = loaded_collections.map(lambda ft: ft.set(\n",
    "        'fid', ee.Number(ft.get('fid'))\n",
    "    ).set(\n",
    "        scheme_property_name, ee.String('fid_').cat(ee.String(ft.get('fid')))\n",
    "    ))\n",
    "fids=aoi_buffered.aggregate_array('fid').getInfo()\n",
    "# print(len(fids))\n",
    "\n",
    "# Get the first feature and its geometry\n",
    "aoi_feature = aoi_buffered.filter(ee.Filter.eq('fid',27721)).first()\n",
    "aoi_geometry = aoi_feature.geometry()\n",
    "\n",
    "# Define the AOI\n",
    "aoi = aoi_geometry\n",
    "\n",
    "# Define a crop mask\n",
    "WorldCereal=ee.ImageCollection(\"ESA/WorldCereal/2021/MODELS/v100\");\n",
    "CORINE=ee.Image(\"COPERNICUS/CORINE/V20/100m/2018\")\n",
    "CORINE_mosaic=CORINE.eq(212).Or(CORINE.eq(213)).selfMask()\n",
    "\n",
    "# Define the LULC mask using WorldCereal and blend with CORINE mosaic\n",
    "lulc = (\n",
    "    WorldCereal.filter(ee.Filter.eq('product', 'temporarycrops')).max()\n",
    "    .select('classification').gt(50).selfMask()\n",
    "    .updateMask(\n",
    "        WorldCereal.filter(ee.Filter.eq('product', 'temporarycrops')).max()\n",
    "        .select('confidence').gt(50)\n",
    "    )\n",
    "    .unmask(0)\n",
    "    .blend(CORINE_mosaic)\n",
    "    .selfMask()\n",
    ")\n",
    "\n",
    "#keep only WorldCereal_temporarycrops, mask all the rest\n",
    "#clip with country boundaries\n",
    "#make sure the date of the WAPOR image is the middle of the month\n",
    "#file name: use fid"
   ]
  },
  {
   "cell_type": "markdown",
   "metadata": {},
   "source": [
    "### Define the years of interest"
   ]
  },
  {
   "cell_type": "code",
   "execution_count": 5,
   "metadata": {},
   "outputs": [
    {
     "data": {
      "text/html": [
       "\n",
       "            <style>\n",
       "                .geemap-dark {\n",
       "                    --jp-widgets-color: white;\n",
       "                    --jp-widgets-label-color: white;\n",
       "                    --jp-ui-font-color1: white;\n",
       "                    --jp-layout-color2: #454545;\n",
       "                    background-color: #383838;\n",
       "                }\n",
       "\n",
       "                .geemap-dark .jupyter-button {\n",
       "                    --jp-layout-color3: #383838;\n",
       "                }\n",
       "\n",
       "                .geemap-colab {\n",
       "                    background-color: var(--colab-primary-surface-color, white);\n",
       "                }\n",
       "\n",
       "                .geemap-colab .jupyter-button {\n",
       "                    --jp-layout-color3: var(--colab-primary-surface-color, white);\n",
       "                }\n",
       "            </style>\n",
       "            "
      ],
      "text/plain": [
       "<IPython.core.display.HTML object>"
      ]
     },
     "metadata": {},
     "output_type": "display_data"
    }
   ],
   "source": [
    "years = [2021]"
   ]
  },
  {
   "cell_type": "markdown",
   "metadata": {},
   "source": [
    "### Export the Vegetation Periods images to the project assets"
   ]
  },
  {
   "cell_type": "code",
   "execution_count": 6,
   "metadata": {},
   "outputs": [
    {
     "data": {
      "text/html": [
       "\n",
       "            <style>\n",
       "                .geemap-dark {\n",
       "                    --jp-widgets-color: white;\n",
       "                    --jp-widgets-label-color: white;\n",
       "                    --jp-ui-font-color1: white;\n",
       "                    --jp-layout-color2: #454545;\n",
       "                    background-color: #383838;\n",
       "                }\n",
       "\n",
       "                .geemap-dark .jupyter-button {\n",
       "                    --jp-layout-color3: #383838;\n",
       "                }\n",
       "\n",
       "                .geemap-colab {\n",
       "                    background-color: var(--colab-primary-surface-color, white);\n",
       "                }\n",
       "\n",
       "                .geemap-colab .jupyter-button {\n",
       "                    --jp-layout-color3: var(--colab-primary-surface-color, white);\n",
       "                }\n",
       "            </style>\n",
       "            "
      ],
      "text/plain": [
       "<IPython.core.display.HTML object>"
      ]
     },
     "metadata": {},
     "output_type": "display_data"
    },
    {
     "name": "stdout",
     "output_type": "stream",
     "text": [
      "58\n",
      "4\n"
     ]
    }
   ],
   "source": [
    "print(len(fids[432:]))\n",
    "index = fids.index(27721)  # Get the index of 27300\n",
    "print(index)  # Output: 2"
   ]
  },
  {
   "cell_type": "code",
   "execution_count": null,
   "metadata": {},
   "outputs": [
    {
     "data": {
      "text/html": [
       "\n",
       "            <style>\n",
       "                .geemap-dark {\n",
       "                    --jp-widgets-color: white;\n",
       "                    --jp-widgets-label-color: white;\n",
       "                    --jp-ui-font-color1: white;\n",
       "                    --jp-layout-color2: #454545;\n",
       "                    background-color: #383838;\n",
       "                }\n",
       "\n",
       "                .geemap-dark .jupyter-button {\n",
       "                    --jp-layout-color3: #383838;\n",
       "                }\n",
       "\n",
       "                .geemap-colab {\n",
       "                    background-color: var(--colab-primary-surface-color, white);\n",
       "                }\n",
       "\n",
       "                .geemap-colab .jupyter-button {\n",
       "                    --jp-layout-color3: var(--colab-primary-surface-color, white);\n",
       "                }\n",
       "            </style>\n",
       "            "
      ],
      "text/plain": [
       "<IPython.core.display.HTML object>"
      ]
     },
     "metadata": {},
     "output_type": "display_data"
    },
    {
     "name": "stdout",
     "output_type": "stream",
     "text": [
      "Processing year 2021\n",
      "Exporting crop_veg_period_2021_F32626 to projects/ee-et-data/assets/ECA/ET_data/VegPeriods/crop_veg_period_2021_F32626\n",
      "Processing year 2021\n",
      "Exporting crop_veg_period_2021_F32627 to projects/ee-et-data/assets/ECA/ET_data/VegPeriods/crop_veg_period_2021_F32627\n",
      "Processing year 2021\n",
      "Exporting crop_veg_period_2021_F32628 to projects/ee-et-data/assets/ECA/ET_data/VegPeriods/crop_veg_period_2021_F32628\n",
      "Processing year 2021\n",
      "Exporting crop_veg_period_2021_F32629 to projects/ee-et-data/assets/ECA/ET_data/VegPeriods/crop_veg_period_2021_F32629\n",
      "Processing year 2021\n",
      "Exporting crop_veg_period_2021_F32630 to projects/ee-et-data/assets/ECA/ET_data/VegPeriods/crop_veg_period_2021_F32630\n",
      "Processing year 2021\n",
      "Exporting crop_veg_period_2021_F32631 to projects/ee-et-data/assets/ECA/ET_data/VegPeriods/crop_veg_period_2021_F32631\n",
      "Processing year 2021\n",
      "Exporting crop_veg_period_2021_F32632 to projects/ee-et-data/assets/ECA/ET_data/VegPeriods/crop_veg_period_2021_F32632\n",
      "Processing year 2021\n",
      "Exporting crop_veg_period_2021_F32633 to projects/ee-et-data/assets/ECA/ET_data/VegPeriods/crop_veg_period_2021_F32633\n",
      "Processing year 2021\n",
      "Exporting crop_veg_period_2021_F32641 to projects/ee-et-data/assets/ECA/ET_data/VegPeriods/crop_veg_period_2021_F32641\n",
      "Processing year 2021\n",
      "Exporting crop_veg_period_2021_F32643 to projects/ee-et-data/assets/ECA/ET_data/VegPeriods/crop_veg_period_2021_F32643\n",
      "Processing year 2021\n",
      "Exporting crop_veg_period_2021_F32644 to projects/ee-et-data/assets/ECA/ET_data/VegPeriods/crop_veg_period_2021_F32644\n",
      "Processing year 2021\n",
      "Exporting crop_veg_period_2021_F32645 to projects/ee-et-data/assets/ECA/ET_data/VegPeriods/crop_veg_period_2021_F32645\n",
      "Processing year 2021\n"
     ]
    }
   ],
   "source": [
    "# fid_name=27721\n",
    "for fid in fids[100:]:\n",
    "    fid_name=fid\n",
    "    # Filter the aoi_buffered collection for the current fid\n",
    "    aoi_geometry = aoi_buffered.filter(ee.Filter.eq('fid', fid)).first().geometry()\n",
    "    for year in years:\n",
    "\n",
    "        print(f\"Processing year {year}\")\n",
    "\n",
    "        time_intervals = extract_time_ranges([f\"{year}-03-01\", f\"{year}-10-31\"], 15)\n",
    "\n",
    "        image_to_export = get_crop_veg_period(year, aoi_geometry, time_intervals)\n",
    "\n",
    "        task_name = f\"crop_veg_period_{year}_F{fid_name}\"\n",
    "        asset_id = f\"projects/ee-et-data/assets/ECA/ET_data/VegPeriods/crop_veg_period_{year}_F{fid_name}\"\n",
    "\n",
    "        bands_to_export = [\n",
    "            \"firstStart\",\n",
    "            \"firstEnd\",\n",
    "            \"secondStart\",\n",
    "            \"secondEnd\",\n",
    "            \"isDoubleCropping\",\n",
    "        ]\n",
    "\n",
    "        image_to_export = image_to_export.select(bands_to_export).updateMask(lulc.eq(1)).set(\"fid\", fid_name)\n",
    "        # print(image_to_export.getInfo())\n",
    "        task = ee.batch.Export.image.toAsset(\n",
    "            image=image_to_export,\n",
    "            description=task_name,\n",
    "            assetId=asset_id,\n",
    "            region=aoi_geometry,\n",
    "            scale=10,\n",
    "            maxPixels=1e13,\n",
    "        )\n",
    "\n",
    "        task.start()\n",
    "\n",
    "        print(f\"Exporting {task_name} to {asset_id}\")"
   ]
  },
  {
   "cell_type": "code",
   "execution_count": null,
   "metadata": {},
   "outputs": [],
   "source": [
    "print(image_to_export.projection().getInfo())"
   ]
  },
  {
   "cell_type": "code",
   "execution_count": null,
   "metadata": {},
   "outputs": [],
   "source": [
    "# veg_2019 = ee.Image(\"projects/thurgau-irrigation/assets/Thurgau/VegetationPeriod/crop_veg_period_2018\")\n",
    "\n",
    "# Map = geemap.Map()\n",
    "# Map.centerObject(aoi_geometry, 10)\n",
    "# options = {\n",
    "#     \"bands\": [\"isDoubleCropping\"],\n",
    "#     \"min\": 0,\n",
    "#     \"max\": 1,\n",
    "#     \"palette\": [\"blue\", \"red\"],\n",
    "# }\n",
    "# Map.addLayer(veg_2019, options, \"Crop Veg Period 2019\")\n",
    "\n",
    "# Map"
   ]
  },
  {
   "cell_type": "markdown",
   "metadata": {},
   "source": [
    "## General Code Testing. Ignore this part"
   ]
  },
  {
   "cell_type": "code",
   "execution_count": 5,
   "metadata": {},
   "outputs": [
    {
     "data": {
      "text/html": [
       "\n",
       "            <style>\n",
       "                .geemap-dark {\n",
       "                    --jp-widgets-color: white;\n",
       "                    --jp-widgets-label-color: white;\n",
       "                    --jp-ui-font-color1: white;\n",
       "                    --jp-layout-color2: #454545;\n",
       "                    background-color: #383838;\n",
       "                }\n",
       "\n",
       "                .geemap-dark .jupyter-button {\n",
       "                    --jp-layout-color3: #383838;\n",
       "                }\n",
       "\n",
       "                .geemap-colab {\n",
       "                    background-color: var(--colab-primary-surface-color, white);\n",
       "                }\n",
       "\n",
       "                .geemap-colab .jupyter-button {\n",
       "                    --jp-layout-color3: var(--colab-primary-surface-color, white);\n",
       "                }\n",
       "            </style>\n",
       "            "
      ],
      "text/plain": [
       "<IPython.core.display.HTML object>"
      ]
     },
     "metadata": {},
     "output_type": "display_data"
    },
    {
     "name": "stdout",
     "output_type": "stream",
     "text": [
      "Processing year 2021\n",
      "['firstStart', 'firstEnd', 'secondStart', 'secondEnd', 'isDoubleCropping']\n"
     ]
    }
   ],
   "source": [
    "print(f\"Processing year 2021\")\n",
    "\n",
    "time_intervals = extract_time_ranges([f\"2021-03-01\", f\"2021-10-31\"], 15)\n",
    "\n",
    "image_to_export = get_crop_veg_period(2021, aoi_geometry, time_intervals)\n",
    "print(image_to_export.bandNames().getInfo())"
   ]
  },
  {
   "cell_type": "code",
   "execution_count": null,
   "metadata": {},
   "outputs": [],
   "source": [
    "Map = geemap.Map()\n",
    "Map.centerObject(aoi_geometry, 10)\n",
    "options = {\n",
    "    \"bands\": [\"isDoubleCropping\"],\n",
    "    \"min\": 0,\n",
    "    \"max\": 1,\n",
    "    \"palette\": [\"blue\", \"red\"],\n",
    "}\n",
    "Map.addLayer(image_to_export, options, \"Crop Veg Period 2019\")\n",
    "\n",
    "Map"
   ]
  },
  {
   "cell_type": "code",
   "execution_count": null,
   "metadata": {},
   "outputs": [],
   "source": []
  },
  {
   "cell_type": "code",
   "execution_count": null,
   "metadata": {},
   "outputs": [],
   "source": []
  }
 ],
 "metadata": {
  "kernelspec": {
   "display_name": "venv",
   "language": "python",
   "name": "python3"
  },
  "language_info": {
   "codemirror_mode": {
    "name": "ipython",
    "version": 3
   },
   "file_extension": ".py",
   "mimetype": "text/x-python",
   "name": "python",
   "nbconvert_exporter": "python",
   "pygments_lexer": "ipython3",
   "version": "3.11.6"
  }
 },
 "nbformat": 4,
 "nbformat_minor": 2
}
