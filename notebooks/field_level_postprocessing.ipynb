{
 "cells": [
  {
   "cell_type": "code",
   "execution_count": 42,
   "metadata": {},
   "outputs": [
    {
     "data": {
      "text/html": [
       "\n",
       "            <style>\n",
       "                .geemap-dark {\n",
       "                    --jp-widgets-color: white;\n",
       "                    --jp-widgets-label-color: white;\n",
       "                    --jp-ui-font-color1: white;\n",
       "                    --jp-layout-color2: #454545;\n",
       "                    background-color: #383838;\n",
       "                }\n",
       "\n",
       "                .geemap-dark .jupyter-button {\n",
       "                    --jp-layout-color3: #383838;\n",
       "                }\n",
       "\n",
       "                .geemap-colab {\n",
       "                    background-color: var(--colab-primary-surface-color, white);\n",
       "                }\n",
       "\n",
       "                .geemap-colab .jupyter-button {\n",
       "                    --jp-layout-color3: var(--colab-primary-surface-color, white);\n",
       "                }\n",
       "            </style>\n",
       "            "
      ],
      "text/plain": [
       "<IPython.core.display.HTML object>"
      ]
     },
     "metadata": {},
     "output_type": "display_data"
    }
   ],
   "source": [
    "import sys\n",
    "from pathlib import Path\n",
    "sys.path.append(str(Path().absolute().parent))\n"
   ]
  },
  {
   "cell_type": "code",
   "execution_count": 43,
   "metadata": {},
   "outputs": [
    {
     "data": {
      "text/html": [
       "\n",
       "            <style>\n",
       "                .geemap-dark {\n",
       "                    --jp-widgets-color: white;\n",
       "                    --jp-widgets-label-color: white;\n",
       "                    --jp-ui-font-color1: white;\n",
       "                    --jp-layout-color2: #454545;\n",
       "                    background-color: #383838;\n",
       "                }\n",
       "\n",
       "                .geemap-dark .jupyter-button {\n",
       "                    --jp-layout-color3: #383838;\n",
       "                }\n",
       "\n",
       "                .geemap-colab {\n",
       "                    background-color: var(--colab-primary-surface-color, white);\n",
       "                }\n",
       "\n",
       "                .geemap-colab .jupyter-button {\n",
       "                    --jp-layout-color3: var(--colab-primary-surface-color, white);\n",
       "                }\n",
       "            </style>\n",
       "            "
      ],
      "text/plain": [
       "<IPython.core.display.HTML object>"
      ]
     },
     "metadata": {},
     "output_type": "display_data"
    }
   ],
   "source": [
    "import ee \n",
    "import geemap\n",
    "\n",
    "ee.Initialize(project=\"ee-india-reservoirs\")"
   ]
  },
  {
   "cell_type": "code",
   "execution_count": 44,
   "metadata": {},
   "outputs": [
    {
     "data": {
      "text/html": [
       "\n",
       "            <style>\n",
       "                .geemap-dark {\n",
       "                    --jp-widgets-color: white;\n",
       "                    --jp-widgets-label-color: white;\n",
       "                    --jp-ui-font-color1: white;\n",
       "                    --jp-layout-color2: #454545;\n",
       "                    background-color: #383838;\n",
       "                }\n",
       "\n",
       "                .geemap-dark .jupyter-button {\n",
       "                    --jp-layout-color3: #383838;\n",
       "                }\n",
       "\n",
       "                .geemap-colab {\n",
       "                    background-color: var(--colab-primary-surface-color, white);\n",
       "                }\n",
       "\n",
       "                .geemap-colab .jupyter-button {\n",
       "                    --jp-layout-color3: var(--colab-primary-surface-color, white);\n",
       "                }\n",
       "            </style>\n",
       "            "
      ],
      "text/plain": [
       "<IPython.core.display.HTML object>"
      ]
     },
     "metadata": {},
     "output_type": "display_data"
    }
   ],
   "source": [
    "from typing import Tuple\n",
    "import matplotlib.pyplot as plt\n",
    "import seaborn as sns\n",
    "import numpy as np\n",
    "import pandas as pd\n",
    "\n",
    "from src.et_blue_per_field.et_blue_field_postprocessing import (\n",
    "    compute_field_et_stats,\n",
    "    compute_et_volume,\n",
    "    threshold_et_volume,\n",
    ")\n",
    "from src.et_blue_per_field.etc_look_up_processing import (\n",
    "    add_date_column,\n",
    "    compute_et_ratio_timeseries,\n",
    "    plot_multiple_et_ratio_timeseries,\n",
    "    create_et_mask,\n",
    ")\n",
    "\n",
    "from utils.ee_utils import (\n",
    "    back_to_float,\n",
    "    back_to_int,\n",
    "    export_image_to_asset,\n",
    "    print_value_ranges,\n",
    "    is_image_empty,\n",
    "    fill_gaps_with_zeros,\n",
    "    export_feature_collection,\n",
    ")\n",
    "\n",
    "from utils.date_utils import print_collection_dates, merge_same_date_images"
   ]
  },
  {
   "cell_type": "markdown",
   "metadata": {},
   "source": [
    "---"
   ]
  },
  {
   "cell_type": "markdown",
   "metadata": {},
   "source": [
    "## Constants"
   ]
  },
  {
   "cell_type": "code",
   "execution_count": null,
   "metadata": {},
   "outputs": [
    {
     "data": {
      "text/html": [
       "\n",
       "            <style>\n",
       "                .geemap-dark {\n",
       "                    --jp-widgets-color: white;\n",
       "                    --jp-widgets-label-color: white;\n",
       "                    --jp-ui-font-color1: white;\n",
       "                    --jp-layout-color2: #454545;\n",
       "                    background-color: #383838;\n",
       "                }\n",
       "\n",
       "                .geemap-dark .jupyter-button {\n",
       "                    --jp-layout-color3: #383838;\n",
       "                }\n",
       "\n",
       "                .geemap-colab {\n",
       "                    background-color: var(--colab-primary-surface-color, white);\n",
       "                }\n",
       "\n",
       "                .geemap-colab .jupyter-button {\n",
       "                    --jp-layout-color3: var(--colab-primary-surface-color, white);\n",
       "                }\n",
       "            </style>\n",
       "            "
      ],
      "text/plain": [
       "<IPython.core.display.HTML object>"
      ]
     },
     "metadata": {},
     "output_type": "display_data"
    }
   ],
   "source": [
    "YEAR = 2019\n",
    "\n",
    "ETC_THRESHOLD = 0.65\n",
    "MINIMUM_IRRIGATION_THRESHOLD = 0\n",
    "\n",
    "ET_PRODUCT = \"Landsat_30m\"\n",
    "# ET_PRODUCT = \"WaPOR_10m\"\n",
    "\n",
    "\n",
    "PATH_TO_ET_BLUE_POSTPROCESSED = f\"projects/thurgau-irrigation/assets/FribourgAndVaud/ET_blue_postprocessed/ET_blue_postprocessed_dekadal_from_{ET_PRODUCT}_v2\"\n",
    "PATH_TO_FIELD_BOUNDARIES = (\n",
    "    f\"projects/thurgau-irrigation/assets/FribourgAndVaud/blind_potato_fields\"\n",
    ")\n",
    "PATH_TO_ET_GREEN = f\"projects/thurgau-irrigation/assets/FribourgAndVaud/ET_green/ET_green_dekadal_from_{ET_PRODUCT}_v2\"\n",
    "\n",
    "PATH_TO_ETF = \"projects/thurgau-irrigation/assets/FribourgAndVaud/ETF_Landsat/ETF_Pasture_dekadal_v2\"\n",
    "PATH_TO_ETC_LOOK_UP = (\n",
    "    f\"projects/thurgau-irrigation/assets/FribourgAndVaud/ETc_WAPOR/ETc_Pasture_Broye\"\n",
    ")\n",
    "\n",
    "Kcs = ee.FeatureCollection('projects/thurgau-irrigation/assets/FribourgAndVaud/ETc_WAPOR/Kc_Pasture_Broye_Aquastat')\n",
    "\n",
    "\n",
    "TEMPORAL_RESOLUTION = \"dekadal\"\n",
    "SCALING_FACTOR = 100\n",
    "# PATH_TO_POSTPROCESSED_FIELD_LEVEL_ET_BLUE = f\"projects/thurgau-irrigation/assets/FribourgAndVaud/ET_blue_per_field/ET_blue_per_field_{YEAR}_{TEMPORAL_RESOLUTION}_from_{ET_PRODUCT}_ETC_threshold_{int(ETC_THRESHOLD * 100)}\"\n",
    "PATH_TO_POSTPROCESSED_FIELD_LEVEL_ET_BLUE = f\"projects/thurgau-irrigation/assets/FribourgAndVaud/ET_blue_per_field_v2/ET_blue_per_field_{YEAR}_{TEMPORAL_RESOLUTION}_from_{ET_PRODUCT}_ETC_threshold_{int(ETC_THRESHOLD * 100)}\""
   ]
  },
  {
   "cell_type": "markdown",
   "metadata": {},
   "source": [
    "## 0. Load the assets"
   ]
  },
  {
   "cell_type": "code",
   "execution_count": 46,
   "metadata": {},
   "outputs": [
    {
     "data": {
      "text/html": [
       "\n",
       "            <style>\n",
       "                .geemap-dark {\n",
       "                    --jp-widgets-color: white;\n",
       "                    --jp-widgets-label-color: white;\n",
       "                    --jp-ui-font-color1: white;\n",
       "                    --jp-layout-color2: #454545;\n",
       "                    background-color: #383838;\n",
       "                }\n",
       "\n",
       "                .geemap-dark .jupyter-button {\n",
       "                    --jp-layout-color3: #383838;\n",
       "                }\n",
       "\n",
       "                .geemap-colab {\n",
       "                    background-color: var(--colab-primary-surface-color, white);\n",
       "                }\n",
       "\n",
       "                .geemap-colab .jupyter-button {\n",
       "                    --jp-layout-color3: var(--colab-primary-surface-color, white);\n",
       "                }\n",
       "            </style>\n",
       "            "
      ],
      "text/plain": [
       "<IPython.core.display.HTML object>"
      ]
     },
     "metadata": {},
     "output_type": "display_data"
    }
   ],
   "source": [
    "crop_fields = ee.FeatureCollection(PATH_TO_FIELD_BOUNDARIES)"
   ]
  },
  {
   "cell_type": "code",
   "execution_count": 47,
   "metadata": {},
   "outputs": [
    {
     "data": {
      "text/html": [
       "\n",
       "            <style>\n",
       "                .geemap-dark {\n",
       "                    --jp-widgets-color: white;\n",
       "                    --jp-widgets-label-color: white;\n",
       "                    --jp-ui-font-color1: white;\n",
       "                    --jp-layout-color2: #454545;\n",
       "                    background-color: #383838;\n",
       "                }\n",
       "\n",
       "                .geemap-dark .jupyter-button {\n",
       "                    --jp-layout-color3: #383838;\n",
       "                }\n",
       "\n",
       "                .geemap-colab {\n",
       "                    background-color: var(--colab-primary-surface-color, white);\n",
       "                }\n",
       "\n",
       "                .geemap-colab .jupyter-button {\n",
       "                    --jp-layout-color3: var(--colab-primary-surface-color, white);\n",
       "                }\n",
       "            </style>\n",
       "            "
      ],
      "text/plain": [
       "<IPython.core.display.HTML object>"
      ]
     },
     "metadata": {},
     "output_type": "display_data"
    },
    {
     "name": "stdout",
     "output_type": "stream",
     "text": [
      "Dates of images in the collection:\n",
      "2019-04-01\n",
      "2019-04-11\n",
      "2019-04-21\n",
      "2019-05-01\n",
      "2019-05-11\n",
      "2019-05-21\n",
      "2019-06-01\n",
      "2019-06-11\n",
      "2019-06-21\n",
      "2019-07-01\n",
      "2019-07-11\n",
      "2019-07-21\n",
      "2019-08-01\n",
      "2019-08-11\n",
      "2019-08-21\n",
      "2019-09-01\n",
      "2019-09-11\n",
      "2019-09-21\n",
      "2019-10-01\n",
      "2019-10-11\n",
      "2019-10-21\n"
     ]
    }
   ],
   "source": [
    "et_green_collection = (\n",
    "    ee.ImageCollection(PATH_TO_ET_GREEN)\n",
    "    .filterDate(f\"{YEAR}-01-01\", f\"{YEAR}-12-31\")\n",
    "    .map(lambda img: back_to_float(img, SCALING_FACTOR))\n",
    ")\n",
    "\n",
    "print_collection_dates(et_green_collection)\n",
    "\n",
    "etf_collection = (\n",
    "    ee.ImageCollection(PATH_TO_ETF)\n",
    "    .filterDate(f\"{YEAR}-01-01\", f\"{YEAR}-12-31\")\n",
    "    .map(lambda img: back_to_float(img, SCALING_FACTOR))\n",
    ")\n",
    "\n",
    "# print_collection_dates(etf_collection)\n",
    "# print(etf_collection.first().getInfo())"
   ]
  },
  {
   "cell_type": "code",
   "execution_count": 48,
   "metadata": {},
   "outputs": [
    {
     "data": {
      "text/html": [
       "\n",
       "            <style>\n",
       "                .geemap-dark {\n",
       "                    --jp-widgets-color: white;\n",
       "                    --jp-widgets-label-color: white;\n",
       "                    --jp-ui-font-color1: white;\n",
       "                    --jp-layout-color2: #454545;\n",
       "                    background-color: #383838;\n",
       "                }\n",
       "\n",
       "                .geemap-dark .jupyter-button {\n",
       "                    --jp-layout-color3: #383838;\n",
       "                }\n",
       "\n",
       "                .geemap-colab {\n",
       "                    background-color: var(--colab-primary-surface-color, white);\n",
       "                }\n",
       "\n",
       "                .geemap-colab .jupyter-button {\n",
       "                    --jp-layout-color3: var(--colab-primary-surface-color, white);\n",
       "                }\n",
       "            </style>\n",
       "            "
      ],
      "text/plain": [
       "<IPython.core.display.HTML object>"
      ]
     },
     "metadata": {},
     "output_type": "display_data"
    },
    {
     "name": "stdout",
     "output_type": "stream",
     "text": [
      "          ETc  Month  Year  dekade  Day       Date\n",
      "0    0.240000      1  2018       1    1 2018-01-01\n",
      "72   0.240000      1  2018       2   11 2018-01-11\n",
      "144  0.320000      1  2018       3   21 2018-01-21\n",
      "1    0.250000      2  2018       1    1 2018-02-01\n",
      "73   0.333333      2  2018       2   11 2018-02-11\n",
      "145  0.400000      2  2018       3   21 2018-02-21\n",
      "2    0.676923      3  2018       1    1 2018-03-01\n",
      "74   0.761538      3  2018       2   11 2018-03-11\n",
      "146  1.114286      3  2018       3   21 2018-03-21\n",
      "3    1.700000      4  2018       1    1 2018-04-01\n",
      "75   2.550000      4  2018       2   11 2018-04-11\n",
      "147  2.805000      4  2018       3   21 2018-04-21\n"
     ]
    }
   ],
   "source": [
    "ETc_look_up = ee.FeatureCollection(PATH_TO_ETC_LOOK_UP)\n",
    "\n",
    "ETc_look_up_df = geemap.ee_to_df(ETc_look_up)\n",
    "\n",
    "ETc_look_up_df = add_date_column(ETc_look_up_df)\n",
    "\n",
    "ETc_look_up_df[\"ETc\"] = ETc_look_up_df[\"ETc\"] / 10\n",
    "\n",
    "ETc_look_up_df = ETc_look_up_df.sort_values(by=\"Date\")\n",
    "\n",
    "print(ETc_look_up_df.head(12))"
   ]
  },
  {
   "cell_type": "code",
   "execution_count": 50,
   "metadata": {},
   "outputs": [
    {
     "data": {
      "text/html": [
       "\n",
       "            <style>\n",
       "                .geemap-dark {\n",
       "                    --jp-widgets-color: white;\n",
       "                    --jp-widgets-label-color: white;\n",
       "                    --jp-ui-font-color1: white;\n",
       "                    --jp-layout-color2: #454545;\n",
       "                    background-color: #383838;\n",
       "                }\n",
       "\n",
       "                .geemap-dark .jupyter-button {\n",
       "                    --jp-layout-color3: #383838;\n",
       "                }\n",
       "\n",
       "                .geemap-colab {\n",
       "                    background-color: var(--colab-primary-surface-color, white);\n",
       "                }\n",
       "\n",
       "                .geemap-colab .jupyter-button {\n",
       "                    --jp-layout-color3: var(--colab-primary-surface-color, white);\n",
       "                }\n",
       "            </style>\n",
       "            "
      ],
      "text/plain": [
       "<IPython.core.display.HTML object>"
      ]
     },
     "metadata": {},
     "output_type": "display_data"
    },
    {
     "name": "stdout",
     "output_type": "stream",
     "text": [
      "Dates of images in the collection:\n",
      "2019-04-01\n",
      "2019-04-11\n",
      "2019-04-21\n",
      "2019-05-01\n",
      "2019-05-11\n",
      "2019-05-21\n",
      "2019-06-01\n",
      "2019-06-11\n",
      "2019-06-21\n",
      "2019-07-01\n",
      "2019-07-11\n",
      "2019-07-21\n",
      "2019-08-01\n",
      "2019-08-11\n",
      "2019-08-21\n",
      "2019-09-01\n",
      "2019-09-11\n",
      "2019-09-21\n",
      "2019-10-01\n",
      "2019-10-11\n",
      "2019-10-21\n"
     ]
    }
   ],
   "source": [
    "et_blue_postprocessed_collection = (\n",
    "    ee.ImageCollection(PATH_TO_ET_BLUE_POSTPROCESSED)\n",
    "    .filterDate(f\"{YEAR}-01-01\", f\"{YEAR}-12-31\")\n",
    "    .map(lambda img: back_to_float(img, SCALING_FACTOR))\n",
    ")\n",
    "\n",
    "print_collection_dates(et_blue_postprocessed_collection)"
   ]
  },
  {
   "cell_type": "markdown",
   "metadata": {},
   "source": [
    "## 1. Mask ET blue pixels where ET green > X * ET<sub>c</sub>"
   ]
  },
  {
   "cell_type": "code",
   "execution_count": null,
   "metadata": {},
   "outputs": [
    {
     "data": {
      "text/html": [
       "\n",
       "            <style>\n",
       "                .geemap-dark {\n",
       "                    --jp-widgets-color: white;\n",
       "                    --jp-widgets-label-color: white;\n",
       "                    --jp-ui-font-color1: white;\n",
       "                    --jp-layout-color2: #454545;\n",
       "                    background-color: #383838;\n",
       "                }\n",
       "\n",
       "                .geemap-dark .jupyter-button {\n",
       "                    --jp-layout-color3: #383838;\n",
       "                }\n",
       "\n",
       "                .geemap-colab {\n",
       "                    background-color: var(--colab-primary-surface-color, white);\n",
       "                }\n",
       "\n",
       "                .geemap-colab .jupyter-button {\n",
       "                    --jp-layout-color3: var(--colab-primary-surface-color, white);\n",
       "                }\n",
       "            </style>\n",
       "            "
      ],
      "text/plain": [
       "<IPython.core.display.HTML object>"
      ]
     },
     "metadata": {},
     "output_type": "display_data"
    },
    {
     "name": "stdout",
     "output_type": "stream",
     "text": [
      "{'type': 'Image', 'bands': [{'id': 'ET_green', 'data_type': {'type': 'PixelType', 'precision': 'int', 'min': 0, 'max': 1}, 'dimensions': [1963, 2387], 'crs': 'EPSG:32632', 'crs_transform': [10, 0, 327440, 0, -10, 5195720]}], 'properties': {'system:footprint': {'type': 'LinearRing', 'coordinates': [[6.743775905774364, 46.67791279248287], [6.74379230131995, 46.67791241686437], [7.000159954652322, 46.68268240154832], [7.000219018288402, 46.6827200237579], [7.000284417647323, 46.682752222712836], [7.000287991453084, 46.68276710852673], [6.992321048706773, 46.89736155309526], [6.992266071471521, 46.897402096941775], [6.992218820269509, 46.897447001422414], [6.99220258585266, 46.89744881274416], [6.992186096673732, 46.89744922681749], [6.734798212460734, 46.89264354279371], [6.734739148440174, 46.89260577097019], [6.734673588281716, 46.89257336178387], [6.734670083481858, 46.89255855419111], [6.743657449128487, 46.67799978995011], [6.743712500643442, 46.67795938716433], [6.7437596658226315, 46.67791456512406], [6.743775905774364, 46.67791279248287]]}, 'system:index': 'ET_green_dekadal_2018_04_D1'}}\n"
     ]
    }
   ],
   "source": [
    "#WAPOR\n",
    "masked_collection = et_green_collection.map(lambda img: create_et_mask(img, ETc_look_up_df, \"ET_green\", ETC_THRESHOLD))\n",
    "print(masked_collection.first().getInfo())"
   ]
  },
  {
   "cell_type": "code",
   "execution_count": 51,
   "metadata": {},
   "outputs": [
    {
     "data": {
      "text/html": [
       "\n",
       "            <style>\n",
       "                .geemap-dark {\n",
       "                    --jp-widgets-color: white;\n",
       "                    --jp-widgets-label-color: white;\n",
       "                    --jp-ui-font-color1: white;\n",
       "                    --jp-layout-color2: #454545;\n",
       "                    background-color: #383838;\n",
       "                }\n",
       "\n",
       "                .geemap-dark .jupyter-button {\n",
       "                    --jp-layout-color3: #383838;\n",
       "                }\n",
       "\n",
       "                .geemap-colab {\n",
       "                    background-color: var(--colab-primary-surface-color, white);\n",
       "                }\n",
       "\n",
       "                .geemap-colab .jupyter-button {\n",
       "                    --jp-layout-color3: var(--colab-primary-surface-color, white);\n",
       "                }\n",
       "            </style>\n",
       "            "
      ],
      "text/plain": [
       "<IPython.core.display.HTML object>"
      ]
     },
     "metadata": {},
     "output_type": "display_data"
    },
    {
     "name": "stdout",
     "output_type": "stream",
     "text": [
      "{'type': 'Image', 'bands': [{'id': 'ET_green', 'data_type': {'type': 'PixelType', 'precision': 'int', 'min': 0, 'max': 1}, 'dimensions': [930, 808], 'crs': 'EPSG:4326', 'crs_transform': [0.00026949458523585647, 0, 6.742754522601129, 0, -0.00026949458523585647, 46.89690873357327]}], 'properties': {'system:footprint': {'type': 'LinearRing', 'coordinates': [[6.742840057232417, 46.679024024339206], [6.742889625316077, 46.679021913253315], [6.868069477481089, 46.679021903923434], [6.993249456148091, 46.67902188670316], [6.9934309890054625, 46.679131526520244], [6.993630903363245, 46.67922486315247], [6.993643191711947, 46.679269125531064], [6.993644857864228, 46.89677400656246], [6.99348432158734, 46.8968983443086], [6.993348045768766, 46.897035474338296], [6.993283046434918, 46.89704391376309], [6.868069474556865, 46.89704398200757], [6.742888961939994, 46.8970439534848], [6.742707147834236, 46.89693418183033], [6.74250657592446, 46.896840978074266], [6.742494185544892, 46.89679651374745], [6.74249575770944, 46.67929184083606], [6.742655765939614, 46.67916738257055], [6.742791993542663, 46.67903026533817], [6.742840057232417, 46.679024024339206]]}, 'system:index': 'ETF_dekadal_2019_04_D1'}}\n"
     ]
    }
   ],
   "source": [
    "#LANDSAT\n",
    "\n",
    "def create_etc_mask(\n",
    "    image: ee.Image,\n",
    "    band_name: str,\n",
    "    threshold: float,\n",
    "    kcs_collection: ee.FeatureCollection,\n",
    ") -> ee.Image:\n",
    "    \"\"\"\n",
    "    Create a mask for the input image by dividing the band values by the corresponding Kc\n",
    "    and applying the threshold.\n",
    "\n",
    "    Args:\n",
    "        image: The input Earth Engine image.\n",
    "        band_name: The name of the band to process.\n",
    "        threshold: The threshold to apply for masking.\n",
    "        kcs_collection: The FeatureCollection containing Kc values.\n",
    "\n",
    "    Returns:\n",
    "        ee.Image: A masked image.\n",
    "    \"\"\"\n",
    "    # Extract the date from the image properties\n",
    "    sensing_date = ee.Date(image.get(\"system:time_start\"))\n",
    "    month = sensing_date.get(\"month\")\n",
    "    decade = sensing_date.get(\"day\").divide(10).ceil()\n",
    "\n",
    "    # Retrieve the corresponding Kc value from the Kcs FeatureCollection\n",
    "    kc_feature = Kcs.filter(\n",
    "        ee.Filter.And(\n",
    "            ee.Filter.eq(\"Month\", month),\n",
    "            ee.Filter.eq(\"Decade\", decade)\n",
    "        )\n",
    "    ).first()\n",
    "    kc = ee.Number(kc_feature.get(\"Kc\"))\n",
    "\n",
    "    # Divide the band by Kc and create the mask\n",
    "    band = image.select(band_name)\n",
    "    divided_band = band.divide(kc)\n",
    "    mask = divided_band.lte(threshold)\n",
    "\n",
    "    # Return the masked image\n",
    "    return mask\n",
    "\n",
    "# Example usage\n",
    "masked_collection = etf_collection.map(\n",
    "    lambda img: create_etc_mask(img, \"ET_green\", ETC_THRESHOLD, Kcs)\n",
    ")\n",
    "print(masked_collection.first().getInfo())"
   ]
  },
  {
   "cell_type": "code",
   "execution_count": 52,
   "metadata": {},
   "outputs": [
    {
     "data": {
      "text/html": [
       "\n",
       "            <style>\n",
       "                .geemap-dark {\n",
       "                    --jp-widgets-color: white;\n",
       "                    --jp-widgets-label-color: white;\n",
       "                    --jp-ui-font-color1: white;\n",
       "                    --jp-layout-color2: #454545;\n",
       "                    background-color: #383838;\n",
       "                }\n",
       "\n",
       "                .geemap-dark .jupyter-button {\n",
       "                    --jp-layout-color3: #383838;\n",
       "                }\n",
       "\n",
       "                .geemap-colab {\n",
       "                    background-color: var(--colab-primary-surface-color, white);\n",
       "                }\n",
       "\n",
       "                .geemap-colab .jupyter-button {\n",
       "                    --jp-layout-color3: var(--colab-primary-surface-color, white);\n",
       "                }\n",
       "            </style>\n",
       "            "
      ],
      "text/plain": [
       "<IPython.core.display.HTML object>"
      ]
     },
     "metadata": {},
     "output_type": "display_data"
    }
   ],
   "source": [
    "def multiply_image_collections(\n",
    "    col1: ee.ImageCollection, col2: ee.ImageCollection, band_name1: str, band_name2: str\n",
    ") -> ee.ImageCollection:\n",
    "    \"\"\"\n",
    "    Multiply images from two collections with matching dates for a specified band.\n",
    "\n",
    "    Args:\n",
    "        col1: First image collection\n",
    "        col2: Second image collection\n",
    "        band_name1: Band name from first collection to multiply\n",
    "        band_name2: Band name from second collection to multiply\n",
    "\n",
    "    Returns:\n",
    "        Image collection containing the multiplied results\n",
    "    \"\"\"\n",
    "    # Sort both collections by date\n",
    "    sorted_col1 = col1.sort(\"system:time_start\")\n",
    "    sorted_col2 = col2.sort(\"system:time_start\")\n",
    "\n",
    "    # Convert to lists for paired iteration\n",
    "    col_list1 = sorted_col1.toList(sorted_col1.size())\n",
    "    col_list2 = sorted_col2.toList(sorted_col2.size())\n",
    "\n",
    "    def multiply_images(index):\n",
    "        # Get corresponding images\n",
    "        img1 = ee.Image(col_list1.get(index))\n",
    "        img2 = ee.Image(col_list2.get(index))\n",
    "\n",
    "        # Multiply the specified bands\n",
    "        result = img1.select(band_name1).multiply(img2.select(band_name2))\n",
    "\n",
    "        # Return result with the timestamp from first collection\n",
    "        return result.copyProperties(img1, [\"system:time_start\"])\n",
    "\n",
    "    # Create sequence for mapping\n",
    "    sequence = ee.List.sequence(0, sorted_col1.size().subtract(1))\n",
    "\n",
    "    # Map multiplication over the sequences\n",
    "    return ee.ImageCollection(sequence.map(multiply_images))"
   ]
  },
  {
   "cell_type": "code",
   "execution_count": 53,
   "metadata": {},
   "outputs": [
    {
     "data": {
      "text/html": [
       "\n",
       "            <style>\n",
       "                .geemap-dark {\n",
       "                    --jp-widgets-color: white;\n",
       "                    --jp-widgets-label-color: white;\n",
       "                    --jp-ui-font-color1: white;\n",
       "                    --jp-layout-color2: #454545;\n",
       "                    background-color: #383838;\n",
       "                }\n",
       "\n",
       "                .geemap-dark .jupyter-button {\n",
       "                    --jp-layout-color3: #383838;\n",
       "                }\n",
       "\n",
       "                .geemap-colab {\n",
       "                    background-color: var(--colab-primary-surface-color, white);\n",
       "                }\n",
       "\n",
       "                .geemap-colab .jupyter-button {\n",
       "                    --jp-layout-color3: var(--colab-primary-surface-color, white);\n",
       "                }\n",
       "            </style>\n",
       "            "
      ],
      "text/plain": [
       "<IPython.core.display.HTML object>"
      ]
     },
     "metadata": {},
     "output_type": "display_data"
    }
   ],
   "source": [
    "et_blue_masked = multiply_image_collections(et_blue_postprocessed_collection, masked_collection, \"ET_blue\", \"ET_green\")\n",
    "et_blue_masked_list = et_blue_masked.toList(et_blue_masked.size())"
   ]
  },
  {
   "cell_type": "markdown",
   "metadata": {},
   "source": [
    "## 2. Compute ET blue statistics per field"
   ]
  },
  {
   "cell_type": "code",
   "execution_count": 54,
   "metadata": {},
   "outputs": [
    {
     "data": {
      "text/html": [
       "\n",
       "            <style>\n",
       "                .geemap-dark {\n",
       "                    --jp-widgets-color: white;\n",
       "                    --jp-widgets-label-color: white;\n",
       "                    --jp-ui-font-color1: white;\n",
       "                    --jp-layout-color2: #454545;\n",
       "                    background-color: #383838;\n",
       "                }\n",
       "\n",
       "                .geemap-dark .jupyter-button {\n",
       "                    --jp-layout-color3: #383838;\n",
       "                }\n",
       "\n",
       "                .geemap-colab {\n",
       "                    background-color: var(--colab-primary-surface-color, white);\n",
       "                }\n",
       "\n",
       "                .geemap-colab .jupyter-button {\n",
       "                    --jp-layout-color3: var(--colab-primary-surface-color, white);\n",
       "                }\n",
       "            </style>\n",
       "            "
      ],
      "text/plain": [
       "<IPython.core.display.HTML object>"
      ]
     },
     "metadata": {},
     "output_type": "display_data"
    }
   ],
   "source": [
    "def count_empty_images_per_month(feature):\n",
    "    properties = feature.propertyNames().filter(\n",
    "        ee.Filter.stringContains(\"item\", \"median_et_blue\")\n",
    "    )\n",
    "\n",
    "    def count_empty_by_month(current_month, prev_feature):\n",
    "        month_str = ee.Number(current_month).format(\"%02d\")\n",
    "        month_props = properties.filter(ee.Filter.stringContains(\"item\", month_str))\n",
    "\n",
    "        empty_count = month_props.map(\n",
    "            lambda prop: ee.Number(\n",
    "                ee.Algorithms.If(ee.Number(feature.get(prop)).eq(-99), 1, 0)\n",
    "            )\n",
    "        ).reduce(ee.Reducer.sum())\n",
    "\n",
    "        prop_name = ee.String(\"empty_images_month_\").cat(month_str)\n",
    "        return ee.Feature(prev_feature).set(prop_name, empty_count)\n",
    "\n",
    "    months = ee.List.sequence(4, 10)\n",
    "    return months.iterate(count_empty_by_month, feature)\n"
   ]
  },
  {
   "cell_type": "code",
   "execution_count": 58,
   "metadata": {},
   "outputs": [
    {
     "data": {
      "text/html": [
       "\n",
       "            <style>\n",
       "                .geemap-dark {\n",
       "                    --jp-widgets-color: white;\n",
       "                    --jp-widgets-label-color: white;\n",
       "                    --jp-ui-font-color1: white;\n",
       "                    --jp-layout-color2: #454545;\n",
       "                    background-color: #383838;\n",
       "                }\n",
       "\n",
       "                .geemap-dark .jupyter-button {\n",
       "                    --jp-layout-color3: #383838;\n",
       "                }\n",
       "\n",
       "                .geemap-colab {\n",
       "                    background-color: var(--colab-primary-surface-color, white);\n",
       "                }\n",
       "\n",
       "                .geemap-colab .jupyter-button {\n",
       "                    --jp-layout-color3: var(--colab-primary-surface-color, white);\n",
       "                }\n",
       "            </style>\n",
       "            "
      ],
      "text/plain": [
       "<IPython.core.display.HTML object>"
      ]
     },
     "metadata": {},
     "output_type": "display_data"
    }
   ],
   "source": [
    "dates = et_blue_masked.aggregate_array(\"system:time_start\")\n",
    "\n",
    "dates = [ee.Date(date).format(\"YYYY-MM-dd\").getInfo() for date in dates.getInfo()]\n",
    "\n",
    "\n",
    "crop_fields_iteration = crop_fields\n",
    "\n",
    "crop_fields_iteration = crop_fields_iteration.map(\n",
    "    lambda f: f.set(\n",
    "        {\n",
    "            \"etc_threshold\": ETC_THRESHOLD,\n",
    "        }\n",
    "    )\n",
    ")\n",
    "\n",
    "for i, date in enumerate(dates):\n",
    "\n",
    "    image = ee.Image(et_blue_masked_list.get(i))\n",
    "\n",
    "    fileds_with_stats = compute_field_et_stats(\n",
    "        et_image=image,\n",
    "        fields=crop_fields_iteration,\n",
    "        et_band_name=\"ET_blue\",\n",
    "        scale=10,\n",
    "        date=date,\n",
    "    )\n",
    "\n",
    "    feature_with_m3 = compute_et_volume(fileds_with_stats, date=date)\n",
    "\n",
    "    feature_with_m3 = threshold_et_volume(\n",
    "        feature_with_m3, threshold=MINIMUM_IRRIGATION_THRESHOLD, date=date\n",
    "    )\n",
    "\n",
    "    crop_fields_iteration = feature_with_m3\n",
    "\n",
    "\n",
    "updated_features = crop_fields_iteration.map(count_empty_images_per_month)\n",
    "\n",
    "task_name = f\"field_et_blue_{ET_PRODUCT}_ETC_{ETC_THRESHOLD}_{YEAR}\"\n",
    "\n",
    "export_feature_collection(\n",
    "    collection=updated_features,\n",
    "    task_name=task_name,\n",
    "    asset_id=PATH_TO_POSTPROCESSED_FIELD_LEVEL_ET_BLUE,\n",
    ")\n",
    "\n",
    "# updated_features.getInfo()"
   ]
  },
  {
   "cell_type": "code",
   "execution_count": null,
   "metadata": {},
   "outputs": [
    {
     "data": {
      "text/html": [
       "\n",
       "            <style>\n",
       "                .geemap-dark {\n",
       "                    --jp-widgets-color: white;\n",
       "                    --jp-widgets-label-color: white;\n",
       "                    --jp-ui-font-color1: white;\n",
       "                    --jp-layout-color2: #454545;\n",
       "                    background-color: #383838;\n",
       "                }\n",
       "\n",
       "                .geemap-dark .jupyter-button {\n",
       "                    --jp-layout-color3: #383838;\n",
       "                }\n",
       "\n",
       "                .geemap-colab {\n",
       "                    background-color: var(--colab-primary-surface-color, white);\n",
       "                }\n",
       "\n",
       "                .geemap-colab .jupyter-button {\n",
       "                    --jp-layout-color3: var(--colab-primary-surface-color, white);\n",
       "                }\n",
       "            </style>\n",
       "            "
      ],
      "text/plain": [
       "<IPython.core.display.HTML object>"
      ]
     },
     "metadata": {},
     "output_type": "display_data"
    },
    {
     "name": "stdout",
     "output_type": "stream",
     "text": [
      "crop_fields_iteration {'type': 'Feature', 'geometry': {'type': 'Polygon', 'coordinates': [[[6.898340787574285, 46.82566675554755], [6.898380968295865, 46.82564443232396], [6.8985682164940565, 46.8256488679297], [6.898871397517888, 46.82567117592232], [6.900851242980219, 46.828560704623655], [6.900837916119662, 46.828565147649975], [6.900360784718916, 46.82873013401383], [6.900307299635416, 46.82870782203597], [6.899303962420583, 46.82718283774913], [6.898345301063176, 46.825706872132194], [6.898340787574285, 46.82566675554755]]]}, 'id': '00000000000000000000', 'properties': {'ID': '18-1-510429', 'Jahr': 18, 'Kultur': 'Kartoffeln', 'et_blue_m3_2019-07-01': 0, 'et_blue_m3_2019-07-11': 0, 'et_blue_m3_2019-07-21': 0, 'etc_threshold': 0.65, 'median_et_blue_2019-07-01': 0, 'median_et_blue_2019-07-11': 0, 'median_et_blue_2019-07-21': -99, 'xkoord': 2558887.733, 'ykoord': 1186364.763, 'zero_fraction_2019-07-01': 1, 'zero_fraction_2019-07-11': 1, 'zero_fraction_2019-07-21': 0}}\n"
     ]
    }
   ],
   "source": [
    "dates = et_blue_masked.aggregate_array(\"system:time_start\")\n",
    "\n",
    "dates = [ee.Date(date).format(\"YYYY-MM-dd\").getInfo() for date in dates.getInfo()]\n",
    "\n",
    "\n",
    "crop_fields_iteration = crop_fields\n",
    "\n",
    "crop_fields_iteration = crop_fields_iteration.map(\n",
    "    lambda f: f.set(\n",
    "        {\n",
    "            \"etc_threshold\": ETC_THRESHOLD,\n",
    "        }\n",
    "    )\n",
    ")\n",
    "\n",
    "for i, date in enumerate(dates[9:12]):\n",
    "\n",
    "    image = ee.Image(et_blue_masked_list.get(i))\n",
    "\n",
    "    ##maybe change to compute median_et_blue also where zero fraction is higher than 0.5, and then only remove values if there is no time step with \n",
    "    ##median_et_blue>0 and zero_fraction<0.5\n",
    "    fileds_with_stats = compute_field_et_stats(\n",
    "        et_image=image,\n",
    "        fields=crop_fields_iteration,\n",
    "        et_band_name=\"ET_blue\",\n",
    "        scale=10,\n",
    "        date=date,\n",
    "    )\n",
    "\n",
    "    feature_with_m3 = compute_et_volume(fileds_with_stats, date=date)\n",
    "\n",
    "    feature_with_m3 = threshold_et_volume(\n",
    "        feature_with_m3, threshold=MINIMUM_IRRIGATION_THRESHOLD, date=date\n",
    "    )\n",
    "\n",
    "    crop_fields_iteration = feature_with_m3\n",
    "\n",
    "print('crop_fields_iteration',crop_fields_iteration.first().getInfo())"
   ]
  },
  {
   "cell_type": "markdown",
   "metadata": {},
   "source": [
    "---"
   ]
  },
  {
   "cell_type": "code",
   "execution_count": 78,
   "metadata": {},
   "outputs": [
    {
     "data": {
      "text/html": [
       "\n",
       "            <style>\n",
       "                .geemap-dark {\n",
       "                    --jp-widgets-color: white;\n",
       "                    --jp-widgets-label-color: white;\n",
       "                    --jp-ui-font-color1: white;\n",
       "                    --jp-layout-color2: #454545;\n",
       "                    background-color: #383838;\n",
       "                }\n",
       "\n",
       "                .geemap-dark .jupyter-button {\n",
       "                    --jp-layout-color3: #383838;\n",
       "                }\n",
       "\n",
       "                .geemap-colab {\n",
       "                    background-color: var(--colab-primary-surface-color, white);\n",
       "                }\n",
       "\n",
       "                .geemap-colab .jupyter-button {\n",
       "                    --jp-layout-color3: var(--colab-primary-surface-color, white);\n",
       "                }\n",
       "            </style>\n",
       "            "
      ],
      "text/plain": [
       "<IPython.core.display.HTML object>"
      ]
     },
     "metadata": {},
     "output_type": "display_data"
    },
    {
     "name": "stdout",
     "output_type": "stream",
     "text": [
      "['2019-07-01', '2019-07-11', '2019-07-21']\n"
     ]
    }
   ],
   "source": [
    "print(dates[9:12])"
   ]
  },
  {
   "cell_type": "code",
   "execution_count": 68,
   "metadata": {},
   "outputs": [
    {
     "data": {
      "text/html": [
       "\n",
       "            <style>\n",
       "                .geemap-dark {\n",
       "                    --jp-widgets-color: white;\n",
       "                    --jp-widgets-label-color: white;\n",
       "                    --jp-ui-font-color1: white;\n",
       "                    --jp-layout-color2: #454545;\n",
       "                    background-color: #383838;\n",
       "                }\n",
       "\n",
       "                .geemap-dark .jupyter-button {\n",
       "                    --jp-layout-color3: #383838;\n",
       "                }\n",
       "\n",
       "                .geemap-colab {\n",
       "                    background-color: var(--colab-primary-surface-color, white);\n",
       "                }\n",
       "\n",
       "                .geemap-colab .jupyter-button {\n",
       "                    --jp-layout-color3: var(--colab-primary-surface-color, white);\n",
       "                }\n",
       "            </style>\n",
       "            "
      ],
      "text/plain": [
       "<IPython.core.display.HTML object>"
      ]
     },
     "metadata": {},
     "output_type": "display_data"
    },
    {
     "name": "stdout",
     "output_type": "stream",
     "text": [
      "2019-07-01\n"
     ]
    },
    {
     "data": {
      "application/vnd.jupyter.widget-view+json": {
       "model_id": "39f36aac1036466296e8972cec9bae34",
       "version_major": 2,
       "version_minor": 0
      },
      "text/plain": [
       "Map(center=[46.81340138134065, 6.909127982292969], controls=(WidgetControl(options=['position', 'transparent_b…"
      ]
     },
     "execution_count": 68,
     "metadata": {},
     "output_type": "execute_result"
    }
   ],
   "source": [
    "Map = geemap.Map()\n",
    "\n",
    "et_blue_list = et_blue_masked.toList(et_blue_masked.size())\n",
    "et_blue = ee.Image(et_blue_list.get(9))\n",
    "print(ee.Date(et_blue.get('system:time_start')).format('YYYY-MM-dd').getInfo())\n",
    "vis_params = {\"bands\": [\"ET_blue\"], \"min\": 0, \"max\": 1, \"palette\": \"viridis\"}\n",
    "\n",
    "Map.addLayer(et_blue, vis_params, \"ET_blue\")\n",
    "\n",
    "Map.addLayer(crop_fields_iteration, {\"color\": \"red\"}, \"fields_with_stats\")\n",
    "\n",
    "Map.centerObject(crop_fields, 12)\n",
    "\n",
    "\n",
    "Map"
   ]
  },
  {
   "cell_type": "markdown",
   "metadata": {},
   "source": [
    "---"
   ]
  },
  {
   "cell_type": "code",
   "execution_count": 60,
   "metadata": {},
   "outputs": [
    {
     "data": {
      "text/html": [
       "\n",
       "            <style>\n",
       "                .geemap-dark {\n",
       "                    --jp-widgets-color: white;\n",
       "                    --jp-widgets-label-color: white;\n",
       "                    --jp-ui-font-color1: white;\n",
       "                    --jp-layout-color2: #454545;\n",
       "                    background-color: #383838;\n",
       "                }\n",
       "\n",
       "                .geemap-dark .jupyter-button {\n",
       "                    --jp-layout-color3: #383838;\n",
       "                }\n",
       "\n",
       "                .geemap-colab {\n",
       "                    background-color: var(--colab-primary-surface-color, white);\n",
       "                }\n",
       "\n",
       "                .geemap-colab .jupyter-button {\n",
       "                    --jp-layout-color3: var(--colab-primary-surface-color, white);\n",
       "                }\n",
       "            </style>\n",
       "            "
      ],
      "text/plain": [
       "<IPython.core.display.HTML object>"
      ]
     },
     "metadata": {},
     "output_type": "display_data"
    },
    {
     "name": "stdout",
     "output_type": "stream",
     "text": [
      "          ETc  Month  Year  dekade  Day       Date\n",
      "204  0.160000      1  2023       3   21 2023-01-21\n",
      "205  0.720000      2  2023       3   21 2023-02-21\n",
      "206  1.200000      3  2023       3   21 2023-03-21\n",
      "207  1.955000      4  2023       3   21 2023-04-21\n",
      "208  3.275862      5  2023       3   21 2023-05-21\n",
      "209  4.000000      6  2023       3   21 2023-06-21\n",
      "210  4.079487      7  2023       3   21 2023-07-21\n",
      "211  2.724242      8  2023       3   21 2023-08-21\n",
      "212  2.095238      9  2023       3   21 2023-09-21\n",
      "213  0.900000     10  2023       3   21 2023-10-21\n",
      "214  0.300000     11  2023       3   21 2023-11-21\n",
      "215  0.240000     12  2023       3   21 2023-12-21\n"
     ]
    }
   ],
   "source": [
    "etc_table = ee.FeatureCollection(\"projects/thurgau-irrigation/assets/FribourgAndVaud/ETc_WAPOR/ETc_Pasture_Broye\")\n",
    "\n",
    "etc_df = geemap.ee_to_df(etc_table)\n",
    "\n",
    "etc_df = add_date_column(etc_df)\n",
    "\n",
    "etc_df[\"ETc\"] = etc_df[\"ETc\"]/10\n",
    "\n",
    "print(etc_df.tail(12))\n"
   ]
  },
  {
   "cell_type": "code",
   "execution_count": 61,
   "metadata": {},
   "outputs": [
    {
     "data": {
      "text/html": [
       "\n",
       "            <style>\n",
       "                .geemap-dark {\n",
       "                    --jp-widgets-color: white;\n",
       "                    --jp-widgets-label-color: white;\n",
       "                    --jp-ui-font-color1: white;\n",
       "                    --jp-layout-color2: #454545;\n",
       "                    background-color: #383838;\n",
       "                }\n",
       "\n",
       "                .geemap-dark .jupyter-button {\n",
       "                    --jp-layout-color3: #383838;\n",
       "                }\n",
       "\n",
       "                .geemap-colab {\n",
       "                    background-color: var(--colab-primary-surface-color, white);\n",
       "                }\n",
       "\n",
       "                .geemap-colab .jupyter-button {\n",
       "                    --jp-layout-color3: var(--colab-primary-surface-color, white);\n",
       "                }\n",
       "            </style>\n",
       "            "
      ],
      "text/plain": [
       "<IPython.core.display.HTML object>"
      ]
     },
     "metadata": {},
     "output_type": "display_data"
    }
   ],
   "source": [
    "et_green_collection1 = ee.ImageCollection(\n",
    "    \"projects/thurgau-irrigation/assets/FribourgAndVaud/ET_green/ET_green_dekadal_from_Landsat_30m_v2\"\n",
    ").map(lambda img: back_to_float(img, SCALING_FACTOR))\n",
    "\n",
    "etf_collection = ee.ImageCollection(PATH_TO_ETF).map(lambda img: back_to_float(img, SCALING_FACTOR))\n",
    "\n",
    "et_green_collection2 = ee.ImageCollection(\n",
    "    \"projects/thurgau-irrigation/assets/FribourgAndVaud/ET_green/ET_green_dekadal_from_WaPOR_10m_v2\"\n",
    ").map(lambda img: back_to_float(img, SCALING_FACTOR))"
   ]
  },
  {
   "cell_type": "code",
   "execution_count": 62,
   "metadata": {},
   "outputs": [
    {
     "data": {
      "text/html": [
       "\n",
       "            <style>\n",
       "                .geemap-dark {\n",
       "                    --jp-widgets-color: white;\n",
       "                    --jp-widgets-label-color: white;\n",
       "                    --jp-ui-font-color1: white;\n",
       "                    --jp-layout-color2: #454545;\n",
       "                    background-color: #383838;\n",
       "                }\n",
       "\n",
       "                .geemap-dark .jupyter-button {\n",
       "                    --jp-layout-color3: #383838;\n",
       "                }\n",
       "\n",
       "                .geemap-colab {\n",
       "                    background-color: var(--colab-primary-surface-color, white);\n",
       "                }\n",
       "\n",
       "                .geemap-colab .jupyter-button {\n",
       "                    --jp-layout-color3: var(--colab-primary-surface-color, white);\n",
       "                }\n",
       "            </style>\n",
       "            "
      ],
      "text/plain": [
       "<IPython.core.display.HTML object>"
      ]
     },
     "metadata": {},
     "output_type": "display_data"
    },
    {
     "data": {
      "image/png": "[encoded data removed]",
      "text/plain": [
       "<Figure size 1200x600 with 1 Axes>"
      ]
     },
     "metadata": {},
     "output_type": "display_data"
    }
   ],
   "source": [
    "ratio_df1 = compute_et_ratio_timeseries(\n",
    "    et_collections=[et_green_collection1, et_green_collection2],# ,\n",
    "    etc_df=etc_df,\n",
    "    et_band_name=\"ET_green\"\n",
    ")\n",
    "\n",
    "# Plot the results\n",
    "plot_multiple_et_ratio_timeseries(ratio_df1)\n",
    "\n",
    "\n",
    "ratio_df1 = compute_et_ratio_timeseries(\n",
    "    et_collections=[et_green_collection2],#et_green_collection1 ,\n",
    "    etc_df=etc_df,\n",
    "    et_band_name=\"ET_green\"\n",
    ")\n",
    "\n",
    "# Plot the results\n",
    "# plot_multiple_et_ratio_timeseries(ratio_df)\n",
    "\n",
    "# You can also examine the raw data\n",
    "# print(ratio_df.head(36))"
   ]
  },
  {
   "cell_type": "code",
   "execution_count": 63,
   "metadata": {},
   "outputs": [
    {
     "data": {
      "text/html": [
       "\n",
       "            <style>\n",
       "                .geemap-dark {\n",
       "                    --jp-widgets-color: white;\n",
       "                    --jp-widgets-label-color: white;\n",
       "                    --jp-ui-font-color1: white;\n",
       "                    --jp-layout-color2: #454545;\n",
       "                    background-color: #383838;\n",
       "                }\n",
       "\n",
       "                .geemap-dark .jupyter-button {\n",
       "                    --jp-layout-color3: #383838;\n",
       "                }\n",
       "\n",
       "                .geemap-colab {\n",
       "                    background-color: var(--colab-primary-surface-color, white);\n",
       "                }\n",
       "\n",
       "                .geemap-colab .jupyter-button {\n",
       "                    --jp-layout-color3: var(--colab-primary-surface-color, white);\n",
       "                }\n",
       "            </style>\n",
       "            "
      ],
      "text/plain": [
       "<IPython.core.display.HTML object>"
      ]
     },
     "metadata": {},
     "output_type": "display_data"
    },
    {
     "data": {
      "image/png": "[encoded data removed]",
      "text/plain": [
       "<Figure size 1200x600 with 1 Axes>"
      ]
     },
     "metadata": {},
     "output_type": "display_data"
    },
    {
     "name": "stdout",
     "output_type": "stream",
     "text": [
      "          date  min_et_1  etf_1\n",
      "0   2018-04-01      0.42   0.42\n",
      "1   2018-04-11      0.00   0.00\n",
      "2   2018-04-21      0.62   0.62\n",
      "3   2018-05-01      0.00   0.00\n",
      "4   2018-05-11      0.68   0.68\n",
      "5   2018-05-21      0.65   0.65\n",
      "6   2018-06-01      0.68   0.68\n",
      "7   2018-06-11      0.68   0.68\n",
      "8   2018-06-21      0.63   0.63\n",
      "9   2018-07-01      0.57   0.57\n",
      "10  2018-07-11      0.54   0.54\n",
      "11  2018-07-21      0.58   0.58\n",
      "12  2018-08-01      0.51   0.51\n",
      "13  2018-08-11      0.00   0.00\n",
      "14  2018-08-21      0.45   0.45\n",
      "15  2018-09-01      0.00   0.00\n",
      "16  2018-09-11      0.34   0.34\n",
      "17  2018-09-21      0.40   0.40\n",
      "18  2018-10-01      0.45   0.45\n",
      "19  2018-10-11      0.00   0.00\n",
      "20  2018-10-21      0.37   0.37\n",
      "21  2019-04-01      0.48   0.48\n",
      "22  2019-04-11      0.59   0.59\n",
      "23  2019-04-21      0.00   0.00\n",
      "24  2019-05-01      0.00   0.00\n",
      "25  2019-05-11      0.00   0.00\n",
      "26  2019-05-21      0.00   0.00\n",
      "27  2019-06-01      0.68   0.68\n",
      "28  2019-06-11      0.71   0.71\n",
      "29  2019-06-21      0.67   0.67\n",
      "30  2019-07-01      0.00   0.00\n",
      "31  2019-07-11      0.54   0.54\n",
      "32  2019-07-21      0.52   0.52\n",
      "33  2019-08-01      0.62   0.62\n",
      "34  2019-08-11      0.00   0.00\n",
      "35  2019-08-21      0.67   0.67\n"
     ]
    }
   ],
   "source": [
    "ratio_df = compute_et_ratio_timeseries(\n",
    "    et_collections=[et_green_collection1 ,et_green_collection2],\n",
    "    etc_df=etc_df,\n",
    "    et_band_name=\"ET_green\"\n",
    ")\n",
    "\n",
    "\n",
    "import pandas as pd\n",
    "import ee\n",
    "from datetime import datetime\n",
    "import matplotlib.pyplot as plt\n",
    "import seaborn as sns\n",
    "from typing import List, Dict, Any, Optional, Union, Tuple\n",
    "import numpy as np\n",
    "\n",
    "def compute_etf_timeseries(\n",
    "    etf_collections: List[ee.ImageCollection], etf_band_name: str = \"ETF\"\n",
    ") -> pd.DataFrame:\n",
    "    \"\"\"Compute time series for ETF (ET ratio) from input collections.\n",
    "\n",
    "    Args:\n",
    "        etf_collections: List of ETF image collections to process.\n",
    "        etf_band_name: Name of the ETF band in the images.\n",
    "\n",
    "    Returns:\n",
    "        DataFrame with columns for date and ETF statistics for each collection.\n",
    "    \"\"\"\n",
    "    # Process each collection\n",
    "    all_results = []\n",
    "    for idx, collection in enumerate(etf_collections):\n",
    "        results = (\n",
    "            collection.map(\n",
    "                lambda img: _process_single_etf_image(img, idx, etf_band_name)\n",
    "            )\n",
    "            .sort(\"date\")\n",
    "            .toList(collection.size())\n",
    "        )\n",
    "        all_results.append(results.getInfo())\n",
    "\n",
    "    # Combine results into DataFrame\n",
    "    data = []\n",
    "    for time_idx in range(len(all_results[0])):\n",
    "        combined_props = {}\n",
    "        date_str = all_results[0][time_idx][\"properties\"][\"date\"]\n",
    "        combined_props[\"date\"] = datetime.strptime(date_str, \"%Y-%m-%d\").date()\n",
    "\n",
    "        for collection_idx in range(len(etf_collections)):\n",
    "            props = all_results[collection_idx][time_idx][\"properties\"]\n",
    "            for key in [f\"min_et_{collection_idx+1}\", f\"etf_{collection_idx+1}\"]:\n",
    "                combined_props[key] = props.get(key)\n",
    "\n",
    "        data.append(combined_props)\n",
    "\n",
    "    return pd.DataFrame(data).sort_values(\"date\")\n",
    "\n",
    "\n",
    "def _process_single_etf_image(\n",
    "    image: ee.Image, collection_idx: int, etf_band_name: str = \"ETF\"\n",
    ") -> ee.Feature:\n",
    "    \"\"\"Process a single image and compute ETF statistics.\n",
    "\n",
    "    Handles empty/masked images by returning null values for statistics.\n",
    "\n",
    "    Args:\n",
    "        image: Input ETF image.\n",
    "        collection_idx: Index of current collection (1-based for output naming).\n",
    "        etf_band_name: Name of the ETF band in the image.\n",
    "\n",
    "    Returns:\n",
    "        Feature containing date, min_et, and ETF properties.\n",
    "    \"\"\"\n",
    "    image_date = ee.Date(image.get(\"system:time_start\"))\n",
    "\n",
    "    # Check if image has any valid pixels\n",
    "    valid_pixels = image.select(etf_band_name).unmask(None)\n",
    "    valid_count = (\n",
    "        valid_pixels.multiply(0)\n",
    "        .add(1)\n",
    "        .reduceRegion(reducer=ee.Reducer.count(), maxPixels=int(1e9))\n",
    "        .get(etf_band_name)\n",
    "    )\n",
    "\n",
    "    def compute_stats() -> ee.Feature:\n",
    "        # Get minimum ETF value\n",
    "        min_etf = ee.Number(\n",
    "            valid_pixels.reduceRegion(\n",
    "                reducer=ee.Reducer.median(), maxPixels=int(1e9)\n",
    "            ).get(etf_band_name)\n",
    "        )\n",
    "\n",
    "        return ee.Feature(\n",
    "            None,\n",
    "            {\n",
    "                \"date\": image_date.format(\"YYYY-MM-dd\"),\n",
    "                \"Month\": image_date.get(\"month\"),\n",
    "                \"Decade\": image_date.get(\"day\").divide(10).ceil(),\n",
    "                f\"min_et_{collection_idx+1}\": min_etf,\n",
    "                f\"etf_{collection_idx+1}\": min_etf,  # Assuming this is the ETF value\n",
    "            },\n",
    "        )\n",
    "\n",
    "    def empty_feature() -> ee.Feature:\n",
    "        return ee.Feature(\n",
    "            None,\n",
    "            {\n",
    "                \"date\": image_date.format(\"YYYY-MM-dd\"),\n",
    "                f\"min_et_{collection_idx+1}\": None,\n",
    "                f\"etf_{collection_idx+1}\": None,\n",
    "            },\n",
    "        )\n",
    "\n",
    "    return ee.Algorithms.If(\n",
    "        ee.Number(valid_count).gt(0), compute_stats(), empty_feature()\n",
    "    )\n",
    "\n",
    "import matplotlib.pyplot as plt\n",
    "import seaborn as sns\n",
    "\n",
    "def plot_single_et_ratio_markers_no_zeros(df: pd.DataFrame) -> None:\n",
    "    \"\"\"Plot ET ratio time series for a single collection using markers only, excluding zero values.\n",
    "\n",
    "    Args:\n",
    "        df: DataFrame containing a single ET ratio column (etf_1 or et_ratio_1).\n",
    "    \"\"\"\n",
    "    # Identify the ratio column\n",
    "    ratio_column = next(col for col in df.columns if col.startswith(\"etf_\") or col.startswith(\"et_ratio_\"))\n",
    "\n",
    "    # Filter out zero values\n",
    "    filtered_df = df[df[ratio_column] > 0]\n",
    "\n",
    "    # Reset styles to avoid unintended global settings\n",
    "    sns.reset_orig()\n",
    "\n",
    "    # Plot only markers\n",
    "    plt.figure(figsize=(12, 6))\n",
    "    plt.scatter(filtered_df[\"date\"], filtered_df[ratio_column], label=\"ET Ratio\", color=\"blue\", s=50)\n",
    "\n",
    "    # Add threshold line\n",
    "    plt.axhline(y=0.6, color=\"r\", linestyle=\"--\", alpha=0.5, label=\"Threshold\")\n",
    "\n",
    "    # Set plot details\n",
    "    plt.title(\"Time Series of ET Ratios (Markers Only, Zero Values Excluded)\")\n",
    "    plt.xlabel(\"Date\")\n",
    "    plt.ylabel(\"ET/ETc Ratio\")\n",
    "    plt.legend(loc=\"lower right\")  # Set legend position to lower right\n",
    "    plt.grid(True, linestyle=\"--\", alpha=0.5)\n",
    "    sns.despine()\n",
    "    plt.show()\n",
    "\n",
    "\n",
    "# ratio_df = compute_et_ratio_timeseries(\n",
    "#     et_collections=[et_green_collection1 ,et_green_collection2],\n",
    "#     etc_df=etc_df,\n",
    "#     et_band_name=\"ET_green\"\n",
    "# )\n",
    "ratio_df = compute_etf_timeseries([etf_collection], etf_band_name=\"ET_green\")\n",
    "\n",
    "\n",
    "# Plot the results\n",
    "plot_single_et_ratio_markers_no_zeros(ratio_df)\n",
    "\n",
    "# You can also examine the raw data\n",
    "print(ratio_df.head(36))"
   ]
  },
  {
   "cell_type": "code",
   "execution_count": 64,
   "metadata": {},
   "outputs": [
    {
     "data": {
      "text/html": [
       "\n",
       "            <style>\n",
       "                .geemap-dark {\n",
       "                    --jp-widgets-color: white;\n",
       "                    --jp-widgets-label-color: white;\n",
       "                    --jp-ui-font-color1: white;\n",
       "                    --jp-layout-color2: #454545;\n",
       "                    background-color: #383838;\n",
       "                }\n",
       "\n",
       "                .geemap-dark .jupyter-button {\n",
       "                    --jp-layout-color3: #383838;\n",
       "                }\n",
       "\n",
       "                .geemap-colab {\n",
       "                    background-color: var(--colab-primary-surface-color, white);\n",
       "                }\n",
       "\n",
       "                .geemap-colab .jupyter-button {\n",
       "                    --jp-layout-color3: var(--colab-primary-surface-color, white);\n",
       "                }\n",
       "            </style>\n",
       "            "
      ],
      "text/plain": [
       "<IPython.core.display.HTML object>"
      ]
     },
     "metadata": {},
     "output_type": "display_data"
    },
    {
     "data": {
      "image/png": "[encoded data removed]",
      "text/plain": [
       "<Figure size 1200x600 with 1 Axes>"
      ]
     },
     "metadata": {},
     "output_type": "display_data"
    },
    {
     "name": "stdout",
     "output_type": "stream",
     "text": [
      "         date  min_et_1     etf_1  Month  Day  Decade        Kc\n",
      "0  2018-04-01      0.42  0.494118      4    1       1  0.850000\n",
      "1  2018-04-11      0.00  0.000000      4   11       2  0.850000\n",
      "2  2018-04-21      0.62  0.729412      4   21       3  0.850000\n",
      "3  2018-05-01      0.00  0.000000      5    1       1  0.851852\n",
      "4  2018-05-11      0.68  0.798261      5   11       2  0.851852\n",
      "..        ...       ...       ...    ...  ...     ...       ...\n",
      "79 2021-09-11      0.00  0.000000      9   11       2  0.952381\n",
      "80 2021-09-21      0.52  0.546000      9   21       3  0.952381\n",
      "81 2021-10-01      0.61  0.610000     10    1       1  1.000000\n",
      "82 2021-10-11      0.59  0.590000     10   11       2  1.000000\n",
      "83 2021-10-21      0.49  0.490000     10   21       3  1.000000\n",
      "\n",
      "[84 rows x 7 columns]\n"
     ]
    }
   ],
   "source": [
    "import pandas as pd\n",
    "import numpy as np\n",
    "\n",
    "# First table\n",
    "df1 = ratio_df\n",
    "\n",
    "# Second table\n",
    "df2 = Kcs\n",
    "\n",
    "# Ensure \"date\" column is datetime\n",
    "df1[\"date\"] = pd.to_datetime(df1[\"date\"])\n",
    "\n",
    "# Extract Month and Decade from date\n",
    "df1[\"Month\"] = df1[\"date\"].dt.month\n",
    "df1[\"Day\"] = df1[\"date\"].dt.day\n",
    "df1[\"Decade\"] = np.ceil(df1[\"Day\"] / 10).astype(int)\n",
    "\n",
    "# Function to get Kc from the GEE FeatureCollection\n",
    "def get_kc(month, decade):\n",
    "    feature = df2.filter(ee.Filter.And(\n",
    "        ee.Filter.eq(\"Month\", month),\n",
    "        ee.Filter.eq(\"Decade\", decade)\n",
    "    )).first()\n",
    "    return ee.Number(feature.get(\"Kc\")).getInfo() if feature else None\n",
    "\n",
    "# Add Kc and ETc to the DataFrame\n",
    "df1[\"Kc\"] = df1.apply(lambda row: get_kc(row[\"Month\"], row[\"Decade\"]), axis=1)\n",
    "df1[\"etf_1\"] = df1[\"etf_1\"] / df1[\"Kc\"]\n",
    "\n",
    "# Plot the results\n",
    "plot_single_et_ratio_markers_no_zeros(df1)\n",
    "\n",
    "# Display the resulting DataFrame\n",
    "print(df1)\n",
    "\n",
    "ratio_df1_Landsat = df1\n",
    "\n"
   ]
  },
  {
   "cell_type": "code",
   "execution_count": 65,
   "metadata": {},
   "outputs": [
    {
     "data": {
      "text/html": [
       "\n",
       "            <style>\n",
       "                .geemap-dark {\n",
       "                    --jp-widgets-color: white;\n",
       "                    --jp-widgets-label-color: white;\n",
       "                    --jp-ui-font-color1: white;\n",
       "                    --jp-layout-color2: #454545;\n",
       "                    background-color: #383838;\n",
       "                }\n",
       "\n",
       "                .geemap-dark .jupyter-button {\n",
       "                    --jp-layout-color3: #383838;\n",
       "                }\n",
       "\n",
       "                .geemap-colab {\n",
       "                    background-color: var(--colab-primary-surface-color, white);\n",
       "                }\n",
       "\n",
       "                .geemap-colab .jupyter-button {\n",
       "                    --jp-layout-color3: var(--colab-primary-surface-color, white);\n",
       "                }\n",
       "            </style>\n",
       "            "
      ],
      "text/plain": [
       "<IPython.core.display.HTML object>"
      ]
     },
     "metadata": {},
     "output_type": "display_data"
    },
    {
     "data": {
      "image/png": "[encoded data removed]",
      "text/plain": [
       "<Figure size 1200x600 with 1 Axes>"
      ]
     },
     "metadata": {},
     "output_type": "display_data"
    }
   ],
   "source": [
    "import matplotlib.pyplot as plt\n",
    "import seaborn as sns\n",
    "import pandas as pd\n",
    "from typing import Tuple\n",
    "\n",
    "def plot_dual_et_ratio_markers(\n",
    "    df1: pd.DataFrame, df2: pd.DataFrame, labels: Tuple[str, str] = (\"Collection 1\", \"Collection 2\")\n",
    ") -> None:\n",
    "    \"\"\"Plot ET ratio time series for two collections using markers only.\n",
    "\n",
    "    Args:\n",
    "        df1: DataFrame for the first image collection.\n",
    "        df2: DataFrame for the second image collection.\n",
    "        labels: Tuple of labels for the two collections.\n",
    "    \"\"\"\n",
    "    # Identify the ratio columns in each DataFrame\n",
    "    ratio_col1 = next(col for col in df1.columns if col.startswith(\"etf_\") or col.startswith(\"et_ratio_\"))\n",
    "    ratio_col2 = next(col for col in df2.columns if col.startswith(\"etf_\") or col.startswith(\"et_ratio_\"))\n",
    "\n",
    "    # Reset styles to avoid unintended global settings\n",
    "    sns.reset_orig()\n",
    "\n",
    "    # Plot\n",
    "    plt.figure(figsize=(12, 6))\n",
    "\n",
    "    # Plot first collection with markers\n",
    "    plt.scatter(df1[\"date\"], df1[ratio_col1], label=labels[0], color=\"blue\", s=50, marker=\"o\")\n",
    "\n",
    "    # Plot second collection with markers\n",
    "    plt.scatter(df2[\"date\"], df2[ratio_col2], label=labels[1], color=\"orange\", s=50, marker=\"s\")\n",
    "\n",
    "    # Add threshold line\n",
    "    plt.axhline(y=0.7, color=\"r\", linestyle=\"--\", alpha=0.5, label=\"Threshold\")\n",
    "\n",
    "    # Set plot details\n",
    "    plt.title(\"Time Series of ET Ratios for Two Collections\")\n",
    "    plt.xlabel(\"Date\")\n",
    "    plt.ylabel(\"ET Fraction\")\n",
    "    plt.legend(loc=\"lower right\")  # Legend in the lower-right corner\n",
    "    plt.grid(True, linestyle=\"--\", alpha=0.5)\n",
    "    sns.despine()\n",
    "    plt.show()\n",
    "\n",
    "\n",
    "\n",
    "# Plot the ET ratio time series\n",
    "# plot_dual_et_ratio_markers(ratio_df1, ratio_df, labels=(\"WAPOR\", \"LANDSAT\"))\n",
    "plot_dual_et_ratio_markers(ratio_df1, ratio_df1_Landsat, labels=(\"WAPOR\", \"LANDSAT\"))"
   ]
  },
  {
   "cell_type": "code",
   "execution_count": 66,
   "metadata": {},
   "outputs": [
    {
     "data": {
      "text/html": [
       "\n",
       "            <style>\n",
       "                .geemap-dark {\n",
       "                    --jp-widgets-color: white;\n",
       "                    --jp-widgets-label-color: white;\n",
       "                    --jp-ui-font-color1: white;\n",
       "                    --jp-layout-color2: #454545;\n",
       "                    background-color: #383838;\n",
       "                }\n",
       "\n",
       "                .geemap-dark .jupyter-button {\n",
       "                    --jp-layout-color3: #383838;\n",
       "                }\n",
       "\n",
       "                .geemap-colab {\n",
       "                    background-color: var(--colab-primary-surface-color, white);\n",
       "                }\n",
       "\n",
       "                .geemap-colab .jupyter-button {\n",
       "                    --jp-layout-color3: var(--colab-primary-surface-color, white);\n",
       "                }\n",
       "            </style>\n",
       "            "
      ],
      "text/plain": [
       "<IPython.core.display.HTML object>"
      ]
     },
     "metadata": {},
     "output_type": "display_data"
    },
    {
     "name": "stdout",
     "output_type": "stream",
     "text": [
      "          date  min_et_1       etc  et_ratio_1\n",
      "0   2018-04-01      0.75  1.700000    0.441176\n",
      "1   2018-04-11      1.61  2.550000    0.631373\n",
      "2   2018-04-21      2.06  2.805000    0.734403\n",
      "3   2018-05-01      1.29  2.044444    0.630978\n",
      "4   2018-05-11      1.10  2.214815    0.496656\n",
      "..         ...       ...       ...         ...\n",
      "79  2021-09-11      0.93  1.904762    0.488250\n",
      "80  2021-09-21      0.92  1.809524    0.508421\n",
      "81  2021-10-01      0.17  1.300000    0.130769\n",
      "82  2021-10-11      0.01  1.300000    0.007692\n",
      "83  2021-10-21      0.00  0.900000    0.000000\n",
      "\n",
      "[84 rows x 4 columns]\n",
      "         date  min_et_1     etf_1  Month  Day  Decade        Kc\n",
      "0  2018-04-01      0.42  0.494118      4    1       1  0.850000\n",
      "1  2018-04-11      0.00  0.000000      4   11       2  0.850000\n",
      "2  2018-04-21      0.62  0.729412      4   21       3  0.850000\n",
      "3  2018-05-01      0.00  0.000000      5    1       1  0.851852\n",
      "4  2018-05-11      0.68  0.798261      5   11       2  0.851852\n",
      "..        ...       ...       ...    ...  ...     ...       ...\n",
      "79 2021-09-11      0.00  0.000000      9   11       2  0.952381\n",
      "80 2021-09-21      0.52  0.546000      9   21       3  0.952381\n",
      "81 2021-10-01      0.61  0.610000     10    1       1  1.000000\n",
      "82 2021-10-11      0.59  0.590000     10   11       2  1.000000\n",
      "83 2021-10-21      0.49  0.490000     10   21       3  1.000000\n",
      "\n",
      "[84 rows x 7 columns]\n"
     ]
    }
   ],
   "source": [
    "print(ratio_df1.head(99))\n",
    "\n",
    "print(ratio_df1_Landsat.head(99))\n",
    "\n"
   ]
  },
  {
   "cell_type": "code",
   "execution_count": 67,
   "metadata": {},
   "outputs": [
    {
     "data": {
      "text/html": [
       "\n",
       "            <style>\n",
       "                .geemap-dark {\n",
       "                    --jp-widgets-color: white;\n",
       "                    --jp-widgets-label-color: white;\n",
       "                    --jp-ui-font-color1: white;\n",
       "                    --jp-layout-color2: #454545;\n",
       "                    background-color: #383838;\n",
       "                }\n",
       "\n",
       "                .geemap-dark .jupyter-button {\n",
       "                    --jp-layout-color3: #383838;\n",
       "                }\n",
       "\n",
       "                .geemap-colab {\n",
       "                    background-color: var(--colab-primary-surface-color, white);\n",
       "                }\n",
       "\n",
       "                .geemap-colab .jupyter-button {\n",
       "                    --jp-layout-color3: var(--colab-primary-surface-color, white);\n",
       "                }\n",
       "            </style>\n",
       "            "
      ],
      "text/plain": [
       "<IPython.core.display.HTML object>"
      ]
     },
     "metadata": {},
     "output_type": "display_data"
    },
    {
     "name": "stdout",
     "output_type": "stream",
     "text": [
      "   year  avg_et_collection1  avg_et_collection2\n",
      "0  2018            0.630868            0.615854\n",
      "1  2019            0.641833            0.684266\n",
      "2  2020            0.642629            0.682893\n",
      "3  2021            0.604279            0.668077\n"
     ]
    }
   ],
   "source": [
    "import pandas as pd\n",
    "\n",
    "def calculate_annual_average(df1: pd.DataFrame, df2: pd.DataFrame) -> pd.DataFrame:\n",
    "    \"\"\"\n",
    "    Calculate annual averages of ET ratios for two collections,\n",
    "    considering only dates where ET ratio for the second collection (df2) is not zero.\n",
    "\n",
    "    Args:\n",
    "        df1: DataFrame for the first image collection.\n",
    "        df2: DataFrame for the second image collection.\n",
    "\n",
    "    Returns:\n",
    "        pd.DataFrame: Annual average ET ratios for both collections.\n",
    "    \"\"\"\n",
    "    # Set the column names explicitly\n",
    "    ratio_col1 = \"et_ratio_1\"  # ET ratio column for the first collection\n",
    "    ratio_col2 = \"etf_1\"       # ET ratio column for the second collection\n",
    "\n",
    "    # Filter the second dataset (df2) for non-zero ET ratios\n",
    "    df2_filtered = df2[df2[ratio_col2] > 0.2].copy()\n",
    "    df1_filtered = df1[df1[ratio_col1] > 0.2].copy()\n",
    "\n",
    "    # Align the first dataset (df1) to match dates in df2_filtered\n",
    "    df1_filtered = df1_filtered[df1_filtered[\"date\"].isin(df2_filtered[\"date\"])].copy()\n",
    "    df2_filtered = df2_filtered[df2_filtered[\"date\"].isin(df1_filtered[\"date\"])].copy()\n",
    "\n",
    "    # Extract years from the date columns\n",
    "    df1_filtered[\"year\"] = pd.to_datetime(df1_filtered[\"date\"]).dt.year\n",
    "    df2_filtered[\"year\"] = pd.to_datetime(df2_filtered[\"date\"]).dt.year\n",
    "\n",
    "    # Rename columns before merging to enforce suffixes\n",
    "    df1_filtered.rename(columns={ratio_col1: f\"{ratio_col1}_collection1\"}, inplace=True)\n",
    "    df2_filtered.rename(columns={ratio_col2: f\"{ratio_col2}_collection2\"}, inplace=True)\n",
    "\n",
    "    # Merge the filtered data on dates\n",
    "    merged = pd.merge(\n",
    "        df1_filtered,\n",
    "        df2_filtered,\n",
    "        on=\"date\"  # Merge only on the date column\n",
    "    )\n",
    "\n",
    "    # Calculate annual averages\n",
    "    merged[\"year\"] = pd.to_datetime(merged[\"date\"]).dt.year\n",
    "    annual_avg = (\n",
    "        merged.groupby(\"year\")[[f\"{ratio_col1}_collection1\", f\"{ratio_col2}_collection2\"]]\n",
    "        .mean()\n",
    "        .reset_index()\n",
    "    )\n",
    "\n",
    "    # Rename columns for clarity\n",
    "    annual_avg.rename(columns={f\"{ratio_col1}_collection1\": \"avg_et_collection1\",\n",
    "                               f\"{ratio_col2}_collection2\": \"avg_et_collection2\"}, inplace=True)\n",
    "\n",
    "    return annual_avg\n",
    "\n",
    "\n",
    "# Example usage\n",
    "df1 = ratio_df1\n",
    "\n",
    "# pd.DataFrame({\n",
    "#     \"date\": [\"2018-04-01\", \"2018-04-11\", \"2018-04-21\", \"2018-05-01\", \"2018-05-11\", \"2018-05-21\"],\n",
    "#     \"min_et_1\": [0.74, 1.60, 2.02, 1.26, 1.05, 2.31],\n",
    "#     \"etc\": [1.7, 2.55, 2.805, 2.044444, 2.214815, 3.189655],\n",
    "#     \"et_ratio_1\": [0.435294, 0.627451, 0.720143, 0.616304, 0.474080, 0.724216]\n",
    "# })\n",
    "\n",
    "df2 = ratio_df1_Landsat\n",
    "# pd.DataFrame({\n",
    "#     \"date\": [\"2018-04-01\", \"2018-04-11\", \"2018-04-21\", \"2018-05-01\", \"2018-05-11\", \"2018-05-21\"],\n",
    "#     \"min_et_1\": [0.39, 0.0, 0.58, 0.0, 0.61, 0.56],\n",
    "#     \"etf_1\": [0.39, 0.0, 0.58, 0.0, 0.61, 0.56]\n",
    "# })\n",
    "\n",
    "# Ensure \"date\" columns are in datetime format\n",
    "df1[\"date\"] = pd.to_datetime(df1[\"date\"])\n",
    "df2[\"date\"] = pd.to_datetime(df2[\"date\"])\n",
    "\n",
    "# Calculate annual averages\n",
    "annual_averages = calculate_annual_average(df1, df2)\n",
    "print(annual_averages)\n"
   ]
  },
  {
   "cell_type": "markdown",
   "metadata": {},
   "source": [
    "## Sanity check"
   ]
  },
  {
   "cell_type": "code",
   "execution_count": 71,
   "metadata": {},
   "outputs": [
    {
     "data": {
      "text/html": [
       "\n",
       "            <style>\n",
       "                .geemap-dark {\n",
       "                    --jp-widgets-color: white;\n",
       "                    --jp-widgets-label-color: white;\n",
       "                    --jp-ui-font-color1: white;\n",
       "                    --jp-layout-color2: #454545;\n",
       "                    background-color: #383838;\n",
       "                }\n",
       "\n",
       "                .geemap-dark .jupyter-button {\n",
       "                    --jp-layout-color3: #383838;\n",
       "                }\n",
       "\n",
       "                .geemap-colab {\n",
       "                    background-color: var(--colab-primary-surface-color, white);\n",
       "                }\n",
       "\n",
       "                .geemap-colab .jupyter-button {\n",
       "                    --jp-layout-color3: var(--colab-primary-surface-color, white);\n",
       "                }\n",
       "            </style>\n",
       "            "
      ],
      "text/plain": [
       "<IPython.core.display.HTML object>"
      ]
     },
     "metadata": {},
     "output_type": "display_data"
    },
    {
     "name": "stdout",
     "output_type": "stream",
     "text": [
      "projects/thurgau-irrigation/assets/FribourgAndVaud/ET_blue_per_field_v2/ET_blue_per_field_2019_dekadal_from_Landsat_30m_ETC_threshold_65\n"
     ]
    }
   ],
   "source": [
    "YEAR = 2019\n",
    "ET_PRODUCT = \"Landsat_30m\"\n",
    "# ET_PRODUCT = \"WaPOR_10m\"\n",
    "\n",
    "\n",
    "PATH_TO_FEATURE_COLLECTION = f\"projects/thurgau-irrigation/assets/FribourgAndVaud/ET_blue_per_field_v2/ET_blue_per_field_{YEAR}_dekadal_from_{ET_PRODUCT}_ETC_threshold_65\"\n",
    "print(PATH_TO_FEATURE_COLLECTION)\n",
    "fc = ee.FeatureCollection(PATH_TO_FEATURE_COLLECTION)"
   ]
  },
  {
   "cell_type": "code",
   "execution_count": 72,
   "metadata": {},
   "outputs": [
    {
     "data": {
      "text/html": [
       "\n",
       "            <style>\n",
       "                .geemap-dark {\n",
       "                    --jp-widgets-color: white;\n",
       "                    --jp-widgets-label-color: white;\n",
       "                    --jp-ui-font-color1: white;\n",
       "                    --jp-layout-color2: #454545;\n",
       "                    background-color: #383838;\n",
       "                }\n",
       "\n",
       "                .geemap-dark .jupyter-button {\n",
       "                    --jp-layout-color3: #383838;\n",
       "                }\n",
       "\n",
       "                .geemap-colab {\n",
       "                    background-color: var(--colab-primary-surface-color, white);\n",
       "                }\n",
       "\n",
       "                .geemap-colab .jupyter-button {\n",
       "                    --jp-layout-color3: var(--colab-primary-surface-color, white);\n",
       "                }\n",
       "            </style>\n",
       "            "
      ],
      "text/plain": [
       "<IPython.core.display.HTML object>"
      ]
     },
     "metadata": {},
     "output_type": "display_data"
    }
   ],
   "source": [
    "def get_days_in_month(month: str) -> int:\n",
    "    \"\"\"Return number of days in given month for {YEAR}.\"\"\"\n",
    "    days_lookup = {\"04\": 30, \"05\": 31, \"06\": 30, \"07\": 31, \"08\": 31, \"09\": 30, \"10\": 31}\n",
    "    return days_lookup[month]\n",
    "\n",
    "\n",
    "def calculate_monthly_sums(feature: ee.Feature) -> ee.Feature:\n",
    "    months = [\"04\", \"05\", \"06\", \"07\", \"08\", \"09\", \"10\"]\n",
    "    area_ha = feature.geometry().area().divide(10000)\n",
    "\n",
    "    new_properties = {}\n",
    "    for month in months:\n",
    "        days_in_month = get_days_in_month(month)\n",
    "\n",
    "        # Get dekadal values\n",
    "        d01 = ee.Number.parse(feature.get(f\"et_blue_m3_{YEAR}-{month}-01\"))\n",
    "        d11 = ee.Number.parse(feature.get(f\"et_blue_m3_{YEAR}-{month}-11\"))\n",
    "        d21 = ee.Number.parse(feature.get(f\"et_blue_m3_{YEAR}-{month}-21\"))\n",
    "\n",
    "        # Calculate days for each dekad\n",
    "        if month in [\"04\", \"06\", \"09\"]:\n",
    "            days = [10, 10, 10]  # 30-day month\n",
    "        else:\n",
    "            days = [10, 10, 11]  # 31-day month\n",
    "\n",
    "        # Weight values by days\n",
    "        weighted_sum = (\n",
    "            d01.multiply(days[0]).add(d11.multiply(days[1])).add(d21.multiply(days[2]))\n",
    "        )\n",
    "\n",
    "        # Set properties\n",
    "        sum_property = f\"et_blue_m3_{YEAR}_{month}\"\n",
    "        new_properties[sum_property] = weighted_sum\n",
    "\n",
    "        per_ha_property = f\"et_blue_m3/ha_{YEAR}_{month}\"\n",
    "        new_properties[per_ha_property] = weighted_sum.divide(area_ha)\n",
    "\n",
    "    return feature.set(new_properties)\n",
    "\n",
    "\n",
    "def process_collection(fc: ee.FeatureCollection) -> ee.FeatureCollection:\n",
    "    return fc.map(calculate_monthly_sums)\n",
    "\n"
   ]
  },
  {
   "cell_type": "code",
   "execution_count": 73,
   "metadata": {},
   "outputs": [
    {
     "data": {
      "text/html": [
       "\n",
       "            <style>\n",
       "                .geemap-dark {\n",
       "                    --jp-widgets-color: white;\n",
       "                    --jp-widgets-label-color: white;\n",
       "                    --jp-ui-font-color1: white;\n",
       "                    --jp-layout-color2: #454545;\n",
       "                    background-color: #383838;\n",
       "                }\n",
       "\n",
       "                .geemap-dark .jupyter-button {\n",
       "                    --jp-layout-color3: #383838;\n",
       "                }\n",
       "\n",
       "                .geemap-colab {\n",
       "                    background-color: var(--colab-primary-surface-color, white);\n",
       "                }\n",
       "\n",
       "                .geemap-colab .jupyter-button {\n",
       "                    --jp-layout-color3: var(--colab-primary-surface-color, white);\n",
       "                }\n",
       "            </style>\n",
       "            "
      ],
      "text/plain": [
       "<IPython.core.display.HTML object>"
      ]
     },
     "metadata": {},
     "output_type": "display_data"
    },
    {
     "data": {
      "text/plain": [
       "{'type': 'Feature',\n",
       " 'geometry': {'type': 'Polygon',\n",
       "  'coordinates': [[[6.9322433187911505, 46.84895218257507],\n",
       "    [6.935569878461967, 46.85160529871735],\n",
       "    [6.935436053321311, 46.85288953101437],\n",
       "    [6.935422698477586, 46.852907353608224],\n",
       "    [6.935409319322727, 46.85292072037513],\n",
       "    [6.93538700713988, 46.85293410929544],\n",
       "    [6.935369189691445, 46.85294306526241],\n",
       "    [6.935346916120405, 46.85294753721848],\n",
       "    [6.935320123517576, 46.852951986286676],\n",
       "    [6.935297849953303, 46.852956458232995],\n",
       "    [6.935275509983937, 46.85295194529945],\n",
       "    [6.935253212153712, 46.85295196140115],\n",
       "    [6.935230952991549, 46.852943060536376],\n",
       "    [6.935195304776636, 46.852929697788085],\n",
       "    [6.932100688186397, 46.850468267954234],\n",
       "    [6.932078319467372, 46.85044147111533],\n",
       "    [6.932064948164416, 46.8504236368762],\n",
       "    [6.932051616348913, 46.85039688612008],\n",
       "    [6.932042652436589, 46.85037462460302],\n",
       "    [6.932038228581694, 46.8503433964152],\n",
       "    [6.932033765260011, 46.850321084752835],\n",
       "    [6.932038251549593, 46.850298824459074],\n",
       "    [6.932149696270135, 46.84944708762546],\n",
       "    [6.932176471833208, 46.84931331401735],\n",
       "    [6.9322433187911505, 46.84895218257507]]]},\n",
       " 'id': '0000000000000000005b',\n",
       " 'properties': {'ID': '21-1-510432',\n",
       "  'Jahr': 21,\n",
       "  'Kultur': 'Kartoffeln',\n",
       "  'empty_images_month_04': 1,\n",
       "  'empty_images_month_05': 3,\n",
       "  'empty_images_month_06': 0,\n",
       "  'empty_images_month_07': 1,\n",
       "  'empty_images_month_08': 1,\n",
       "  'empty_images_month_09': 2,\n",
       "  'empty_images_month_10': 1,\n",
       "  'et_blue_m3/ha_2019_04': 0,\n",
       "  'et_blue_m3/ha_2019_05': 0,\n",
       "  'et_blue_m3/ha_2019_06': 0,\n",
       "  'et_blue_m3/ha_2019_07': 169.36721657429555,\n",
       "  'et_blue_m3/ha_2019_08': 0,\n",
       "  'et_blue_m3/ha_2019_09': 0,\n",
       "  'et_blue_m3/ha_2019_10': 40.77504801666585,\n",
       "  'et_blue_m3_2019-04-01': 0,\n",
       "  'et_blue_m3_2019-04-11': 0,\n",
       "  'et_blue_m3_2019-04-21': 0,\n",
       "  'et_blue_m3_2019-05-01': 0,\n",
       "  'et_blue_m3_2019-05-11': 0,\n",
       "  'et_blue_m3_2019-05-21': 0,\n",
       "  'et_blue_m3_2019-06-01': 0,\n",
       "  'et_blue_m3_2019-06-11': 0,\n",
       "  'et_blue_m3_2019-06-21': 0,\n",
       "  'et_blue_m3_2019-07-01': 0,\n",
       "  'et_blue_m3_2019-07-11': 38.79001047006189,\n",
       "  'et_blue_m3_2019-07-21': 35.750639875605884,\n",
       "  'et_blue_m3_2019-08-01': 0,\n",
       "  'et_blue_m3_2019-08-11': 0,\n",
       "  'et_blue_m3_2019-08-21': 0,\n",
       "  'et_blue_m3_2019-09-01': 0,\n",
       "  'et_blue_m3_2019-09-11': 0,\n",
       "  'et_blue_m3_2019-09-21': 0,\n",
       "  'et_blue_m3_2019-10-01': 12.914187614833041,\n",
       "  'et_blue_m3_2019-10-11': 5.892120165494175,\n",
       "  'et_blue_m3_2019-10-21': 0,\n",
       "  'et_blue_m3_2019_04': 0,\n",
       "  'et_blue_m3_2019_05': 0,\n",
       "  'et_blue_m3_2019_06': 0,\n",
       "  'et_blue_m3_2019_07': 781.1571433322836,\n",
       "  'et_blue_m3_2019_08': 0,\n",
       "  'et_blue_m3_2019_09': 0,\n",
       "  'et_blue_m3_2019_10': 188.06307780327217,\n",
       "  'etc_threshold': 0.65,\n",
       "  'median_et_blue_2019-04-01': 0,\n",
       "  'median_et_blue_2019-04-11': 0,\n",
       "  'median_et_blue_2019-04-21': -99,\n",
       "  'median_et_blue_2019-05-01': -99,\n",
       "  'median_et_blue_2019-05-11': -99,\n",
       "  'median_et_blue_2019-05-21': -99,\n",
       "  'median_et_blue_2019-06-01': 0,\n",
       "  'median_et_blue_2019-06-11': 0,\n",
       "  'median_et_blue_2019-06-21': 0,\n",
       "  'median_et_blue_2019-07-01': -99,\n",
       "  'median_et_blue_2019-07-11': 0.8410287430998457,\n",
       "  'median_et_blue_2019-07-21': 0.7751303842210091,\n",
       "  'median_et_blue_2019-08-01': 0,\n",
       "  'median_et_blue_2019-08-11': -99,\n",
       "  'median_et_blue_2019-08-21': 0,\n",
       "  'median_et_blue_2019-09-01': -99,\n",
       "  'median_et_blue_2019-09-11': 0,\n",
       "  'median_et_blue_2019-09-21': -99,\n",
       "  'median_et_blue_2019-10-01': 0.2800000011920929,\n",
       "  'median_et_blue_2019-10-11': 0.1277504789745656,\n",
       "  'median_et_blue_2019-10-21': -99,\n",
       "  'xkoord': 2561574.569,\n",
       "  'ykoord': 1189042.99,\n",
       "  'zero_fraction_2019-04-01': 0.9979921077065925,\n",
       "  'zero_fraction_2019-04-11': 0.9979921077065925,\n",
       "  'zero_fraction_2019-04-21': 0,\n",
       "  'zero_fraction_2019-05-01': 0,\n",
       "  'zero_fraction_2019-05-11': 0,\n",
       "  'zero_fraction_2019-05-21': 0,\n",
       "  'zero_fraction_2019-06-01': 0.9979921077065925,\n",
       "  'zero_fraction_2019-06-11': 0.9979921077065925,\n",
       "  'zero_fraction_2019-06-21': 0.9979921077065925,\n",
       "  'zero_fraction_2019-07-01': 0,\n",
       "  'zero_fraction_2019-07-11': 0.22822075208913653,\n",
       "  'zero_fraction_2019-07-21': 0.2572075208913649,\n",
       "  'zero_fraction_2019-08-01': 0.9979921077065925,\n",
       "  'zero_fraction_2019-08-11': 0,\n",
       "  'zero_fraction_2019-08-21': 0.9979921077065925,\n",
       "  'zero_fraction_2019-09-01': 0,\n",
       "  'zero_fraction_2019-09-11': 0.9979921077065925,\n",
       "  'zero_fraction_2019-09-21': 0,\n",
       "  'zero_fraction_2019-10-01': 0.3538126740947075,\n",
       "  'zero_fraction_2019-10-11': 0.644138811513463,\n",
       "  'zero_fraction_2019-10-21': 0}}"
      ]
     },
     "execution_count": 73,
     "metadata": {},
     "output_type": "execute_result"
    }
   ],
   "source": [
    "processed_fc = process_collection(fc)\n",
    "\n",
    "processed_fc.first().getInfo()"
   ]
  },
  {
   "cell_type": "code",
   "execution_count": 74,
   "metadata": {},
   "outputs": [
    {
     "data": {
      "text/html": [
       "\n",
       "            <style>\n",
       "                .geemap-dark {\n",
       "                    --jp-widgets-color: white;\n",
       "                    --jp-widgets-label-color: white;\n",
       "                    --jp-ui-font-color1: white;\n",
       "                    --jp-layout-color2: #454545;\n",
       "                    background-color: #383838;\n",
       "                }\n",
       "\n",
       "                .geemap-dark .jupyter-button {\n",
       "                    --jp-layout-color3: #383838;\n",
       "                }\n",
       "\n",
       "                .geemap-colab {\n",
       "                    background-color: var(--colab-primary-surface-color, white);\n",
       "                }\n",
       "\n",
       "                .geemap-colab .jupyter-button {\n",
       "                    --jp-layout-color3: var(--colab-primary-surface-color, white);\n",
       "                }\n",
       "            </style>\n",
       "            "
      ],
      "text/plain": [
       "<IPython.core.display.HTML object>"
      ]
     },
     "metadata": {},
     "output_type": "display_data"
    },
    {
     "name": "stdout",
     "output_type": "stream",
     "text": [
      "Exported projects/thurgau-irrigation/assets/FribourgAndVaud/ET_blue_per_field_v2/ET_blue_per_field_2019_dekadal_from_Landsat_30m_ETC_threshold_65_min_irr_100 for Landsat_30m\n",
      "Exported projects/thurgau-irrigation/assets/FribourgAndVaud/ET_blue_per_field_v2/ET_blue_per_field_2019_dekadal_from_Landsat_30m_ETC_threshold_65_min_irr_140 for Landsat_30m\n"
     ]
    },
    {
     "data": {
      "text/plain": [
       "{'type': 'Feature',\n",
       " 'geometry': {'type': 'Polygon',\n",
       "  'coordinates': [[[6.9322433187911505, 46.84895218257507],\n",
       "    [6.935569878461967, 46.85160529871735],\n",
       "    [6.935436053321311, 46.85288953101437],\n",
       "    [6.935422698477586, 46.852907353608224],\n",
       "    [6.935409319322727, 46.85292072037513],\n",
       "    [6.93538700713988, 46.85293410929544],\n",
       "    [6.935369189691445, 46.85294306526241],\n",
       "    [6.935346916120405, 46.85294753721848],\n",
       "    [6.935320123517576, 46.852951986286676],\n",
       "    [6.935297849953303, 46.852956458232995],\n",
       "    [6.935275509983937, 46.85295194529945],\n",
       "    [6.935253212153712, 46.85295196140115],\n",
       "    [6.935230952991549, 46.852943060536376],\n",
       "    [6.935195304776636, 46.852929697788085],\n",
       "    [6.932100688186397, 46.850468267954234],\n",
       "    [6.932078319467372, 46.85044147111533],\n",
       "    [6.932064948164416, 46.8504236368762],\n",
       "    [6.932051616348913, 46.85039688612008],\n",
       "    [6.932042652436589, 46.85037462460302],\n",
       "    [6.932038228581694, 46.8503433964152],\n",
       "    [6.932033765260011, 46.850321084752835],\n",
       "    [6.932038251549593, 46.850298824459074],\n",
       "    [6.932149696270135, 46.84944708762546],\n",
       "    [6.932176471833208, 46.84931331401735],\n",
       "    [6.9322433187911505, 46.84895218257507]]]},\n",
       " 'id': '0000000000000000005b',\n",
       " 'properties': {'ID': '21-1-510432',\n",
       "  'Jahr': 21,\n",
       "  'Kultur': 'Kartoffeln',\n",
       "  'empty_images_month_04': 1,\n",
       "  'empty_images_month_05': 3,\n",
       "  'empty_images_month_06': 0,\n",
       "  'empty_images_month_07': 1,\n",
       "  'empty_images_month_08': 1,\n",
       "  'empty_images_month_09': 2,\n",
       "  'empty_images_month_10': 1,\n",
       "  'et_blue_m3/ha_2019_04': 0,\n",
       "  'et_blue_m3/ha_2019_05': 0,\n",
       "  'et_blue_m3/ha_2019_06': 0,\n",
       "  'et_blue_m3/ha_2019_07': 169.36721657429555,\n",
       "  'et_blue_m3/ha_2019_08': 0,\n",
       "  'et_blue_m3/ha_2019_09': 0,\n",
       "  'et_blue_m3/ha_2019_10': 40.77504801666585,\n",
       "  'et_blue_m3_2019-04-01': 0,\n",
       "  'et_blue_m3_2019-04-11': 0,\n",
       "  'et_blue_m3_2019-04-21': 0,\n",
       "  'et_blue_m3_2019-05-01': 0,\n",
       "  'et_blue_m3_2019-05-11': 0,\n",
       "  'et_blue_m3_2019-05-21': 0,\n",
       "  'et_blue_m3_2019-06-01': 0,\n",
       "  'et_blue_m3_2019-06-11': 0,\n",
       "  'et_blue_m3_2019-06-21': 0,\n",
       "  'et_blue_m3_2019-07-01': 0,\n",
       "  'et_blue_m3_2019-07-11': 38.79001047006189,\n",
       "  'et_blue_m3_2019-07-21': 35.750639875605884,\n",
       "  'et_blue_m3_2019-08-01': 0,\n",
       "  'et_blue_m3_2019-08-11': 0,\n",
       "  'et_blue_m3_2019-08-21': 0,\n",
       "  'et_blue_m3_2019-09-01': 0,\n",
       "  'et_blue_m3_2019-09-11': 0,\n",
       "  'et_blue_m3_2019-09-21': 0,\n",
       "  'et_blue_m3_2019-10-01': 12.914187614833041,\n",
       "  'et_blue_m3_2019-10-11': 5.892120165494175,\n",
       "  'et_blue_m3_2019-10-21': 0,\n",
       "  'et_blue_m3_2019_04': 0,\n",
       "  'et_blue_m3_2019_05': 0,\n",
       "  'et_blue_m3_2019_06': 0,\n",
       "  'et_blue_m3_2019_07': 781.1571433322836,\n",
       "  'et_blue_m3_2019_08': 0,\n",
       "  'et_blue_m3_2019_09': 0,\n",
       "  'et_blue_m3_2019_10': 188.06307780327217,\n",
       "  'etc_threshold': 0.65,\n",
       "  'filtered_et_blue_m3/ha_2019_04': 0,\n",
       "  'filtered_et_blue_m3/ha_2019_05': 0,\n",
       "  'filtered_et_blue_m3/ha_2019_06': 0,\n",
       "  'filtered_et_blue_m3/ha_2019_07': 169.36721657429555,\n",
       "  'filtered_et_blue_m3/ha_2019_08': 0,\n",
       "  'filtered_et_blue_m3/ha_2019_09': 0,\n",
       "  'filtered_et_blue_m3/ha_2019_10': 0,\n",
       "  'median_et_blue_2019-04-01': 0,\n",
       "  'median_et_blue_2019-04-11': 0,\n",
       "  'median_et_blue_2019-04-21': -99,\n",
       "  'median_et_blue_2019-05-01': -99,\n",
       "  'median_et_blue_2019-05-11': -99,\n",
       "  'median_et_blue_2019-05-21': -99,\n",
       "  'median_et_blue_2019-06-01': 0,\n",
       "  'median_et_blue_2019-06-11': 0,\n",
       "  'median_et_blue_2019-06-21': 0,\n",
       "  'median_et_blue_2019-07-01': -99,\n",
       "  'median_et_blue_2019-07-11': 0.8410287430998457,\n",
       "  'median_et_blue_2019-07-21': 0.7751303842210091,\n",
       "  'median_et_blue_2019-08-01': 0,\n",
       "  'median_et_blue_2019-08-11': -99,\n",
       "  'median_et_blue_2019-08-21': 0,\n",
       "  'median_et_blue_2019-09-01': -99,\n",
       "  'median_et_blue_2019-09-11': 0,\n",
       "  'median_et_blue_2019-09-21': -99,\n",
       "  'median_et_blue_2019-10-01': 0.2800000011920929,\n",
       "  'median_et_blue_2019-10-11': 0.1277504789745656,\n",
       "  'median_et_blue_2019-10-21': -99,\n",
       "  'minimum_irrigation_threshold': 140,\n",
       "  'xkoord': 2561574.569,\n",
       "  'ykoord': 1189042.99,\n",
       "  'zero_fraction_2019-04-01': 0.9979921077065925,\n",
       "  'zero_fraction_2019-04-11': 0.9979921077065925,\n",
       "  'zero_fraction_2019-04-21': 0,\n",
       "  'zero_fraction_2019-05-01': 0,\n",
       "  'zero_fraction_2019-05-11': 0,\n",
       "  'zero_fraction_2019-05-21': 0,\n",
       "  'zero_fraction_2019-06-01': 0.9979921077065925,\n",
       "  'zero_fraction_2019-06-11': 0.9979921077065925,\n",
       "  'zero_fraction_2019-06-21': 0.9979921077065925,\n",
       "  'zero_fraction_2019-07-01': 0,\n",
       "  'zero_fraction_2019-07-11': 0.22822075208913653,\n",
       "  'zero_fraction_2019-07-21': 0.2572075208913649,\n",
       "  'zero_fraction_2019-08-01': 0.9979921077065925,\n",
       "  'zero_fraction_2019-08-11': 0,\n",
       "  'zero_fraction_2019-08-21': 0.9979921077065925,\n",
       "  'zero_fraction_2019-09-01': 0,\n",
       "  'zero_fraction_2019-09-11': 0.9979921077065925,\n",
       "  'zero_fraction_2019-09-21': 0,\n",
       "  'zero_fraction_2019-10-01': 0.3538126740947075,\n",
       "  'zero_fraction_2019-10-11': 0.644138811513463,\n",
       "  'zero_fraction_2019-10-21': 0}}"
      ]
     },
     "execution_count": 74,
     "metadata": {},
     "output_type": "execute_result"
    }
   ],
   "source": [
    "def filter_et_values(feature: ee.Feature, threshold: float) -> ee.Feature:\n",
    "    months = [\"04\", \"05\", \"06\", \"07\", \"08\", \"09\", \"10\"]\n",
    "    new_properties = {}\n",
    "\n",
    "    threshold = ee.Number(threshold)\n",
    "\n",
    "    feature = feature.set({\"minimum_irrigation_threshold\": threshold})\n",
    "\n",
    "    for month in months:\n",
    "        # Get number of empty images for the month\n",
    "        empty_images = ee.Number(feature.get(f\"empty_images_month_{month}\"))\n",
    "\n",
    "        # Calculate adjusted threshold\n",
    "        adjusted_threshold = threshold.multiply(\n",
    "            ee.Number(3).subtract(empty_images)\n",
    "        ).divide(3)\n",
    "\n",
    "        # Get and filter ET value\n",
    "        property_name = f\"et_blue_m3/ha_{YEAR}_{month}\"\n",
    "        value = ee.Number(feature.get(property_name))\n",
    "        filtered_value = ee.Algorithms.If(value.lt(adjusted_threshold), 0, value)\n",
    "        new_properties[f\"filtered_{property_name}\"] = filtered_value\n",
    "\n",
    "    return feature.set(new_properties)\n",
    "\n",
    "\n",
    "filtered_fc = processed_fc.map(lambda f: filter_et_values(f, 0))\n",
    "for threshold in [100, 140]:\n",
    "    filtered_fc = processed_fc.map(lambda f: filter_et_values(f, threshold))\n",
    "\n",
    "    task_name = f\"min_irr_{int(threshold)}_{YEAR}\"\n",
    "\n",
    "    export_name = PATH_TO_FEATURE_COLLECTION + f\"_min_irr_{int(threshold)}\"\n",
    "\n",
    "    export_feature_collection(\n",
    "        collection=filtered_fc,\n",
    "        task_name=task_name,\n",
    "        asset_id=export_name,\n",
    "    )\n",
    "\n",
    "    print(f\"Exported {export_name} for {ET_PRODUCT}\")\n",
    "\n",
    "\n",
    "filtered_fc.first().getInfo()\n",
    "\n",
    "\n"
   ]
  },
  {
   "cell_type": "code",
   "execution_count": 379,
   "metadata": {},
   "outputs": [
    {
     "data": {
      "text/html": [
       "\n",
       "            <style>\n",
       "                .geemap-dark {\n",
       "                    --jp-widgets-color: white;\n",
       "                    --jp-widgets-label-color: white;\n",
       "                    --jp-ui-font-color1: white;\n",
       "                    --jp-layout-color2: #454545;\n",
       "                    background-color: #383838;\n",
       "                }\n",
       "\n",
       "                .geemap-dark .jupyter-button {\n",
       "                    --jp-layout-color3: #383838;\n",
       "                }\n",
       "\n",
       "                .geemap-colab {\n",
       "                    background-color: var(--colab-primary-surface-color, white);\n",
       "                }\n",
       "\n",
       "                .geemap-colab .jupyter-button {\n",
       "                    --jp-layout-color3: var(--colab-primary-surface-color, white);\n",
       "                }\n",
       "            </style>\n",
       "            "
      ],
      "text/plain": [
       "<IPython.core.display.HTML object>"
      ]
     },
     "metadata": {},
     "output_type": "display_data"
    },
    {
     "data": {
      "application/vnd.jupyter.widget-view+json": {
       "model_id": "287d9defc241423a8a3c78e8f2947aef",
       "version_major": 2,
       "version_minor": 0
      },
      "text/plain": [
       "Map(center=[46.81340138134063, 6.909127982292969], controls=(WidgetControl(options=['position', 'transparent_b…"
      ]
     },
     "execution_count": 379,
     "metadata": {},
     "output_type": "execute_result"
    }
   ],
   "source": [
    "Map = geemap.Map(height=\"800px\")\n",
    "\n",
    "\n",
    "irrigation_09 = processed_fc.reduceToImage(\n",
    "    properties=[\"et_blue_m3/ha_2019_08\"], reducer=ee.Reducer.first()\n",
    ")\n",
    "\n",
    "Map.addLayer(\n",
    "    irrigation_09, {\"min\": 0, \"max\": 200, \"palette\": \"viridis\"}, \"irrigation_08\"\n",
    ")\n",
    "\n",
    "Map.add_colorbar({\"min\": 0, \"max\": 200, \"palette\": \"viridis\"})\n",
    "\n",
    "Map.addLayer(processed_fc, {}, \"ET_blue_per_field\")\n",
    "Map.centerObject(processed_fc, 12)\n",
    "\n",
    "Map"
   ]
  },
  {
   "cell_type": "code",
   "execution_count": 23,
   "metadata": {},
   "outputs": [
    {
     "data": {
      "text/html": [
       "\n",
       "            <style>\n",
       "                .geemap-dark {\n",
       "                    --jp-widgets-color: white;\n",
       "                    --jp-widgets-label-color: white;\n",
       "                    --jp-ui-font-color1: white;\n",
       "                    --jp-layout-color2: #454545;\n",
       "                    background-color: #383838;\n",
       "                }\n",
       "\n",
       "                .geemap-dark .jupyter-button {\n",
       "                    --jp-layout-color3: #383838;\n",
       "                }\n",
       "\n",
       "                .geemap-colab {\n",
       "                    background-color: var(--colab-primary-surface-color, white);\n",
       "                }\n",
       "\n",
       "                .geemap-colab .jupyter-button {\n",
       "                    --jp-layout-color3: var(--colab-primary-surface-color, white);\n",
       "                }\n",
       "            </style>\n",
       "            "
      ],
      "text/plain": [
       "<IPython.core.display.HTML object>"
      ]
     },
     "metadata": {},
     "output_type": "display_data"
    }
   ],
   "source": [
    "# import matplotlib.pyplot as plt\n",
    "# import numpy as np\n",
    "# from typing import List, Tuple\n",
    "# import re\n",
    "\n",
    "# def get_et_blue_properties(feature: ee.Feature) -> Tuple[List[float], float]:\n",
    "#     \"\"\"Extract positive dekadal et_blue values and area from feature.\"\"\"\n",
    "#     properties = feature.toDictionary().getInfo()\n",
    "#     geometry = feature.geometry().area().getInfo()\n",
    "#     area_ha = geometry / 10000  # Convert square meters to hectares\n",
    "    \n",
    "#     dekadal_pattern = re.compile(r'et_blue_m3_\\d{4}-\\d{2}-(01|11|21)$')\n",
    "#     et_blue_values = [\n",
    "#         float(value) for key, value in properties.items()\n",
    "#         if dekadal_pattern.match(key) and \n",
    "#         isinstance(value, (int, float)) and \n",
    "#         value > 0\n",
    "#     ]\n",
    "#     return et_blue_values, area_ha\n",
    "\n",
    "# def calculate_field_means(fc: ee.FeatureCollection) -> List[float]:\n",
    "#     \"\"\"Calculate mean positive et_blue values per hectare for each field.\"\"\"\n",
    "#     means = []\n",
    "#     features = fc.getInfo()['features']\n",
    "    \n",
    "#     for feature in features:\n",
    "#         values, area = get_et_blue_properties(ee.Feature(feature))\n",
    "#         if values:\n",
    "#             # Normalize by area\n",
    "#             normalized_values = [v / area for v in values]\n",
    "#             means.append(np.mean(normalized_values))\n",
    "    \n",
    "#     return means\n",
    "\n",
    "# def plot_histogram(means: List[float], bins: int = 30) -> None:\n",
    "#     \"\"\"Create histogram of mean et_blue values.\"\"\"\n",
    "#     plt.figure(figsize=(10, 6))\n",
    "#     plt.hist(means, bins=bins, edgecolor='black')\n",
    "#     plt.xlabel('Mean Positive ET Blue (m³/ha)')\n",
    "#     plt.ylabel('Frequency')\n",
    "#     plt.title('Distribution of Mean Positive Dekadal ET Blue Values')\n",
    "#     plt.grid(True, alpha=0.3)\n",
    "#     sns.despine()\n",
    "#     plt.show()\n",
    "\n",
    "# means = calculate_field_means(filtered_fc)\n",
    "# plot_histogram(means)"
   ]
  },
  {
   "cell_type": "markdown",
   "metadata": {},
   "source": [
    "## Final step: preparing the table for Keiser"
   ]
  },
  {
   "cell_type": "code",
   "execution_count": 69,
   "metadata": {},
   "outputs": [
    {
     "data": {
      "text/html": [
       "\n",
       "            <style>\n",
       "                .geemap-dark {\n",
       "                    --jp-widgets-color: white;\n",
       "                    --jp-widgets-label-color: white;\n",
       "                    --jp-ui-font-color1: white;\n",
       "                    --jp-layout-color2: #454545;\n",
       "                    background-color: #383838;\n",
       "                }\n",
       "\n",
       "                .geemap-dark .jupyter-button {\n",
       "                    --jp-layout-color3: #383838;\n",
       "                }\n",
       "\n",
       "                .geemap-colab {\n",
       "                    background-color: var(--colab-primary-surface-color, white);\n",
       "                }\n",
       "\n",
       "                .geemap-colab .jupyter-button {\n",
       "                    --jp-layout-color3: var(--colab-primary-surface-color, white);\n",
       "                }\n",
       "            </style>\n",
       "            "
      ],
      "text/plain": [
       "<IPython.core.display.HTML object>"
      ]
     },
     "metadata": {},
     "output_type": "display_data"
    }
   ],
   "source": [
    "# YEAR = 2018\n",
    "ET_PRODUCT = \"Landsat_30m\"\n",
    "# ET_PRODUCT = \"WaPOR_10m\"\n",
    "\n",
    "# MIN_IRRIGATION_THRESHOLD = 100  # m³/ha\n",
    "# ETC_THRESHOLD = 70  # %\n",
    "\n",
    "\n",
    "# PATH_TO_FEATURE_COLLECTION = f\"projects/thurgau-irrigation/assets/FribourgAndVaud/ET_blue_per_field/ET_blue_per_field_{YEAR}_dekadal_from_{ET_PRODUCT}_ETC_threshold_{ETC_THRESHOLD}_min_irr_{MIN_IRRIGATION_THRESHOLD}\"\n",
    "\n",
    "# fc = ee.FeatureCollection(PATH_TO_FEATURE_COLLECTION)"
   ]
  },
  {
   "cell_type": "code",
   "execution_count": 223,
   "metadata": {},
   "outputs": [
    {
     "data": {
      "text/html": [
       "\n",
       "            <style>\n",
       "                .geemap-dark {\n",
       "                    --jp-widgets-color: white;\n",
       "                    --jp-widgets-label-color: white;\n",
       "                    --jp-ui-font-color1: white;\n",
       "                    --jp-layout-color2: #454545;\n",
       "                    background-color: #383838;\n",
       "                }\n",
       "\n",
       "                .geemap-dark .jupyter-button {\n",
       "                    --jp-layout-color3: #383838;\n",
       "                }\n",
       "\n",
       "                .geemap-colab {\n",
       "                    background-color: var(--colab-primary-surface-color, white);\n",
       "                }\n",
       "\n",
       "                .geemap-colab .jupyter-button {\n",
       "                    --jp-layout-color3: var(--colab-primary-surface-color, white);\n",
       "                }\n",
       "            </style>\n",
       "            "
      ],
      "text/plain": [
       "<IPython.core.display.HTML object>"
      ]
     },
     "metadata": {},
     "output_type": "display_data"
    }
   ],
   "source": [
    "# fc.first().getInfo()"
   ]
  },
  {
   "cell_type": "code",
   "execution_count": 70,
   "metadata": {},
   "outputs": [
    {
     "data": {
      "text/html": [
       "\n",
       "            <style>\n",
       "                .geemap-dark {\n",
       "                    --jp-widgets-color: white;\n",
       "                    --jp-widgets-label-color: white;\n",
       "                    --jp-ui-font-color1: white;\n",
       "                    --jp-layout-color2: #454545;\n",
       "                    background-color: #383838;\n",
       "                }\n",
       "\n",
       "                .geemap-dark .jupyter-button {\n",
       "                    --jp-layout-color3: #383838;\n",
       "                }\n",
       "\n",
       "                .geemap-colab {\n",
       "                    background-color: var(--colab-primary-surface-color, white);\n",
       "                }\n",
       "\n",
       "                .geemap-colab .jupyter-button {\n",
       "                    --jp-layout-color3: var(--colab-primary-surface-color, white);\n",
       "                }\n",
       "            </style>\n",
       "            "
      ],
      "text/plain": [
       "<IPython.core.display.HTML object>"
      ]
     },
     "metadata": {},
     "output_type": "display_data"
    }
   ],
   "source": [
    "from typing import List, Dict\n",
    "\n",
    "\n",
    "def get_collection_path(year: int, min_irr: int, etc: float) -> str:\n",
    "    \"\"\"Generate path for feature collection based on parameters.\"\"\"\n",
    "    return f\"projects/thurgau-irrigation/assets/FribourgAndVaud/ET_blue_per_field/ET_blue_per_field_{year}_dekadal_from_{ET_PRODUCT}_ETC_threshold_{int(etc*100)}_v2_min_irr_{min_irr}\"\n",
    "\n",
    "\n",
    "def calculate_yearly_sum(feature: ee.Feature, year: int) -> ee.Feature:\n",
    "    \"\"\"Calculate yearly sum of filtered ET blue values.\"\"\"\n",
    "    months = [\"04\", \"05\", \"06\", \"07\", \"08\", \"09\", \"10\"]\n",
    "    properties = [f\"filtered_et_blue_m3/ha_{year}_{month}\" for month in months]\n",
    "    yearly_sum = ee.Number(0)\n",
    "\n",
    "    for prop in properties:\n",
    "        yearly_sum = yearly_sum.add(ee.Number(feature.get(prop)))\n",
    "\n",
    "    return feature.set(\"yearly_sum\", yearly_sum)\n",
    "\n",
    "\n",
    "def process_collections(years: List[int]) -> pd.DataFrame:\n",
    "    \"\"\"Process collections for multiple years and compute irrigation confidence.\"\"\"\n",
    "    min_irr_thresholds = [100, 140]\n",
    "    etc_thresholds = [0.6, 0.65]#, 0.7\n",
    "    id_sums: Dict[str, Dict[int, int]] = {}\n",
    "\n",
    "    for year in years:\n",
    "        for min_irr in min_irr_thresholds:\n",
    "            for etc in etc_thresholds:\n",
    "                path = get_collection_path(year, min_irr, etc)\n",
    "                fc = ee.FeatureCollection(path)\n",
    "                fc_with_sums = fc.map(lambda f: calculate_yearly_sum(f, year))\n",
    "                results = fc_with_sums.select([\"ID\", \"yearly_sum\"]).getInfo()\n",
    "\n",
    "                for feature in results[\"features\"]:\n",
    "                    id_val = feature[\"properties\"][\"ID\"]\n",
    "                    yearly_sum = feature[\"properties\"][\"yearly_sum\"]\n",
    "\n",
    "                    if id_val not in id_sums:\n",
    "                        id_sums[id_val] = {y: 0 for y in years}\n",
    "\n",
    "                    if yearly_sum > 0:\n",
    "                        id_sums[id_val][year] += 1\n",
    "\n",
    "    df_data = []\n",
    "    for id_val, year_counts in id_sums.items():\n",
    "        row_data = {\"ID\": id_val}\n",
    "        # Extract cultivation year from ID (first two digits)\n",
    "        cultivation_year = 2000 + int(id_val.split(\"-\")[0])\n",
    "\n",
    "        for year in years:\n",
    "            if year == cultivation_year:\n",
    "                row_data[f\"confidence_{year} [%]\"] = (year_counts[year] / 4.0) * 100\n",
    "            else:\n",
    "                row_data[f\"confidence_{year} [%]\"] = \"KA\"\n",
    "\n",
    "        df_data.append(row_data)\n",
    "\n",
    "    return pd.DataFrame(df_data)"
   ]
  },
  {
   "cell_type": "code",
   "execution_count": 385,
   "metadata": {},
   "outputs": [
    {
     "data": {
      "text/html": [
       "\n",
       "            <style>\n",
       "                .geemap-dark {\n",
       "                    --jp-widgets-color: white;\n",
       "                    --jp-widgets-label-color: white;\n",
       "                    --jp-ui-font-color1: white;\n",
       "                    --jp-layout-color2: #454545;\n",
       "                    background-color: #383838;\n",
       "                }\n",
       "\n",
       "                .geemap-dark .jupyter-button {\n",
       "                    --jp-layout-color3: #383838;\n",
       "                }\n",
       "\n",
       "                .geemap-colab {\n",
       "                    background-color: var(--colab-primary-surface-color, white);\n",
       "                }\n",
       "\n",
       "                .geemap-colab .jupyter-button {\n",
       "                    --jp-layout-color3: var(--colab-primary-surface-color, white);\n",
       "                }\n",
       "            </style>\n",
       "            "
      ],
      "text/plain": [
       "<IPython.core.display.HTML object>"
      ]
     },
     "metadata": {},
     "output_type": "display_data"
    }
   ],
   "source": [
    "years = [2019]#[2018, 2019, 2020, 2021]\n",
    "results = process_collections(years)"
   ]
  },
  {
   "cell_type": "code",
   "execution_count": 386,
   "metadata": {},
   "outputs": [
    {
     "data": {
      "text/html": [
       "\n",
       "            <style>\n",
       "                .geemap-dark {\n",
       "                    --jp-widgets-color: white;\n",
       "                    --jp-widgets-label-color: white;\n",
       "                    --jp-ui-font-color1: white;\n",
       "                    --jp-layout-color2: #454545;\n",
       "                    background-color: #383838;\n",
       "                }\n",
       "\n",
       "                .geemap-dark .jupyter-button {\n",
       "                    --jp-layout-color3: #383838;\n",
       "                }\n",
       "\n",
       "                .geemap-colab {\n",
       "                    background-color: var(--colab-primary-surface-color, white);\n",
       "                }\n",
       "\n",
       "                .geemap-colab .jupyter-button {\n",
       "                    --jp-layout-color3: var(--colab-primary-surface-color, white);\n",
       "                }\n",
       "            </style>\n",
       "            "
      ],
      "text/plain": [
       "<IPython.core.display.HTML object>"
      ]
     },
     "metadata": {},
     "output_type": "display_data"
    }
   ],
   "source": [
    "# results.to_csv(f\"/Users/cooper/Desktop/irrigation-mapper/data/irrigation_confidence_{ET_PRODUCT}.csv\", index=False)\n",
    "results.to_csv(f\"/Users/silvanragettli/Downloads/irrigation_confidence_{ET_PRODUCT}_v1.csv\", index=False)"
   ]
  },
  {
   "cell_type": "code",
   "execution_count": null,
   "metadata": {},
   "outputs": [],
   "source": []
  }
 ],
 "metadata": {
  "kernelspec": {
   "display_name": "venv",
   "language": "python",
   "name": "python3"
  },
  "language_info": {
   "codemirror_mode": {
    "name": "ipython",
    "version": 3
   },
   "file_extension": ".py",
   "mimetype": "text/x-python",
   "name": "python",
   "nbconvert_exporter": "python",
   "pygments_lexer": "ipython3",
   "version": "3.11.6"
  }
 },
 "nbformat": 4,
 "nbformat_minor": 2
}
