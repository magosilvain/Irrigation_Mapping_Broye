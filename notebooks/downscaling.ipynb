{
 "cells": [
  {
   "cell_type": "code",
   "execution_count": 38,
   "metadata": {},
   "outputs": [
    {
     "data": {
      "text/html": [
       "\n",
       "            <style>\n",
       "                .geemap-dark {\n",
       "                    --jp-widgets-color: white;\n",
       "                    --jp-widgets-label-color: white;\n",
       "                    --jp-ui-font-color1: white;\n",
       "                    --jp-layout-color2: #454545;\n",
       "                    background-color: #383838;\n",
       "                }\n",
       "\n",
       "                .geemap-dark .jupyter-button {\n",
       "                    --jp-layout-color3: #383838;\n",
       "                }\n",
       "\n",
       "                .geemap-colab {\n",
       "                    background-color: var(--colab-primary-surface-color, white);\n",
       "                }\n",
       "\n",
       "                .geemap-colab .jupyter-button {\n",
       "                    --jp-layout-color3: var(--colab-primary-surface-color, white);\n",
       "                }\n",
       "            </style>\n",
       "            "
      ],
      "text/plain": [
       "<IPython.core.display.HTML object>"
      ]
     },
     "metadata": {},
     "output_type": "display_data"
    }
   ],
   "source": [
    "import sys\n",
    "from pathlib import Path\n",
    "sys.path.append(str(Path().absolute().parent))"
   ]
  },
  {
   "cell_type": "code",
   "execution_count": 147,
   "metadata": {},
   "outputs": [
    {
     "data": {
      "text/html": [
       "\n",
       "            <style>\n",
       "                .geemap-dark {\n",
       "                    --jp-widgets-color: white;\n",
       "                    --jp-widgets-label-color: white;\n",
       "                    --jp-ui-font-color1: white;\n",
       "                    --jp-layout-color2: #454545;\n",
       "                    background-color: #383838;\n",
       "                }\n",
       "\n",
       "                .geemap-dark .jupyter-button {\n",
       "                    --jp-layout-color3: #383838;\n",
       "                }\n",
       "\n",
       "                .geemap-colab {\n",
       "                    background-color: var(--colab-primary-surface-color, white);\n",
       "                }\n",
       "\n",
       "                .geemap-colab .jupyter-button {\n",
       "                    --jp-layout-color3: var(--colab-primary-surface-color, white);\n",
       "                }\n",
       "            </style>\n",
       "            "
      ],
      "text/plain": [
       "<IPython.core.display.HTML object>"
      ]
     },
     "metadata": {},
     "output_type": "display_data"
    }
   ],
   "source": [
    "import ee \n",
    "import geemap\n",
    "\n",
    "#ee.Initialize(project=\"ee-sahellakes\")\n",
    "ee.Initialize(project=\"ee-india-reservoirs\")"
   ]
  },
  {
   "cell_type": "code",
   "execution_count": 113,
   "metadata": {},
   "outputs": [
    {
     "data": {
      "text/html": [
       "\n",
       "            <style>\n",
       "                .geemap-dark {\n",
       "                    --jp-widgets-color: white;\n",
       "                    --jp-widgets-label-color: white;\n",
       "                    --jp-ui-font-color1: white;\n",
       "                    --jp-layout-color2: #454545;\n",
       "                    background-color: #383838;\n",
       "                }\n",
       "\n",
       "                .geemap-dark .jupyter-button {\n",
       "                    --jp-layout-color3: #383838;\n",
       "                }\n",
       "\n",
       "                .geemap-colab {\n",
       "                    background-color: var(--colab-primary-surface-color, white);\n",
       "                }\n",
       "\n",
       "                .geemap-colab .jupyter-button {\n",
       "                    --jp-layout-color3: var(--colab-primary-surface-color, white);\n",
       "                }\n",
       "            </style>\n",
       "            "
      ],
      "text/plain": [
       "<IPython.core.display.HTML object>"
      ]
     },
     "metadata": {},
     "output_type": "display_data"
    }
   ],
   "source": [
    "from src.data_processing.downscaling import resample_image, Downscaler\n",
    "from src.data_processing.sentinel_preprocessing import load_sentinel2_data\n",
    "\n",
    "from utils.date_utils import (\n",
    "    set_to_first_of_month,\n",
    "    print_collection_dates,\n",
    "    create_centered_date_ranges,\n",
    ")\n",
    "from utils.ee_utils import harmonized_ts, export_image_to_asset, back_to_int, back_to_float\n",
    "from utils.harmonic_regressor import HarmonicRegressor\n",
    "\n",
    "from typing import List, Callable, Tuple"
   ]
  },
  {
   "cell_type": "code",
   "execution_count": 117,
   "metadata": {},
   "outputs": [
    {
     "data": {
      "text/html": [
       "\n",
       "            <style>\n",
       "                .geemap-dark {\n",
       "                    --jp-widgets-color: white;\n",
       "                    --jp-widgets-label-color: white;\n",
       "                    --jp-ui-font-color1: white;\n",
       "                    --jp-layout-color2: #454545;\n",
       "                    background-color: #383838;\n",
       "                }\n",
       "\n",
       "                .geemap-dark .jupyter-button {\n",
       "                    --jp-layout-color3: #383838;\n",
       "                }\n",
       "\n",
       "                .geemap-colab {\n",
       "                    background-color: var(--colab-primary-surface-color, white);\n",
       "                }\n",
       "\n",
       "                .geemap-colab .jupyter-button {\n",
       "                    --jp-layout-color3: var(--colab-primary-surface-color, white);\n",
       "                }\n",
       "            </style>\n",
       "            "
      ],
      "text/plain": [
       "<IPython.core.display.HTML object>"
      ]
     },
     "metadata": {},
     "output_type": "display_data"
    },
    {
     "name": "stdout",
     "output_type": "stream",
     "text": [
      "True\n",
      "{'RECENT': <MosaicType.RECENT: 'recent'>, 'LEAST_CLOUDY': <MosaicType.LEAST_CLOUDY: 'least_cloudy'>, 'MAX_NDVI': <MosaicType.MAX_NDVI: 'max_NDVI'>}\n"
     ]
    }
   ],
   "source": [
    "import importlib\n",
    "from utils import wapor_et_processing\n",
    "from utils import harmonic_regressor\n",
    "from utils import ee_utils\n",
    "from utils import date_utils\n",
    "\n",
    "# Reload the module to apply changes\n",
    "importlib.reload(wapor_et_processing)\n",
    "regressor = HarmonicRegressor()\n",
    "print(hasattr(regressor, \"fit2\"))  # Should return True\n",
    "\n",
    "# Reload the module\n",
    "importlib.reload(ee_utils)\n",
    "importlib.reload(date_utils)\n",
    "\n",
    "# Re-import harmonized_ts to ensure updated code is loaded\n",
    "from utils.ee_utils import harmonized_ts, MosaicType\n",
    "from utils.date_utils import create_monthly_date_ranges\n",
    "\n",
    "# Verify the updated MosaicType\n",
    "print(MosaicType.__members__)\n"
   ]
  },
  {
   "cell_type": "code",
   "execution_count": 99,
   "metadata": {},
   "outputs": [
    {
     "data": {
      "text/html": [
       "\n",
       "            <style>\n",
       "                .geemap-dark {\n",
       "                    --jp-widgets-color: white;\n",
       "                    --jp-widgets-label-color: white;\n",
       "                    --jp-ui-font-color1: white;\n",
       "                    --jp-layout-color2: #454545;\n",
       "                    background-color: #383838;\n",
       "                }\n",
       "\n",
       "                .geemap-dark .jupyter-button {\n",
       "                    --jp-layout-color3: #383838;\n",
       "                }\n",
       "\n",
       "                .geemap-colab {\n",
       "                    background-color: var(--colab-primary-surface-color, white);\n",
       "                }\n",
       "\n",
       "                .geemap-colab .jupyter-button {\n",
       "                    --jp-layout-color3: var(--colab-primary-surface-color, white);\n",
       "                }\n",
       "            </style>\n",
       "            "
      ],
      "text/plain": [
       "<IPython.core.display.HTML object>"
      ]
     },
     "metadata": {},
     "output_type": "display_data"
    }
   ],
   "source": [
    "def cloudscore_L8_T1L2(image):\n",
    "    \"\"\"\n",
    "    Apply cloud masking, scaling, and metadata extraction for Landsat 8 Collection 2 Level 2 imagery.\n",
    "    \n",
    "    Args:\n",
    "        image (ee.Image): Input Landsat 8 image.\n",
    "    \n",
    "    Returns:\n",
    "        ee.Image: Processed image with cloud and mask bands, metadata, and scaling applied.\n",
    "    \"\"\"\n",
    "    # Bitmask for QA_PIXEL\n",
    "    # Bit 0 - Fill, Bit 1 - Dilated Cloud, Bit 2 - Cirrus, Bit 3 - Cloud, Bit 4 - Cloud Shadow\n",
    "    qa_mask = image.select('QA_PIXEL').bitwiseAnd(int('11111', 2)).eq(0)\n",
    "    # Mask for valid pixels\n",
    "    mask = qa_mask\n",
    "\n",
    "    # Create cloud band (value 100 for all pixels, 0 for cloud-free pixels in qa_mask)\n",
    "    image2 = ee.Image(100).rename('cloud').where(qa_mask.eq(1), 0)\n",
    "\n",
    "    # Update mask for QA_PIXEL values not equal to 0\n",
    "    image3 = image2.updateMask(image.select('QA_PIXEL').neq(0))\n",
    "\n",
    "    # Scale optical bands (SR_B*) and thermal bands (ST_B*)\n",
    "    optical_bands = image.select('SR_B.*').multiply(0.0000275).add(-0.2)\n",
    "    thermal_bands = image.select('ST_B.*').multiply(0.00341802).add(149.0).subtract(273)\n",
    "    # Compute NDVI (Normalized Difference Vegetation Index)\n",
    "    ndvi = image.normalizedDifference(['SR_B5', 'SR_B4']).rename('NDVI')\n",
    "\n",
    "    # Add scaled bands, cloud band, mask, and metadata\n",
    "    processed_image = (\n",
    "        image.addBands(optical_bands, None, True)\n",
    "        .addBands(thermal_bands, None, True).addBands(ndvi)\n",
    "        .updateMask(image2.select(['cloud']).lt(100))\n",
    "        .addBands(image2)\n",
    "        .addBands(mask.rename('mask'))\n",
    "        .set('SENSING_TIME', ee.Date(image.get('system:time_start')).format('YYYY-MM-dd'))\n",
    "        .set('SATELLITE', 'LANDSAT_8')\n",
    "    )\n",
    "\n",
    "    return processed_image\n"
   ]
  },
  {
   "cell_type": "markdown",
   "metadata": {},
   "source": [
    "---"
   ]
  },
  {
   "cell_type": "code",
   "execution_count": 160,
   "metadata": {},
   "outputs": [
    {
     "data": {
      "text/html": [
       "\n",
       "            <style>\n",
       "                .geemap-dark {\n",
       "                    --jp-widgets-color: white;\n",
       "                    --jp-widgets-label-color: white;\n",
       "                    --jp-ui-font-color1: white;\n",
       "                    --jp-layout-color2: #454545;\n",
       "                    background-color: #383838;\n",
       "                }\n",
       "\n",
       "                .geemap-dark .jupyter-button {\n",
       "                    --jp-layout-color3: #383838;\n",
       "                }\n",
       "\n",
       "                .geemap-colab {\n",
       "                    background-color: var(--colab-primary-surface-color, white);\n",
       "                }\n",
       "\n",
       "                .geemap-colab .jupyter-button {\n",
       "                    --jp-layout-color3: var(--colab-primary-surface-color, white);\n",
       "                }\n",
       "            </style>\n",
       "            "
      ],
      "text/plain": [
       "<IPython.core.display.HTML object>"
      ]
     },
     "metadata": {},
     "output_type": "display_data"
    },
    {
     "name": "stdout",
     "output_type": "stream",
     "text": [
      "490\n"
     ]
    }
   ],
   "source": [
    "\n",
    "# List of countries\n",
    "countries = ee.List([\n",
    "    'Albania',\n",
    "    'Bulgaria',\n",
    "    'Bosnia & Herzegovina',\n",
    "    'Croatia',\n",
    "    'Moldova',\n",
    "    'Macedonia',\n",
    "    'Montenegro',\n",
    "    'Poland',\n",
    "    'Romania',\n",
    "    'Serbia',\n",
    "    'Turkey',\n",
    "    'Kosovo'\n",
    "])\n",
    "\n",
    "# Load the FeatureCollection\n",
    "grid_results = ee.FeatureCollection('projects/ee-et-data/assets/ECA/GRID_area_irrg_WorldCereal_Corine_v2')\n",
    "borders=ee.FeatureCollection(\"USDOS/LSIB_SIMPLE/2017\")\n",
    "# Map over the FeatureCollection to add a 'combined' property\n",
    "grid_results = grid_results.map(lambda ft: ft.set(\n",
    "    'combined',\n",
    "    ee.Number(ft.get('Corine')).gt(0).Or(ee.Number(ft.get('WorldCereal')).gt(1000))\n",
    "))\n",
    "\n",
    "# Filter features where 'combined' equals 1\n",
    "loaded_collections = grid_results.filter(ee.Filter.eq('combined', 1))\n",
    "\n",
    "# Function to filter borders for each country and combine them\n",
    "def add_to_list(str, previous):\n",
    "    previous = ee.List(previous)\n",
    "    return previous.add(borders.filter(ee.Filter.eq('country_na', ee.String(str))).first())\n",
    "\n",
    "# Accumulate borders for the specified countries\n",
    "borders_ECA = ee.List(countries.iterate(add_to_list, ee.List([])))\n",
    "borders_ECA = ee.FeatureCollection(borders_ECA)\n",
    "\n",
    "# Filter loadedCollections to the bounds of the borders_ECA\n",
    "loaded_collections = loaded_collections.filterBounds(borders_ECA)\n",
    "\n",
    "# Map over loadedCollections to set 'fid' and 'scheme_property_name'\n",
    "scheme_property_name = 'fid_property'  # Replace with your actual scheme property name\n",
    "aoi_buffered = loaded_collections.map(lambda ft: ft.set(\n",
    "    'fid', ee.Number(ft.get('fid'))\n",
    ").set(\n",
    "    scheme_property_name, ee.String('fid_').cat(ee.String(ft.get('fid')))\n",
    "))\n",
    "\n",
    "fids=aoi_buffered.aggregate_array('fid').getInfo()\n",
    "print(len(fids))\n",
    "\n",
    "# Get the first feature and its geometry\n",
    "aoi_feature = aoi_buffered.filter(ee.Filter.eq('fid',27721)).first()\n",
    "aoi_geometry = aoi_feature.geometry()\n",
    "\n",
    "# Define the AOI\n",
    "aoi = aoi_geometry\n",
    "\n",
    "# Define a crop mask\n",
    "WorldCereal=ee.ImageCollection(\"ESA/WorldCereal/2021/MODELS/v100\");\n",
    "CORINE=ee.Image(\"COPERNICUS/CORINE/V20/100m/2018\")\n",
    "CORINE_mosaic=CORINE.eq(212).Or(CORINE.eq(213)).selfMask()\n",
    "\n",
    "# Define the LULC mask using WorldCereal and blend with CORINE mosaic\n",
    "lulc = (\n",
    "    WorldCereal.filter(ee.Filter.eq('product', 'temporarycrops')).max()\n",
    "    .select('classification').gt(50).selfMask()\n",
    "    .updateMask(\n",
    "        WorldCereal.filter(ee.Filter.eq('product', 'temporarycrops')).max()\n",
    "        .select('confidence').gt(50)\n",
    "    )\n",
    "    .unmask(0)\n",
    "    .blend(CORINE_mosaic)\n",
    "    .selfMask()\n",
    ")\n",
    "\n",
    "#keep only WorldCereal_temporarycrops, mask all the rest\n",
    "#clip with country boundaries\n",
    "#make sure the date of the WAPOR image is the middle of the month\n",
    "#file name: use fid"
   ]
  },
  {
   "cell_type": "code",
   "execution_count": 7,
   "metadata": {},
   "outputs": [
    {
     "data": {
      "text/html": [
       "\n",
       "            <style>\n",
       "                .geemap-dark {\n",
       "                    --jp-widgets-color: white;\n",
       "                    --jp-widgets-label-color: white;\n",
       "                    --jp-ui-font-color1: white;\n",
       "                    --jp-layout-color2: #454545;\n",
       "                    background-color: #383838;\n",
       "                }\n",
       "\n",
       "                .geemap-dark .jupyter-button {\n",
       "                    --jp-layout-color3: #383838;\n",
       "                }\n",
       "\n",
       "                .geemap-colab {\n",
       "                    background-color: var(--colab-primary-surface-color, white);\n",
       "                }\n",
       "\n",
       "                .geemap-colab .jupyter-button {\n",
       "                    --jp-layout-color3: var(--colab-primary-surface-color, white);\n",
       "                }\n",
       "            </style>\n",
       "            "
      ],
      "text/plain": [
       "<IPython.core.display.HTML object>"
      ]
     },
     "metadata": {},
     "output_type": "display_data"
    }
   ],
   "source": [
    "first_year = 2021\n",
    "last_year = 2021\n",
    "wapor_et_data = load_wapor_et_data(\n",
    "    first_year, last_year, frequency=\"monthly\"\n",
    ")#.filterBounds(aoi)\n"
   ]
  },
  {
   "cell_type": "markdown",
   "metadata": {},
   "source": [
    "## Constants"
   ]
  },
  {
   "cell_type": "code",
   "execution_count": 161,
   "metadata": {},
   "outputs": [
    {
     "data": {
      "text/html": [
       "\n",
       "            <style>\n",
       "                .geemap-dark {\n",
       "                    --jp-widgets-color: white;\n",
       "                    --jp-widgets-label-color: white;\n",
       "                    --jp-ui-font-color1: white;\n",
       "                    --jp-layout-color2: #454545;\n",
       "                    background-color: #383838;\n",
       "                }\n",
       "\n",
       "                .geemap-dark .jupyter-button {\n",
       "                    --jp-layout-color3: #383838;\n",
       "                }\n",
       "\n",
       "                .geemap-colab {\n",
       "                    background-color: var(--colab-primary-surface-color, white);\n",
       "                }\n",
       "\n",
       "                .geemap-colab .jupyter-button {\n",
       "                    --jp-layout-color3: var(--colab-primary-surface-color, white);\n",
       "                }\n",
       "            </style>\n",
       "            "
      ],
      "text/plain": [
       "<IPython.core.display.HTML object>"
      ]
     },
     "metadata": {},
     "output_type": "display_data"
    }
   ],
   "source": [
    "#PATH_TO_AOI = \"projects/thurgau-irrigation/assets/FribourgAndVaud/broye_bounding_box\"\n",
    "#PATH_TO_ET_PRODUCT = \"projects/thurgau-irrigation/assets/ET_products/Thurgau/WaPOR_300m\"\n",
    "YEAR = 2021\n",
    "USE_SR = False if YEAR < 2019 else True\n",
    "BUFFER_DAYS = 15\n",
    "BAND_TO_RESAMPLE = \"ET\"\n",
    "#BANDS_TO_HARMONIZE = [\"B3\", \"B4\", \"B8\", \"B11\", \"B12\"]\n",
    "BANDS_TO_HARMONIZE = [\"NDVI\", \"SR_B3\", \"SR_B4\", \"SR_B5\", \"SR_B6\", \"ST_B10\"]\n",
    "AGGREGATION_OPTIONS = {\n",
    "    \"agg_type\": \"mosaic\",\n",
    "    #\"mosaic_type\": \"least_cloudy\",\n",
    "    \"mosaic_type\": \"max_NDVI\",\n",
    "    \"band_name\": \"NDVI\",\n",
    "}\n",
    "INDEXES_FOR_HARMONIZATION = [\"NDVI\",  \"NDWI\",\"NDBI\"]#,,\"ST_B10\"\n",
    "INDEPENDENT_BANDS = [\"gap_filled_NDVI\", \"gap_filled_NDWI\", \"gap_filled_NDBI\"]#, \"gap_filled_ST_B10\"\n",
    "DEPENDENT_BAND = [\"ET\"]\n",
    "NUMBER_OF_IMAGES = 7\n",
    "TEMPORAL_RESOLUTION = \"monthly\"\n",
    "DOWNSCALED_ASSET_PATH = (\n",
    "    f\"projects/ee-et-data/assets/ECA/ET_data/WAPOR_downscaled_L8\"\n",
    ")"
   ]
  },
  {
   "cell_type": "markdown",
   "metadata": {},
   "source": [
    "## 1. Load ET product"
   ]
  },
  {
   "cell_type": "code",
   "execution_count": null,
   "metadata": {},
   "outputs": [
    {
     "data": {
      "text/html": [
       "\n",
       "            <style>\n",
       "                .geemap-dark {\n",
       "                    --jp-widgets-color: white;\n",
       "                    --jp-widgets-label-color: white;\n",
       "                    --jp-ui-font-color1: white;\n",
       "                    --jp-layout-color2: #454545;\n",
       "                    background-color: #383838;\n",
       "                }\n",
       "\n",
       "                .geemap-dark .jupyter-button {\n",
       "                    --jp-layout-color3: #383838;\n",
       "                }\n",
       "\n",
       "                .geemap-colab {\n",
       "                    background-color: var(--colab-primary-surface-color, white);\n",
       "                }\n",
       "\n",
       "                .geemap-colab .jupyter-button {\n",
       "                    --jp-layout-color3: var(--colab-primary-surface-color, white);\n",
       "                }\n",
       "            </style>\n",
       "            "
      ],
      "text/plain": [
       "<IPython.core.display.HTML object>"
      ]
     },
     "metadata": {},
     "output_type": "display_data"
    }
   ],
   "source": [
    "#aoi_feature_collection = ee.FeatureCollection(PATH_TO_AOI)\n",
    "#aoi_geometry = aoi_feature_collection.geometry().simplify(500)\n",
    "\n",
    "#aoi = aoi_geometry.buffer(600)\n",
    "\n",
    "\n",
    "# Map = geemap.Map()\n",
    "\n",
    "# Map.centerObject(aoi, 10)\n",
    "# Map.addLayer(aoi, {}, \"AOI\")\n",
    "\n",
    "\n",
    "# Map"
   ]
  },
  {
   "cell_type": "code",
   "execution_count": 162,
   "metadata": {},
   "outputs": [
    {
     "data": {
      "text/html": [
       "\n",
       "            <style>\n",
       "                .geemap-dark {\n",
       "                    --jp-widgets-color: white;\n",
       "                    --jp-widgets-label-color: white;\n",
       "                    --jp-ui-font-color1: white;\n",
       "                    --jp-layout-color2: #454545;\n",
       "                    background-color: #383838;\n",
       "                }\n",
       "\n",
       "                .geemap-dark .jupyter-button {\n",
       "                    --jp-layout-color3: #383838;\n",
       "                }\n",
       "\n",
       "                .geemap-colab {\n",
       "                    background-color: var(--colab-primary-surface-color, white);\n",
       "                }\n",
       "\n",
       "                .geemap-colab .jupyter-button {\n",
       "                    --jp-layout-color3: var(--colab-primary-surface-color, white);\n",
       "                }\n",
       "            </style>\n",
       "            "
      ],
      "text/plain": [
       "<IPython.core.display.HTML object>"
      ]
     },
     "metadata": {},
     "output_type": "display_data"
    }
   ],
   "source": [
    "et_coarse_collection = (\n",
    "    ee.ImageCollection(wapor_et_data)\n",
    "    #ee.ImageCollection(PATH_TO_ET_PRODUCT)\n",
    "    .filterBounds(aoi)\n",
    "    .filterDate(f\"{YEAR}-03-01\", f\"{YEAR}-10-31\")\n",
    "    .sort(\"system:time_start\")\n",
    ")\n",
    "\n",
    "et_coarse_list = et_coarse_collection.toList(et_coarse_collection.size())\n",
    "\n",
    "#print_collection_dates(et_coarse_collection)"
   ]
  },
  {
   "cell_type": "markdown",
   "metadata": {},
   "source": [
    "## 2. Load Sentinel-2 data"
   ]
  },
  {
   "cell_type": "code",
   "execution_count": 150,
   "metadata": {},
   "outputs": [
    {
     "data": {
      "text/html": [
       "\n",
       "            <style>\n",
       "                .geemap-dark {\n",
       "                    --jp-widgets-color: white;\n",
       "                    --jp-widgets-label-color: white;\n",
       "                    --jp-ui-font-color1: white;\n",
       "                    --jp-layout-color2: #454545;\n",
       "                    background-color: #383838;\n",
       "                }\n",
       "\n",
       "                .geemap-dark .jupyter-button {\n",
       "                    --jp-layout-color3: #383838;\n",
       "                }\n",
       "\n",
       "                .geemap-colab {\n",
       "                    background-color: var(--colab-primary-surface-color, white);\n",
       "                }\n",
       "\n",
       "                .geemap-colab .jupyter-button {\n",
       "                    --jp-layout-color3: var(--colab-primary-surface-color, white);\n",
       "                }\n",
       "            </style>\n",
       "            "
      ],
      "text/plain": [
       "<IPython.core.display.HTML object>"
      ]
     },
     "metadata": {},
     "output_type": "display_data"
    },
    {
     "name": "stdout",
     "output_type": "stream",
     "text": [
      "8\n"
     ]
    }
   ],
   "source": [
    "s2_collection = load_sentinel2_data((YEAR, YEAR), aoi=aoi, use_SR=USE_SR)\n",
    "\n",
    "time_intervals = create_centered_date_ranges(et_coarse_list, buffer_days=BUFFER_DAYS)\n",
    "print(time_intervals.length().getInfo())\n",
    "s2_harmonized = harmonized_ts(\n",
    "    masked_collection=s2_collection,\n",
    "    band_list=BANDS_TO_HARMONIZE,\n",
    "    time_intervals=time_intervals,\n",
    "    options=AGGREGATION_OPTIONS,\n",
    ")\n",
    "\n",
    "# s2_harmonized.first().bandNames().getInfo()"
   ]
  },
  {
   "cell_type": "code",
   "execution_count": 163,
   "metadata": {},
   "outputs": [
    {
     "data": {
      "text/html": [
       "\n",
       "            <style>\n",
       "                .geemap-dark {\n",
       "                    --jp-widgets-color: white;\n",
       "                    --jp-widgets-label-color: white;\n",
       "                    --jp-ui-font-color1: white;\n",
       "                    --jp-layout-color2: #454545;\n",
       "                    background-color: #383838;\n",
       "                }\n",
       "\n",
       "                .geemap-dark .jupyter-button {\n",
       "                    --jp-layout-color3: #383838;\n",
       "                }\n",
       "\n",
       "                .geemap-colab {\n",
       "                    background-color: var(--colab-primary-surface-color, white);\n",
       "                }\n",
       "\n",
       "                .geemap-colab .jupyter-button {\n",
       "                    --jp-layout-color3: var(--colab-primary-surface-color, white);\n",
       "                }\n",
       "            </style>\n",
       "            "
      ],
      "text/plain": [
       "<IPython.core.display.HTML object>"
      ]
     },
     "metadata": {},
     "output_type": "display_data"
    }
   ],
   "source": [
    "# Filter the Landsat 8 ImageCollection and apply the cloud masking function\n",
    "l8_collection = (\n",
    "    ee.ImageCollection('LANDSAT/LC08/C02/T1_L2')\n",
    "    .filterBounds(aoi)\n",
    "    .filter(ee.Filter.calendarRange(YEAR, YEAR, 'year'))\n",
    "    .map(cloudscore_L8_T1L2)\n",
    ")\n",
    "\n",
    "time_intervals = create_monthly_date_ranges(et_coarse_list)\n",
    "\n",
    "l8_harmonized = harmonized_ts(\n",
    "    masked_collection=l8_collection,\n",
    "    band_list=BANDS_TO_HARMONIZE,\n",
    "    time_intervals=time_intervals,\n",
    "    options=AGGREGATION_OPTIONS,\n",
    ")\n",
    "#print(l8_harmonized.size().getInfo())\n",
    "\n",
    "#l8_harmonized.first().bandNames().getInfo()"
   ]
  },
  {
   "cell_type": "markdown",
   "metadata": {},
   "source": [
    "### 2.1 Prepare the Sentinel-2 data for harmonization"
   ]
  },
  {
   "cell_type": "code",
   "execution_count": 164,
   "metadata": {},
   "outputs": [
    {
     "data": {
      "text/html": [
       "\n",
       "            <style>\n",
       "                .geemap-dark {\n",
       "                    --jp-widgets-color: white;\n",
       "                    --jp-widgets-label-color: white;\n",
       "                    --jp-ui-font-color1: white;\n",
       "                    --jp-layout-color2: #454545;\n",
       "                    background-color: #383838;\n",
       "                }\n",
       "\n",
       "                .geemap-dark .jupyter-button {\n",
       "                    --jp-layout-color3: #383838;\n",
       "                }\n",
       "\n",
       "                .geemap-colab {\n",
       "                    background-color: var(--colab-primary-surface-color, white);\n",
       "                }\n",
       "\n",
       "                .geemap-colab .jupyter-button {\n",
       "                    --jp-layout-color3: var(--colab-primary-surface-color, white);\n",
       "                }\n",
       "            </style>\n",
       "            "
      ],
      "text/plain": [
       "<IPython.core.display.HTML object>"
      ]
     },
     "metadata": {},
     "output_type": "display_data"
    }
   ],
   "source": [
    "def add_temporal_bands(collection: ee.ImageCollection) -> ee.ImageCollection:\n",
    "    \"\"\"Add temporal bands to each image in the collection.\"\"\"\n",
    "    def _add_bands(image: ee.Image) -> ee.Image:\n",
    "        date = ee.Date(image.get('system:time_start'))\n",
    "        years = date.difference(ee.Date('1970-01-01'), 'year')\n",
    "        \n",
    "        projection = image.select([0]).projection()\n",
    "        time_band = ee.Image(years).float().rename('t')\n",
    "        constant_band = ee.Image.constant(1).rename('constant')\n",
    "        \n",
    "        return image.addBands([\n",
    "            time_band.setDefaultProjection(projection),\n",
    "            constant_band.setDefaultProjection(projection)\n",
    "        ])\n",
    "    \n",
    "    return collection.map(_add_bands)\n",
    "\n",
    "#s2_harmonized = add_temporal_bands(s2_harmonized)\n",
    "#s2_harmonized.first().bandNames().getInfo()\n",
    "\n",
    "l8_harmonized = add_temporal_bands(l8_harmonized)\n",
    "#l8_harmonized.first().bandNames().getInfo()"
   ]
  },
  {
   "cell_type": "code",
   "execution_count": 135,
   "metadata": {},
   "outputs": [
    {
     "data": {
      "text/html": [
       "\n",
       "            <style>\n",
       "                .geemap-dark {\n",
       "                    --jp-widgets-color: white;\n",
       "                    --jp-widgets-label-color: white;\n",
       "                    --jp-ui-font-color1: white;\n",
       "                    --jp-layout-color2: #454545;\n",
       "                    background-color: #383838;\n",
       "                }\n",
       "\n",
       "                .geemap-dark .jupyter-button {\n",
       "                    --jp-layout-color3: #383838;\n",
       "                }\n",
       "\n",
       "                .geemap-colab {\n",
       "                    background-color: var(--colab-primary-surface-color, white);\n",
       "                }\n",
       "\n",
       "                .geemap-colab .jupyter-button {\n",
       "                    --jp-layout-color3: var(--colab-primary-surface-color, white);\n",
       "                }\n",
       "            </style>\n",
       "            "
      ],
      "text/plain": [
       "<IPython.core.display.HTML object>"
      ]
     },
     "metadata": {},
     "output_type": "display_data"
    }
   ],
   "source": [
    "def compute_vegetation_indexes(image: ee.Image) -> ee.Image:\n",
    "    \"\"\"\n",
    "    Compute vegetation indexes for a given image\n",
    "\n",
    "    Args:\n",
    "        image (ee.Image): The image to compute the vegetation indexes for\n",
    "\n",
    "    Returns:\n",
    "        ee.Image: The input image with the vegetation indexes\n",
    "\n",
    "    \"\"\"\n",
    "    ndvi = image.normalizedDifference([\"B8\", \"B4\"]).rename(\"NDVI\")\n",
    "    ndwi = image.normalizedDifference([\"B3\", \"B8\"]).rename(\"NDWI\")\n",
    "    ndbi = image.normalizedDifference([\"B11\", \"B8\"]).rename(\"NDBI\")\n",
    "    return image.addBands(ndvi).addBands(ndwi).addBands(ndbi)\n",
    "\n",
    "s2_harmonized_w_vegetation_indexes = s2_harmonized.map(compute_vegetation_indexes)"
   ]
  },
  {
   "cell_type": "code",
   "execution_count": 165,
   "metadata": {},
   "outputs": [
    {
     "data": {
      "text/html": [
       "\n",
       "            <style>\n",
       "                .geemap-dark {\n",
       "                    --jp-widgets-color: white;\n",
       "                    --jp-widgets-label-color: white;\n",
       "                    --jp-ui-font-color1: white;\n",
       "                    --jp-layout-color2: #454545;\n",
       "                    background-color: #383838;\n",
       "                }\n",
       "\n",
       "                .geemap-dark .jupyter-button {\n",
       "                    --jp-layout-color3: #383838;\n",
       "                }\n",
       "\n",
       "                .geemap-colab {\n",
       "                    background-color: var(--colab-primary-surface-color, white);\n",
       "                }\n",
       "\n",
       "                .geemap-colab .jupyter-button {\n",
       "                    --jp-layout-color3: var(--colab-primary-surface-color, white);\n",
       "                }\n",
       "            </style>\n",
       "            "
      ],
      "text/plain": [
       "<IPython.core.display.HTML object>"
      ]
     },
     "metadata": {},
     "output_type": "display_data"
    }
   ],
   "source": [
    "def compute_vegetation_indexes_landsat(image: ee.Image) -> ee.Image:\n",
    "    \"\"\"\n",
    "    Compute vegetation indexes for Landsat 8 imagery.\n",
    "\n",
    "    Args:\n",
    "        image (ee.Image): The image to compute the vegetation indexes for.\n",
    "\n",
    "    Returns:\n",
    "        ee.Image: The input image with the vegetation indexes added.\n",
    "    \"\"\"\n",
    "    ndvi = image.normalizedDifference([\"SR_B5\", \"SR_B4\"]).rename(\"NDVI\")\n",
    "    ndwi = image.normalizedDifference([\"SR_B3\", \"SR_B5\"]).rename(\"NDWI\")\n",
    "    ndbi = image.normalizedDifference([\"SR_B6\", \"SR_B5\"]).rename(\"NDBI\")\n",
    "    return image.addBands(ndvi).addBands(ndwi).addBands(ndbi)\n",
    "\n",
    "\n",
    "# Compute vegetation indexes for the collection\n",
    "l8_with_vegetation_indexes = l8_harmonized.map(compute_vegetation_indexes_landsat)"
   ]
  },
  {
   "cell_type": "markdown",
   "metadata": {},
   "source": [
    "### 2.2 Fit an Harmonic Regressor to the Sentinel-2 data"
   ]
  },
  {
   "cell_type": "code",
   "execution_count": 166,
   "metadata": {},
   "outputs": [
    {
     "data": {
      "text/html": [
       "\n",
       "            <style>\n",
       "                .geemap-dark {\n",
       "                    --jp-widgets-color: white;\n",
       "                    --jp-widgets-label-color: white;\n",
       "                    --jp-ui-font-color1: white;\n",
       "                    --jp-layout-color2: #454545;\n",
       "                    background-color: #383838;\n",
       "                }\n",
       "\n",
       "                .geemap-dark .jupyter-button {\n",
       "                    --jp-layout-color3: #383838;\n",
       "                }\n",
       "\n",
       "                .geemap-colab {\n",
       "                    background-color: var(--colab-primary-surface-color, white);\n",
       "                }\n",
       "\n",
       "                .geemap-colab .jupyter-button {\n",
       "                    --jp-layout-color3: var(--colab-primary-surface-color, white);\n",
       "                }\n",
       "            </style>\n",
       "            "
      ],
      "text/plain": [
       "<IPython.core.display.HTML object>"
      ]
     },
     "metadata": {},
     "output_type": "display_data"
    }
   ],
   "source": [
    "#s2_harmonized_gaps_filled = s2_harmonized_w_vegetation_indexes\n",
    "s2_harmonized_gaps_filled = l8_with_vegetation_indexes\n",
    "#replace for loop by map\n",
    "for index in INDEXES_FOR_HARMONIZATION:\n",
    "    regressor = HarmonicRegressor(\n",
    "        omega=1, max_harmonic_order=2, band_to_harmonize=index\n",
    "    )\n",
    "\n",
    "    #regressor.fit2(s2_harmonized_w_vegetation_indexes)\n",
    "    regressor.fit2(l8_with_vegetation_indexes)\n",
    "    #fitted_collection = regressor.predict(s2_harmonized_w_vegetation_indexes)\n",
    "    fitted_collection = regressor.predict(l8_with_vegetation_indexes)\n",
    "\n",
    "    fitted_collection = fitted_collection.map(\n",
    "        lambda img: img.select([\"fitted\"]).rename(f\"fitted_{index}\")\n",
    "    )\n",
    "\n",
    "    s2_harmonized_gaps_filled = s2_harmonized_gaps_filled.map(\n",
    "        lambda img: img.addBands(\n",
    "            fitted_collection.filterDate(img.date()).first().select([f\"fitted_{index}\"])\n",
    "        )\n",
    "    )"
   ]
  },
  {
   "cell_type": "code",
   "execution_count": null,
   "metadata": {},
   "outputs": [],
   "source": [
    "# s2_harmonized_gaps_filled.first().bandNames().getInfo()"
   ]
  },
  {
   "cell_type": "markdown",
   "metadata": {},
   "source": [
    "### 2.3 Use the fitted harmonic bands to fill the gaps in the original bands"
   ]
  },
  {
   "cell_type": "code",
   "execution_count": 167,
   "metadata": {},
   "outputs": [
    {
     "data": {
      "text/html": [
       "\n",
       "            <style>\n",
       "                .geemap-dark {\n",
       "                    --jp-widgets-color: white;\n",
       "                    --jp-widgets-label-color: white;\n",
       "                    --jp-ui-font-color1: white;\n",
       "                    --jp-layout-color2: #454545;\n",
       "                    background-color: #383838;\n",
       "                }\n",
       "\n",
       "                .geemap-dark .jupyter-button {\n",
       "                    --jp-layout-color3: #383838;\n",
       "                }\n",
       "\n",
       "                .geemap-colab {\n",
       "                    background-color: var(--colab-primary-surface-color, white);\n",
       "                }\n",
       "\n",
       "                .geemap-colab .jupyter-button {\n",
       "                    --jp-layout-color3: var(--colab-primary-surface-color, white);\n",
       "                }\n",
       "            </style>\n",
       "            "
      ],
      "text/plain": [
       "<IPython.core.display.HTML object>"
      ]
     },
     "metadata": {},
     "output_type": "display_data"
    },
    {
     "name": "stdout",
     "output_type": "stream",
     "text": [
      "['NDVI', 'SR_B3', 'SR_B4', 'SR_B5', 'SR_B6', 'ST_B10', 't', 'constant', 'NDVI_1', 'NDWI', 'NDBI', 'fitted_NDVI', 'fitted_NDWI', 'fitted_NDBI', 'gap_filled_NDVI', 'gap_filled_NDWI', 'gap_filled_NDBI']\n"
     ]
    }
   ],
   "source": [
    "def fill_gaps(\n",
    "    img: ee.Image, source_band: str, fill_band: str, output_name: str\n",
    ") -> ee.Image:\n",
    "    \"\"\"Fill gaps in a band with values from another band.\n",
    "\n",
    "    Args:\n",
    "        img (ee.Image): Input image containing both bands\n",
    "        source_band (str): Name of band containing gaps to fill\n",
    "        fill_band (str): Name of band to use for filling gaps\n",
    "        output_name (str): Name for the output gap-filled band\n",
    "\n",
    "    Returns:\n",
    "        ee.Image: Image with gap-filled band\n",
    "    \"\"\"\n",
    "    scale = img.projection().nominalScale()\n",
    "    projection = img.projection()\n",
    "    # Create mask where the source band is invalid (gaps)\n",
    "    gap_mask = img.select(source_band).mask().Not()\n",
    "\n",
    "    # Get the source band and fill band\n",
    "    source = img.select(source_band)\n",
    "    fill = img.select(fill_band)\n",
    "\n",
    "    # Fill gaps: use source band where available, fill band where there are gaps\n",
    "    filled = source.unmask().where(gap_mask, fill).rename(output_name)\n",
    "    filled = filled.setDefaultProjection(projection).set(\"scale\", scale)\n",
    "\n",
    "    return filled\n",
    "\n",
    "\n",
    "def apply_gap_filling(img: ee.Image, indexes: List[str]) -> ee.Image:\n",
    "    \"\"\"Apply gap filling to multiple bands.\n",
    "\n",
    "    Args:\n",
    "        img (ee.Image): Input image\n",
    "        indexes (list[str]): List of index names to process (e.g., ['NDVI', 'NDWI', 'NDBI'])\n",
    "\n",
    "    Returns:\n",
    "        ee.Image: Original image with added gap-filled bands\n",
    "    \"\"\"\n",
    "    # Start with the original image\n",
    "    result = img\n",
    "\n",
    "    # Add each gap-filled band one at a time\n",
    "    for index in indexes:\n",
    "        filled_band = fill_gaps(\n",
    "            img=img,\n",
    "            source_band=index,\n",
    "            fill_band=f\"fitted_{index}\",\n",
    "            output_name=f\"gap_filled_{index}\",\n",
    "        )\n",
    "        result = result.addBands(filled_band)\n",
    "\n",
    "    return result\n",
    "\n",
    "\n",
    "# Apply gap filling to the collection\n",
    "def process_collection(\n",
    "    collection: ee.ImageCollection, indexes: List[str]\n",
    ") -> ee.ImageCollection:\n",
    "    \"\"\"Process entire collection by applying gap filling to each image.\n",
    "\n",
    "    Args:\n",
    "        collection (ee.ImageCollection): Input collection\n",
    "        indexes (List[str]): List of index names to process\n",
    "\n",
    "    Returns:\n",
    "        ee.ImageCollection: Processed collection with gap-filled bands\n",
    "    \"\"\"\n",
    "    return collection.map(lambda img: apply_gap_filling(img, indexes))\n",
    "\n",
    "\n",
    "s2_harmonized_gaps_filled = process_collection(s2_harmonized_gaps_filled, INDEXES_FOR_HARMONIZATION)\n",
    "\n",
    "print(s2_harmonized_gaps_filled.first().bandNames().getInfo())"
   ]
  },
  {
   "cell_type": "markdown",
   "metadata": {},
   "source": [
    "## 3. Downscale the ET product to 10m resolution"
   ]
  },
  {
   "cell_type": "code",
   "execution_count": null,
   "metadata": {},
   "outputs": [
    {
     "data": {
      "text/html": [
       "\n",
       "            <style>\n",
       "                .geemap-dark {\n",
       "                    --jp-widgets-color: white;\n",
       "                    --jp-widgets-label-color: white;\n",
       "                    --jp-ui-font-color1: white;\n",
       "                    --jp-layout-color2: #454545;\n",
       "                    background-color: #383838;\n",
       "                }\n",
       "\n",
       "                .geemap-dark .jupyter-button {\n",
       "                    --jp-layout-color3: #383838;\n",
       "                }\n",
       "\n",
       "                .geemap-colab {\n",
       "                    background-color: var(--colab-primary-surface-color, white);\n",
       "                }\n",
       "\n",
       "                .geemap-colab .jupyter-button {\n",
       "                    --jp-layout-color3: var(--colab-primary-surface-color, white);\n",
       "                }\n",
       "            </style>\n",
       "            "
      ],
      "text/plain": [
       "<IPython.core.display.HTML object>"
      ]
     },
     "metadata": {},
     "output_type": "display_data"
    }
   ],
   "source": [
    "def process_and_export_downscaled_ET(\n",
    "    downscaler: Downscaler,\n",
    "    s2_indices: ee.ImageCollection,\n",
    "    independent_vars: ee.ImageCollection,\n",
    "    dependent_vars: ee.ImageCollection,\n",
    "    aoi: ee.Geometry,\n",
    "    year: str,\n",
    "    scale_coarse: float,\n",
    "    asset_path: str,\n",
    "    scale_fine: float = 10,\n",
    "    time_steps: int = 36,\n",
    "    time_step_type: str = \"dekadal\",\n",
    "    fid_name: int = 1\n",
    ") -> List[ee.batch.Task]:\n",
    "    \"\"\"\n",
    "    Process and export downscaled WaPOR ET images to Earth Engine assets.\n",
    "\n",
    "    Args:\n",
    "        downscaler (Downscaler): The Downscaler object used to downscale the images.\n",
    "        s2_indices (ee.ImageCollection): The Sentinel-2 indices image collection.\n",
    "        independent_vars (ee.ImageCollection): The resampled independent variables image collection.\n",
    "        dependent_vars (ee.ImageCollection): The dependent variables image collection.\n",
    "        aoi (ee.Geometry): The area of interest geometry.\n",
    "        year (str): The year for which the images are processed.\n",
    "        scale_coarse (float): The scale of the images before downscaling.\n",
    "        scale_fine (float): The scale of the images after downscaling.\n",
    "        time_steps (int): Number of time steps in the year (36 for dekadal, 12 for monthly).\n",
    "        time_step_type (str): Type of time step (\"dekadal\" or \"monthly\").\n",
    "        fid_name (int): fid of image\n",
    "\n",
    "    Returns:\n",
    "        List[ee.batch.Task]: A list of export tasks for the downscaled images.\n",
    "    \"\"\"\n",
    "    s2_indices_list = s2_indices.toList(s2_indices.size()).slice(1)\n",
    "    independent_vars_list = independent_vars.toList(independent_vars.size()).slice(1)\n",
    "    dependent_vars_list = dependent_vars.toList(dependent_vars.size()).slice(1)\n",
    "\n",
    "    tasks = []\n",
    "    for i in range(time_steps):\n",
    "        if time_step_type == \"dekadal\":\n",
    "            j = i % 3 + 1\n",
    "            m = i // 3 + 1\n",
    "            date = ee.Date.fromYMD(int(year), m, j * 10 - 9)\n",
    "            time_step_name = f\"{m:02d}_D{j}\"\n",
    "        elif time_step_type == \"monthly\":\n",
    "            m = i + 4\n",
    "            date = ee.Date.fromYMD(int(year), m, 1)\n",
    "            time_step_name = f\"{m:02d}\"\n",
    "        else:\n",
    "            raise ValueError(\"time_step_type must be either 'dekadal' or 'monthly'\")\n",
    "\n",
    "        s2_index = ee.Image(s2_indices_list.get(i))\n",
    "        ind_vars = ee.Image(independent_vars_list.get(i))\n",
    "        dep_vars = ee.Image(dependent_vars_list.get(i))\n",
    "\n",
    "        # Perform downscaling\n",
    "        et_image_downscaled = downscaler.downscale(\n",
    "            coarse_independent_vars=ind_vars,\n",
    "            coarse_dependent_var=dep_vars,\n",
    "            fine_independent_vars=s2_index,\n",
    "            geometry=aoi,\n",
    "            resolution=scale_coarse,\n",
    "        )\n",
    "\n",
    "        # Post-process the downscaled image\n",
    "        et_image_downscaled = back_to_int(et_image_downscaled, 100)\n",
    "       \n",
    "        et_image_downscaled = et_image_downscaled.set('Year',int(year)).set('Month',m).set('fid',fid_name)\n",
    "        #task_name = f\"Downscaled_ET_gap_filled_{time_step_type}_{year}_{time_step_name}_F{fid_name}\"\n",
    "        task_name = f\"Downscaled_ET_WAPOR_L8_{time_step_type}_{year}_{time_step_name}_F{fid_name}\"\n",
    "        asset_id = f\"{asset_path}/{task_name}\"\n",
    "\n",
    "        task = export_image_to_asset(\n",
    "            et_image_downscaled.max(ee.Image(0)).clip(borders_ECA.geometry()),#.updateMask(lulc.eq(1))\n",
    "            asset_id,\n",
    "            task_name,\n",
    "            year,\n",
    "            aoi,\n",
    "            #crs=\"EPSG:32632\",\n",
    "            scale=scale_fine,\n",
    "        )\n",
    "        tasks.append(task)"
   ]
  },
  {
   "cell_type": "code",
   "execution_count": 169,
   "metadata": {},
   "outputs": [
    {
     "data": {
      "text/html": [
       "\n",
       "            <style>\n",
       "                .geemap-dark {\n",
       "                    --jp-widgets-color: white;\n",
       "                    --jp-widgets-label-color: white;\n",
       "                    --jp-ui-font-color1: white;\n",
       "                    --jp-layout-color2: #454545;\n",
       "                    background-color: #383838;\n",
       "                }\n",
       "\n",
       "                .geemap-dark .jupyter-button {\n",
       "                    --jp-layout-color3: #383838;\n",
       "                }\n",
       "\n",
       "                .geemap-colab {\n",
       "                    background-color: var(--colab-primary-surface-color, white);\n",
       "                }\n",
       "\n",
       "                .geemap-colab .jupyter-button {\n",
       "                    --jp-layout-color3: var(--colab-primary-surface-color, white);\n",
       "                }\n",
       "            </style>\n",
       "            "
      ],
      "text/plain": [
       "<IPython.core.display.HTML object>"
      ]
     },
     "metadata": {},
     "output_type": "display_data"
    },
    {
     "name": "stdout",
     "output_type": "stream",
     "text": [
      "Exporting Downscaled_ET_WAPOR_L8_monthly_2021_04_F27721 for 2021 to projects/ee-et-data/assets/ECA/ET_data/WAPOR_downscaled_L8/Downscaled_ET_WAPOR_L8_monthly_2021_04_F27721\n",
      "Exporting Downscaled_ET_WAPOR_L8_monthly_2021_05_F27721 for 2021 to projects/ee-et-data/assets/ECA/ET_data/WAPOR_downscaled_L8/Downscaled_ET_WAPOR_L8_monthly_2021_05_F27721\n",
      "Exporting Downscaled_ET_WAPOR_L8_monthly_2021_06_F27721 for 2021 to projects/ee-et-data/assets/ECA/ET_data/WAPOR_downscaled_L8/Downscaled_ET_WAPOR_L8_monthly_2021_06_F27721\n",
      "Exporting Downscaled_ET_WAPOR_L8_monthly_2021_07_F27721 for 2021 to projects/ee-et-data/assets/ECA/ET_data/WAPOR_downscaled_L8/Downscaled_ET_WAPOR_L8_monthly_2021_07_F27721\n",
      "Exporting Downscaled_ET_WAPOR_L8_monthly_2021_08_F27721 for 2021 to projects/ee-et-data/assets/ECA/ET_data/WAPOR_downscaled_L8/Downscaled_ET_WAPOR_L8_monthly_2021_08_F27721\n",
      "Exporting Downscaled_ET_WAPOR_L8_monthly_2021_09_F27721 for 2021 to projects/ee-et-data/assets/ECA/ET_data/WAPOR_downscaled_L8/Downscaled_ET_WAPOR_L8_monthly_2021_09_F27721\n",
      "Exporting Downscaled_ET_WAPOR_L8_monthly_2021_10_F27721 for 2021 to projects/ee-et-data/assets/ECA/ET_data/WAPOR_downscaled_L8/Downscaled_ET_WAPOR_L8_monthly_2021_10_F27721\n"
     ]
    }
   ],
   "source": [
    "scale = et_coarse_collection.first().projection().nominalScale().getInfo()\n",
    "\n",
    "s2_indices = s2_harmonized_gaps_filled.select(INDEPENDENT_BANDS)\n",
    "independent_vars = s2_indices.map(\n",
    "    lambda img: resample_image(img, scale, INDEPENDENT_BANDS)\n",
    ")\n",
    "\n",
    "dependent_vars = et_coarse_collection.select(DEPENDENT_BAND)\n",
    "\n",
    "\n",
    "# Initialize the Downscaler\n",
    "downscaler = Downscaler(\n",
    "    independent_bands=INDEPENDENT_BANDS,  \n",
    "    dependent_band=DEPENDENT_BAND[0],\n",
    ")\n",
    "\n",
    "\n",
    "tasks = process_and_export_downscaled_ET(\n",
    "    downscaler=downscaler,\n",
    "    s2_indices=s2_indices,\n",
    "    independent_vars=independent_vars,  \n",
    "    dependent_vars=dependent_vars,\n",
    "    aoi=aoi,\n",
    "    year=YEAR,\n",
    "    scale_coarse=scale,\n",
    "    scale_fine=30,\n",
    "    time_steps=NUMBER_OF_IMAGES,\n",
    "    time_step_type=TEMPORAL_RESOLUTION,\n",
    "    asset_path=DOWNSCALED_ASSET_PATH,\n",
    "    fid_name=27721,\n",
    ")"
   ]
  },
  {
   "cell_type": "code",
   "execution_count": null,
   "metadata": {},
   "outputs": [],
   "source": [
    "independent_vars.first().bandNames().getInfo()"
   ]
  },
  {
   "cell_type": "code",
   "execution_count": 158,
   "metadata": {},
   "outputs": [
    {
     "data": {
      "text/html": [
       "\n",
       "            <style>\n",
       "                .geemap-dark {\n",
       "                    --jp-widgets-color: white;\n",
       "                    --jp-widgets-label-color: white;\n",
       "                    --jp-ui-font-color1: white;\n",
       "                    --jp-layout-color2: #454545;\n",
       "                    background-color: #383838;\n",
       "                }\n",
       "\n",
       "                .geemap-dark .jupyter-button {\n",
       "                    --jp-layout-color3: #383838;\n",
       "                }\n",
       "\n",
       "                .geemap-colab {\n",
       "                    background-color: var(--colab-primary-surface-color, white);\n",
       "                }\n",
       "\n",
       "                .geemap-colab .jupyter-button {\n",
       "                    --jp-layout-color3: var(--colab-primary-surface-color, white);\n",
       "                }\n",
       "            </style>\n",
       "            "
      ],
      "text/plain": [
       "<IPython.core.display.HTML object>"
      ]
     },
     "metadata": {},
     "output_type": "display_data"
    },
    {
     "name": "stdout",
     "output_type": "stream",
     "text": [
      "58\n",
      "4\n"
     ]
    }
   ],
   "source": [
    "print(len(fids[432:]))\n",
    "index = fids.index(27721)  # Get the index of 27300\n",
    "print(index)  # Output: 2"
   ]
  },
  {
   "cell_type": "code",
   "execution_count": null,
   "metadata": {},
   "outputs": [
    {
     "data": {
      "text/html": [
       "\n",
       "            <style>\n",
       "                .geemap-dark {\n",
       "                    --jp-widgets-color: white;\n",
       "                    --jp-widgets-label-color: white;\n",
       "                    --jp-ui-font-color1: white;\n",
       "                    --jp-layout-color2: #454545;\n",
       "                    background-color: #383838;\n",
       "                }\n",
       "\n",
       "                .geemap-dark .jupyter-button {\n",
       "                    --jp-layout-color3: #383838;\n",
       "                }\n",
       "\n",
       "                .geemap-colab {\n",
       "                    background-color: var(--colab-primary-surface-color, white);\n",
       "                }\n",
       "\n",
       "                .geemap-colab .jupyter-button {\n",
       "                    --jp-layout-color3: var(--colab-primary-surface-color, white);\n",
       "                }\n",
       "            </style>\n",
       "            "
      ],
      "text/plain": [
       "<IPython.core.display.HTML object>"
      ]
     },
     "metadata": {},
     "output_type": "display_data"
    }
   ],
   "source": [
    "##Batch task\n",
    "\n",
    "for fid in fids[250:]:\n",
    "    # Filter the aoi_buffered collection for the current fid\n",
    "    aoi_fid = aoi_buffered.filter(ee.Filter.eq('fid', fid)).first().geometry()\n",
    "    \n",
    "    et_coarse_collection = (\n",
    "        ee.ImageCollection(wapor_et_data)\n",
    "        .filterBounds(aoi_fid)\n",
    "        .filterDate(f\"{YEAR}-03-01\", f\"{YEAR}-10-31\")\n",
    "        .sort(\"system:time_start\")\n",
    "    )\n",
    "    et_coarse_list = et_coarse_collection.toList(et_coarse_collection.size())\n",
    "\n",
    "    #s2_collection = load_sentinel2_data((YEAR, YEAR), aoi=aoi_fid, use_SR=USE_SR)\n",
    "    l8_collection = (\n",
    "        ee.ImageCollection('LANDSAT/LC08/C02/T1_L2')\n",
    "        .filterBounds(aoi_fid)\n",
    "        .filter(ee.Filter.calendarRange(YEAR, YEAR, 'year'))\n",
    "        .map(cloudscore_L8_T1L2)\n",
    "    )\n",
    "    time_intervals = create_monthly_date_ranges(et_coarse_list)\n",
    "\n",
    "    l8_harmonized = harmonized_ts(\n",
    "        masked_collection=l8_collection,\n",
    "        band_list=BANDS_TO_HARMONIZE,\n",
    "        time_intervals=time_intervals,\n",
    "        options=AGGREGATION_OPTIONS,\n",
    "    )\n",
    "    l8_harmonized = add_temporal_bands(l8_harmonized)\n",
    "    s2_harmonized_w_vegetation_indexes = l8_harmonized.map(compute_vegetation_indexes_landsat)\n",
    "\n",
    "    l8_with_vegetation_indexes = s2_harmonized_w_vegetation_indexes\n",
    "    s2_harmonized_gaps_filled = l8_with_vegetation_indexes\n",
    "\n",
    "    for index in INDEXES_FOR_HARMONIZATION:\n",
    "        regressor = HarmonicRegressor(\n",
    "            omega=1, max_harmonic_order=2, band_to_harmonize=index\n",
    "        )\n",
    "        regressor.fit2(l8_with_vegetation_indexes)\n",
    "        fitted_collection = regressor.predict(l8_with_vegetation_indexes)\n",
    "\n",
    "        fitted_collection = fitted_collection.map(\n",
    "            lambda img: img.select([\"fitted\"]).rename(f\"fitted_{index}\")\n",
    "        )\n",
    "\n",
    "        s2_harmonized_gaps_filled = s2_harmonized_gaps_filled.map(\n",
    "            lambda img: img.addBands(\n",
    "                fitted_collection.filterDate(img.date()).first().select([f\"fitted_{index}\"])\n",
    "            )\n",
    "        )\n",
    "\n",
    "    s2_harmonized_gaps_filled = process_collection(s2_harmonized_gaps_filled, INDEXES_FOR_HARMONIZATION)\n",
    "\n",
    "    s2_indices = s2_harmonized_gaps_filled.select(INDEPENDENT_BANDS)\n",
    "    independent_vars = s2_indices.map(\n",
    "        lambda img: resample_image(img, scale, INDEPENDENT_BANDS)\n",
    "    )\n",
    "\n",
    "    dependent_vars = et_coarse_collection.select(DEPENDENT_BAND)\n",
    "\n",
    "    # Initialize the Downscaler\n",
    "    downscaler = Downscaler(\n",
    "        independent_bands=INDEPENDENT_BANDS,  \n",
    "        dependent_band=DEPENDENT_BAND[0],\n",
    "    )\n",
    "\n",
    "    tasks = process_and_export_downscaled_ET(\n",
    "        downscaler=downscaler,\n",
    "        s2_indices=s2_indices,\n",
    "        independent_vars=independent_vars,  \n",
    "        dependent_vars=dependent_vars,\n",
    "        aoi=aoi_fid,\n",
    "        year=YEAR,\n",
    "        scale_coarse=scale,\n",
    "        scale_fine=30,\n",
    "        time_steps=NUMBER_OF_IMAGES,\n",
    "        time_step_type=TEMPORAL_RESOLUTION,\n",
    "        asset_path=DOWNSCALED_ASSET_PATH,\n",
    "        fid_name=fid,\n",
    "    )\n",
    "    # Call the export_batch_task function with the appropriate arguments\n",
    "    #export_batch_task(asset_path, filename, fid, aoi_fid)\n"
   ]
  },
  {
   "cell_type": "code",
   "execution_count": 172,
   "metadata": {},
   "outputs": [
    {
     "data": {
      "text/html": [
       "\n",
       "            <style>\n",
       "                .geemap-dark {\n",
       "                    --jp-widgets-color: white;\n",
       "                    --jp-widgets-label-color: white;\n",
       "                    --jp-ui-font-color1: white;\n",
       "                    --jp-layout-color2: #454545;\n",
       "                    background-color: #383838;\n",
       "                }\n",
       "\n",
       "                .geemap-dark .jupyter-button {\n",
       "                    --jp-layout-color3: #383838;\n",
       "                }\n",
       "\n",
       "                .geemap-colab {\n",
       "                    background-color: var(--colab-primary-surface-color, white);\n",
       "                }\n",
       "\n",
       "                .geemap-colab .jupyter-button {\n",
       "                    --jp-layout-color3: var(--colab-primary-surface-color, white);\n",
       "                }\n",
       "            </style>\n",
       "            "
      ],
      "text/plain": [
       "<IPython.core.display.HTML object>"
      ]
     },
     "metadata": {},
     "output_type": "display_data"
    },
    {
     "name": "stdout",
     "output_type": "stream",
     "text": [
      "Deleted asset ID: projects/ee-et-data/assets/ECA/ET_data/WAPOR_downscaled_L8/Downscaled_ET_WAPOR_L8_monthly_2021_04_F23389\n",
      "Deleted asset ID: projects/ee-et-data/assets/ECA/ET_data/WAPOR_downscaled_L8/Downscaled_ET_WAPOR_L8_monthly_2021_04_F27300\n",
      "Deleted asset ID: projects/ee-et-data/assets/ECA/ET_data/WAPOR_downscaled_L8/Downscaled_ET_WAPOR_L8_monthly_2021_04_F27301\n",
      "Deleted asset ID: projects/ee-et-data/assets/ECA/ET_data/WAPOR_downscaled_L8/Downscaled_ET_WAPOR_L8_monthly_2021_04_F27712\n",
      "Deleted asset ID: projects/ee-et-data/assets/ECA/ET_data/WAPOR_downscaled_L8/Downscaled_ET_WAPOR_L8_monthly_2021_04_F27713\n",
      "Deleted asset ID: projects/ee-et-data/assets/ECA/ET_data/WAPOR_downscaled_L8/Downscaled_ET_WAPOR_L8_monthly_2021_04_F27721\n",
      "Deleted asset ID: projects/ee-et-data/assets/ECA/ET_data/WAPOR_downscaled_L8/Downscaled_ET_WAPOR_L8_monthly_2021_04_F28127\n",
      "Deleted asset ID: projects/ee-et-data/assets/ECA/ET_data/WAPOR_downscaled_L8/Downscaled_ET_WAPOR_L8_monthly_2021_05_F23389\n",
      "Deleted asset ID: projects/ee-et-data/assets/ECA/ET_data/WAPOR_downscaled_L8/Downscaled_ET_WAPOR_L8_monthly_2021_05_F27300\n",
      "Deleted asset ID: projects/ee-et-data/assets/ECA/ET_data/WAPOR_downscaled_L8/Downscaled_ET_WAPOR_L8_monthly_2021_05_F27301\n",
      "Deleted asset ID: projects/ee-et-data/assets/ECA/ET_data/WAPOR_downscaled_L8/Downscaled_ET_WAPOR_L8_monthly_2021_05_F27712\n",
      "Deleted asset ID: projects/ee-et-data/assets/ECA/ET_data/WAPOR_downscaled_L8/Downscaled_ET_WAPOR_L8_monthly_2021_05_F27713\n",
      "Deleted asset ID: projects/ee-et-data/assets/ECA/ET_data/WAPOR_downscaled_L8/Downscaled_ET_WAPOR_L8_monthly_2021_05_F27721\n",
      "Deleted asset ID: projects/ee-et-data/assets/ECA/ET_data/WAPOR_downscaled_L8/Downscaled_ET_WAPOR_L8_monthly_2021_05_F28127\n",
      "Deleted asset ID: projects/ee-et-data/assets/ECA/ET_data/WAPOR_downscaled_L8/Downscaled_ET_WAPOR_L8_monthly_2021_06_F23389\n",
      "Deleted asset ID: projects/ee-et-data/assets/ECA/ET_data/WAPOR_downscaled_L8/Downscaled_ET_WAPOR_L8_monthly_2021_06_F27300\n",
      "Deleted asset ID: projects/ee-et-data/assets/ECA/ET_data/WAPOR_downscaled_L8/Downscaled_ET_WAPOR_L8_monthly_2021_06_F27301\n",
      "Deleted asset ID: projects/ee-et-data/assets/ECA/ET_data/WAPOR_downscaled_L8/Downscaled_ET_WAPOR_L8_monthly_2021_06_F27712\n",
      "Deleted asset ID: projects/ee-et-data/assets/ECA/ET_data/WAPOR_downscaled_L8/Downscaled_ET_WAPOR_L8_monthly_2021_06_F27713\n",
      "Deleted asset ID: projects/ee-et-data/assets/ECA/ET_data/WAPOR_downscaled_L8/Downscaled_ET_WAPOR_L8_monthly_2021_06_F27721\n",
      "Deleted asset ID: projects/ee-et-data/assets/ECA/ET_data/WAPOR_downscaled_L8/Downscaled_ET_WAPOR_L8_monthly_2021_06_F28127\n",
      "Deleted asset ID: projects/ee-et-data/assets/ECA/ET_data/WAPOR_downscaled_L8/Downscaled_ET_WAPOR_L8_monthly_2021_07_F23389\n",
      "Deleted asset ID: projects/ee-et-data/assets/ECA/ET_data/WAPOR_downscaled_L8/Downscaled_ET_WAPOR_L8_monthly_2021_07_F27300\n",
      "Deleted asset ID: projects/ee-et-data/assets/ECA/ET_data/WAPOR_downscaled_L8/Downscaled_ET_WAPOR_L8_monthly_2021_07_F27301\n",
      "Deleted asset ID: projects/ee-et-data/assets/ECA/ET_data/WAPOR_downscaled_L8/Downscaled_ET_WAPOR_L8_monthly_2021_07_F27712\n",
      "Deleted asset ID: projects/ee-et-data/assets/ECA/ET_data/WAPOR_downscaled_L8/Downscaled_ET_WAPOR_L8_monthly_2021_07_F27713\n",
      "Deleted asset ID: projects/ee-et-data/assets/ECA/ET_data/WAPOR_downscaled_L8/Downscaled_ET_WAPOR_L8_monthly_2021_07_F27721\n",
      "Deleted asset ID: projects/ee-et-data/assets/ECA/ET_data/WAPOR_downscaled_L8/Downscaled_ET_WAPOR_L8_monthly_2021_07_F28127\n",
      "Deleted asset ID: projects/ee-et-data/assets/ECA/ET_data/WAPOR_downscaled_L8/Downscaled_ET_WAPOR_L8_monthly_2021_08_F23389\n",
      "Deleted asset ID: projects/ee-et-data/assets/ECA/ET_data/WAPOR_downscaled_L8/Downscaled_ET_WAPOR_L8_monthly_2021_08_F27300\n",
      "Deleted asset ID: projects/ee-et-data/assets/ECA/ET_data/WAPOR_downscaled_L8/Downscaled_ET_WAPOR_L8_monthly_2021_08_F27301\n",
      "Deleted asset ID: projects/ee-et-data/assets/ECA/ET_data/WAPOR_downscaled_L8/Downscaled_ET_WAPOR_L8_monthly_2021_08_F27712\n",
      "Deleted asset ID: projects/ee-et-data/assets/ECA/ET_data/WAPOR_downscaled_L8/Downscaled_ET_WAPOR_L8_monthly_2021_08_F27713\n",
      "Deleted asset ID: projects/ee-et-data/assets/ECA/ET_data/WAPOR_downscaled_L8/Downscaled_ET_WAPOR_L8_monthly_2021_08_F27721\n",
      "Deleted asset ID: projects/ee-et-data/assets/ECA/ET_data/WAPOR_downscaled_L8/Downscaled_ET_WAPOR_L8_monthly_2021_08_F28127\n",
      "Deleted asset ID: projects/ee-et-data/assets/ECA/ET_data/WAPOR_downscaled_L8/Downscaled_ET_WAPOR_L8_monthly_2021_09_F27300\n",
      "Deleted asset ID: projects/ee-et-data/assets/ECA/ET_data/WAPOR_downscaled_L8/Downscaled_ET_WAPOR_L8_monthly_2021_09_F27301\n",
      "Deleted asset ID: projects/ee-et-data/assets/ECA/ET_data/WAPOR_downscaled_L8/Downscaled_ET_WAPOR_L8_monthly_2021_09_F27712\n",
      "Deleted asset ID: projects/ee-et-data/assets/ECA/ET_data/WAPOR_downscaled_L8/Downscaled_ET_WAPOR_L8_monthly_2021_09_F27713\n",
      "Deleted asset ID: projects/ee-et-data/assets/ECA/ET_data/WAPOR_downscaled_L8/Downscaled_ET_WAPOR_L8_monthly_2021_09_F27721\n",
      "Deleted asset ID: projects/ee-et-data/assets/ECA/ET_data/WAPOR_downscaled_L8/Downscaled_ET_WAPOR_L8_monthly_2021_09_F28127\n",
      "Deleted asset ID: projects/ee-et-data/assets/ECA/ET_data/WAPOR_downscaled_L8/Downscaled_ET_WAPOR_L8_monthly_2021_10_F27300\n",
      "Deleted asset ID: projects/ee-et-data/assets/ECA/ET_data/WAPOR_downscaled_L8/Downscaled_ET_WAPOR_L8_monthly_2021_10_F27301\n",
      "Deleted asset ID: projects/ee-et-data/assets/ECA/ET_data/WAPOR_downscaled_L8/Downscaled_ET_WAPOR_L8_monthly_2021_10_F27712\n",
      "Deleted asset ID: projects/ee-et-data/assets/ECA/ET_data/WAPOR_downscaled_L8/Downscaled_ET_WAPOR_L8_monthly_2021_10_F27713\n",
      "Deleted asset ID: projects/ee-et-data/assets/ECA/ET_data/WAPOR_downscaled_L8/Downscaled_ET_WAPOR_L8_monthly_2021_10_F28127\n"
     ]
    }
   ],
   "source": [
    "assetdir = f\"projects/ee-et-data/assets/{'ECA/ET_data/WAPOR_downscaled_L8'}\"\n",
    "assets = ee.data.listAssets({\"parent\": assetdir})[\"assets\"]\n",
    "\n",
    "for table in assets:\n",
    "    id = table['id']\n",
    "    ee.data.deleteAsset(id)\n",
    "    print('Deleted asset ID: ' + id)"
   ]
  },
  {
   "cell_type": "markdown",
   "metadata": {},
   "source": [
    "## Sanity checks\n",
    "### 1. Check the Sentinel-2 harmonization"
   ]
  },
  {
   "cell_type": "code",
   "execution_count": 91,
   "metadata": {},
   "outputs": [
    {
     "data": {
      "text/html": [
       "\n",
       "            <style>\n",
       "                .geemap-dark {\n",
       "                    --jp-widgets-color: white;\n",
       "                    --jp-widgets-label-color: white;\n",
       "                    --jp-ui-font-color1: white;\n",
       "                    --jp-layout-color2: #454545;\n",
       "                    background-color: #383838;\n",
       "                }\n",
       "\n",
       "                .geemap-dark .jupyter-button {\n",
       "                    --jp-layout-color3: #383838;\n",
       "                }\n",
       "\n",
       "                .geemap-colab {\n",
       "                    background-color: var(--colab-primary-surface-color, white);\n",
       "                }\n",
       "\n",
       "                .geemap-colab .jupyter-button {\n",
       "                    --jp-layout-color3: var(--colab-primary-surface-color, white);\n",
       "                }\n",
       "            </style>\n",
       "            "
      ],
      "text/plain": [
       "<IPython.core.display.HTML object>"
      ]
     },
     "metadata": {},
     "output_type": "display_data"
    },
    {
     "data": {
      "application/vnd.jupyter.widget-view+json": {
       "model_id": "c1eb9f2c913b4175b7d7b8d80fefedff",
       "version_major": 2,
       "version_minor": 0
      },
      "text/plain": [
       "Map(center=[47.749693482876474, 22.250000107056604], controls=(WidgetControl(options=['position', 'transparent…"
      ]
     },
     "execution_count": 91,
     "metadata": {},
     "output_type": "execute_result"
    }
   ],
   "source": [
    "Map = geemap.Map()\n",
    "\n",
    "sentinel_vis_params = {\n",
    "    \"bands\": [\"NDVI\"],\n",
    "    \"min\": 0,\n",
    "    \"max\": 1,\n",
    "    \"palette\": [\"white\", \"green\"],\n",
    "}\n",
    "\n",
    "fitted_vis_params = {\n",
    "    \"bands\": [\"fitted_NDVI\"],\n",
    "    \"min\": 0,\n",
    "    \"max\": 1,\n",
    "    \"palette\": [\"white\", \"green\"],\n",
    "}\n",
    "\n",
    "gap_filled_vis_params = {\n",
    "    \"bands\": [\"gap_filled_NDVI\"],\n",
    "    \"min\": 0,\n",
    "    \"max\": 1,\n",
    "    \"palette\": [\"white\", \"green\"],\n",
    "}\n",
    "\n",
    "\n",
    "s2_image = ee.Image(s2_harmonized_gaps_filled.filterBounds(aoi).toList(36).get(-3))\n",
    "s2_image_resampled = ee.Image(independent_vars.toList(36).get(0))\n",
    "\n",
    "Map.addLayer(s2_image, sentinel_vis_params, \"Sentinel 2\")\n",
    "# # Map.addLayer(s2_image, fitted_vis_params, \"Sentinel 2 Fitted\")\n",
    "Map.addLayer(s2_image, gap_filled_vis_params, \"Sentinel 2 Gap Filled\")\n",
    "# Map.addLayer(s2_image_resampled, gap_filled_vis_params, \"Sentinel 2 Resampled\")\n",
    "\n",
    "\n",
    "Map.centerObject(aoi, 12)\n",
    "Map"
   ]
  },
  {
   "cell_type": "code",
   "execution_count": null,
   "metadata": {},
   "outputs": [],
   "source": [
    "# print_collection_dates(s2_harmonized_gaps_filled)"
   ]
  },
  {
   "cell_type": "code",
   "execution_count": 108,
   "metadata": {},
   "outputs": [
    {
     "data": {
      "text/html": [
       "\n",
       "            <style>\n",
       "                .geemap-dark {\n",
       "                    --jp-widgets-color: white;\n",
       "                    --jp-widgets-label-color: white;\n",
       "                    --jp-ui-font-color1: white;\n",
       "                    --jp-layout-color2: #454545;\n",
       "                    background-color: #383838;\n",
       "                }\n",
       "\n",
       "                .geemap-dark .jupyter-button {\n",
       "                    --jp-layout-color3: #383838;\n",
       "                }\n",
       "\n",
       "                .geemap-colab {\n",
       "                    background-color: var(--colab-primary-surface-color, white);\n",
       "                }\n",
       "\n",
       "                .geemap-colab .jupyter-button {\n",
       "                    --jp-layout-color3: var(--colab-primary-surface-color, white);\n",
       "                }\n",
       "            </style>\n",
       "            "
      ],
      "text/plain": [
       "<IPython.core.display.HTML object>"
      ]
     },
     "metadata": {},
     "output_type": "display_data"
    },
    {
     "data": {
      "application/vnd.jupyter.widget-view+json": {
       "model_id": "31e5196bba4449c58905a7abe44e6c66",
       "version_major": 2,
       "version_minor": 0
      },
      "text/plain": [
       "Map(center=[47.749693482876474, 22.250000107056604], controls=(WidgetControl(options=['position', 'transparent…"
      ]
     },
     "execution_count": 108,
     "metadata": {},
     "output_type": "execute_result"
    },
    {
     "ename": "TraitError",
     "evalue": "setting lower > upper",
     "output_type": "error",
     "traceback": [
      "\u001b[0;31m---------------------------------------------------------------------------\u001b[0m",
      "\u001b[0;31mTraitError\u001b[0m                                Traceback (most recent call last)",
      "File \u001b[0;32m~/hydrosolutions Dropbox/Silvan Ragettli/2024-08 Thurgau Irrigation/Codes/irrigation-mapper/venv/lib/python3.9/site-packages/geemap/map_widgets.py:1177\u001b[0m, in \u001b[0;36mLayerManager._on_layer_settings_click\u001b[0;34m(self, button)\u001b[0m\n\u001b[1;32m   1171\u001b[0m \u001b[38;5;250m\u001b[39m\u001b[38;5;124;03m\"\"\"Handles the layer settings click event.\u001b[39;00m\n\u001b[1;32m   1172\u001b[0m \n\u001b[1;32m   1173\u001b[0m \u001b[38;5;124;03mArgs:\u001b[39;00m\n\u001b[1;32m   1174\u001b[0m \u001b[38;5;124;03m    button (ipywidgets.Button): The button that was clicked.\u001b[39;00m\n\u001b[1;32m   1175\u001b[0m \u001b[38;5;124;03m\"\"\"\u001b[39;00m\n\u001b[1;32m   1176\u001b[0m \u001b[38;5;28;01mif\u001b[39;00m \u001b[38;5;28mself\u001b[39m\u001b[38;5;241m.\u001b[39mon_open_vis:\n\u001b[0;32m-> 1177\u001b[0m     \u001b[38;5;28;43mself\u001b[39;49m\u001b[38;5;241;43m.\u001b[39;49m\u001b[43mon_open_vis\u001b[49m\u001b[43m(\u001b[49m\u001b[43mbutton\u001b[49m\u001b[38;5;241;43m.\u001b[39;49m\u001b[43mtooltip\u001b[49m\u001b[43m)\u001b[49m\n",
      "File \u001b[0;32m~/hydrosolutions Dropbox/Silvan Ragettli/2024-08 Thurgau Irrigation/Codes/irrigation-mapper/venv/lib/python3.9/site-packages/geemap/core.py:931\u001b[0m, in \u001b[0;36mMap._on_toggle_toolbar_layers.<locals>._on_open_vis\u001b[0;34m(layer_name)\u001b[0m\n\u001b[1;32m    929\u001b[0m \u001b[38;5;28;01mdef\u001b[39;00m \u001b[38;5;21m_on_open_vis\u001b[39m(layer_name: \u001b[38;5;28mstr\u001b[39m) \u001b[38;5;241m-\u001b[39m\u001b[38;5;241m>\u001b[39m \u001b[38;5;28;01mNone\u001b[39;00m:\n\u001b[1;32m    930\u001b[0m     layer \u001b[38;5;241m=\u001b[39m \u001b[38;5;28mself\u001b[39m\u001b[38;5;241m.\u001b[39mee_layers\u001b[38;5;241m.\u001b[39mget(layer_name, \u001b[38;5;28;01mNone\u001b[39;00m)\n\u001b[0;32m--> 931\u001b[0m     \u001b[38;5;28;43mself\u001b[39;49m\u001b[38;5;241;43m.\u001b[39;49m\u001b[43m_add_layer_editor\u001b[49m\u001b[43m(\u001b[49m\u001b[43mposition\u001b[49m\u001b[38;5;241;43m=\u001b[39;49m\u001b[38;5;124;43m\"\u001b[39;49m\u001b[38;5;124;43mbottomright\u001b[39;49m\u001b[38;5;124;43m\"\u001b[39;49m\u001b[43m,\u001b[49m\u001b[43m \u001b[49m\u001b[43mlayer_dict\u001b[49m\u001b[38;5;241;43m=\u001b[39;49m\u001b[43mlayer\u001b[49m\u001b[43m)\u001b[49m\n",
      "File \u001b[0;32m~/hydrosolutions Dropbox/Silvan Ragettli/2024-08 Thurgau Irrigation/Codes/irrigation-mapper/venv/lib/python3.9/site-packages/geemap/core.py:1012\u001b[0m, in \u001b[0;36mMap._add_layer_editor\u001b[0;34m(self, position, **kwargs)\u001b[0m\n\u001b[1;32m   1009\u001b[0m \u001b[38;5;28;01mif\u001b[39;00m \u001b[38;5;28mself\u001b[39m\u001b[38;5;241m.\u001b[39m_layer_editor:\n\u001b[1;32m   1010\u001b[0m     \u001b[38;5;28;01mreturn\u001b[39;00m\n\u001b[0;32m-> 1012\u001b[0m widget \u001b[38;5;241m=\u001b[39m \u001b[43mmap_widgets\u001b[49m\u001b[38;5;241;43m.\u001b[39;49m\u001b[43mLayerEditor\u001b[49m\u001b[43m(\u001b[49m\u001b[38;5;28;43mself\u001b[39;49m\u001b[43m,\u001b[49m\u001b[43m \u001b[49m\u001b[38;5;241;43m*\u001b[39;49m\u001b[38;5;241;43m*\u001b[39;49m\u001b[43mkwargs\u001b[49m\u001b[43m)\u001b[49m\n\u001b[1;32m   1013\u001b[0m widget\u001b[38;5;241m.\u001b[39mon_close \u001b[38;5;241m=\u001b[39m \u001b[38;5;28;01mlambda\u001b[39;00m: \u001b[38;5;28mself\u001b[39m\u001b[38;5;241m.\u001b[39mremove(\u001b[38;5;124m\"\u001b[39m\u001b[38;5;124mlayer_editor\u001b[39m\u001b[38;5;124m\"\u001b[39m)\n\u001b[1;32m   1014\u001b[0m control \u001b[38;5;241m=\u001b[39m ipyleaflet\u001b[38;5;241m.\u001b[39mWidgetControl(widget\u001b[38;5;241m=\u001b[39mwidget, position\u001b[38;5;241m=\u001b[39mposition)\n",
      "File \u001b[0;32m~/hydrosolutions Dropbox/Silvan Ragettli/2024-08 Thurgau Irrigation/Codes/irrigation-mapper/venv/lib/python3.9/site-packages/geemap/map_widgets.py:81\u001b[0m, in \u001b[0;36mTheme.apply.<locals>.wrapper\u001b[0;34m(self, *args, **kwargs)\u001b[0m\n\u001b[1;32m     79\u001b[0m \u001b[38;5;129m@functools\u001b[39m\u001b[38;5;241m.\u001b[39mwraps(\u001b[38;5;28mcls\u001b[39m\u001b[38;5;241m.\u001b[39m\u001b[38;5;21m__init__\u001b[39m)\n\u001b[1;32m     80\u001b[0m \u001b[38;5;28;01mdef\u001b[39;00m \u001b[38;5;21mwrapper\u001b[39m(\u001b[38;5;28mself\u001b[39m, \u001b[38;5;241m*\u001b[39margs, \u001b[38;5;241m*\u001b[39m\u001b[38;5;241m*\u001b[39mkwargs):\n\u001b[0;32m---> 81\u001b[0m     \u001b[43moriginal_init\u001b[49m\u001b[43m(\u001b[49m\u001b[38;5;28;43mself\u001b[39;49m\u001b[43m,\u001b[49m\u001b[43m \u001b[49m\u001b[38;5;241;43m*\u001b[39;49m\u001b[43margs\u001b[49m\u001b[43m,\u001b[49m\u001b[43m \u001b[49m\u001b[38;5;241;43m*\u001b[39;49m\u001b[38;5;241;43m*\u001b[39;49m\u001b[43mkwargs\u001b[49m\u001b[43m)\u001b[49m\n\u001b[1;32m     82\u001b[0m     \u001b[38;5;28mself\u001b[39m\u001b[38;5;241m.\u001b[39madd_class(\u001b[38;5;124m\"\u001b[39m\u001b[38;5;124mgeemap-\u001b[39m\u001b[38;5;132;01m{}\u001b[39;00m\u001b[38;5;124m\"\u001b[39m\u001b[38;5;241m.\u001b[39mformat(Theme\u001b[38;5;241m.\u001b[39mcurrent_theme))\n",
      "File \u001b[0;32m~/hydrosolutions Dropbox/Silvan Ragettli/2024-08 Thurgau Irrigation/Codes/irrigation-mapper/venv/lib/python3.9/site-packages/geemap/map_widgets.py:1356\u001b[0m, in \u001b[0;36mLayerEditor.__init__\u001b[0;34m(self, host_map, layer_dict)\u001b[0m\n\u001b[1;32m   1352\u001b[0m         \u001b[38;5;28mself\u001b[39m\u001b[38;5;241m.\u001b[39m_embedded_widget \u001b[38;5;241m=\u001b[39m _VectorLayerEditor(\n\u001b[1;32m   1353\u001b[0m             host_map\u001b[38;5;241m=\u001b[39mhost_map, layer_dict\u001b[38;5;241m=\u001b[39mlayer_dict\n\u001b[1;32m   1354\u001b[0m         )\n\u001b[1;32m   1355\u001b[0m     \u001b[38;5;28;01melif\u001b[39;00m \u001b[38;5;28misinstance\u001b[39m(\u001b[38;5;28mself\u001b[39m\u001b[38;5;241m.\u001b[39m_ee_object, ee\u001b[38;5;241m.\u001b[39mImage):\n\u001b[0;32m-> 1356\u001b[0m         \u001b[38;5;28mself\u001b[39m\u001b[38;5;241m.\u001b[39m_embedded_widget \u001b[38;5;241m=\u001b[39m \u001b[43m_RasterLayerEditor\u001b[49m\u001b[43m(\u001b[49m\n\u001b[1;32m   1357\u001b[0m \u001b[43m            \u001b[49m\u001b[43mhost_map\u001b[49m\u001b[38;5;241;43m=\u001b[39;49m\u001b[43mhost_map\u001b[49m\u001b[43m,\u001b[49m\u001b[43m \u001b[49m\u001b[43mlayer_dict\u001b[49m\u001b[38;5;241;43m=\u001b[39;49m\u001b[43mlayer_dict\u001b[49m\n\u001b[1;32m   1358\u001b[0m \u001b[43m        \u001b[49m\u001b[43m)\u001b[49m\n\u001b[1;32m   1360\u001b[0m \u001b[38;5;28msuper\u001b[39m()\u001b[38;5;241m.\u001b[39m\u001b[38;5;21m__init__\u001b[39m(children\u001b[38;5;241m=\u001b[39m[])\n\u001b[1;32m   1361\u001b[0m \u001b[38;5;28mself\u001b[39m\u001b[38;5;241m.\u001b[39m_on_toggle_click({\u001b[38;5;124m\"\u001b[39m\u001b[38;5;124mnew\u001b[39m\u001b[38;5;124m\"\u001b[39m: \u001b[38;5;28;01mTrue\u001b[39;00m})\n",
      "File \u001b[0;32m~/hydrosolutions Dropbox/Silvan Ragettli/2024-08 Thurgau Irrigation/Codes/irrigation-mapper/venv/lib/python3.9/site-packages/geemap/map_widgets.py:81\u001b[0m, in \u001b[0;36mTheme.apply.<locals>.wrapper\u001b[0;34m(self, *args, **kwargs)\u001b[0m\n\u001b[1;32m     79\u001b[0m \u001b[38;5;129m@functools\u001b[39m\u001b[38;5;241m.\u001b[39mwraps(\u001b[38;5;28mcls\u001b[39m\u001b[38;5;241m.\u001b[39m\u001b[38;5;21m__init__\u001b[39m)\n\u001b[1;32m     80\u001b[0m \u001b[38;5;28;01mdef\u001b[39;00m \u001b[38;5;21mwrapper\u001b[39m(\u001b[38;5;28mself\u001b[39m, \u001b[38;5;241m*\u001b[39margs, \u001b[38;5;241m*\u001b[39m\u001b[38;5;241m*\u001b[39mkwargs):\n\u001b[0;32m---> 81\u001b[0m     \u001b[43moriginal_init\u001b[49m\u001b[43m(\u001b[49m\u001b[38;5;28;43mself\u001b[39;49m\u001b[43m,\u001b[49m\u001b[43m \u001b[49m\u001b[38;5;241;43m*\u001b[39;49m\u001b[43margs\u001b[49m\u001b[43m,\u001b[49m\u001b[43m \u001b[49m\u001b[38;5;241;43m*\u001b[39;49m\u001b[38;5;241;43m*\u001b[39;49m\u001b[43mkwargs\u001b[49m\u001b[43m)\u001b[49m\n\u001b[1;32m     82\u001b[0m     \u001b[38;5;28mself\u001b[39m\u001b[38;5;241m.\u001b[39madd_class(\u001b[38;5;124m\"\u001b[39m\u001b[38;5;124mgeemap-\u001b[39m\u001b[38;5;132;01m{}\u001b[39;00m\u001b[38;5;124m\"\u001b[39m\u001b[38;5;241m.\u001b[39mformat(Theme\u001b[38;5;241m.\u001b[39mcurrent_theme))\n",
      "File \u001b[0;32m~/hydrosolutions Dropbox/Silvan Ragettli/2024-08 Thurgau Irrigation/Codes/irrigation-mapper/venv/lib/python3.9/site-packages/geemap/map_widgets.py:1572\u001b[0m, in \u001b[0;36m_RasterLayerEditor.__init__\u001b[0;34m(self, host_map, layer_dict)\u001b[0m\n\u001b[1;32m   1569\u001b[0m \u001b[38;5;28mself\u001b[39m\u001b[38;5;241m.\u001b[39m_stretch_dropdown\u001b[38;5;241m.\u001b[39mobserve(\u001b[38;5;28mself\u001b[39m\u001b[38;5;241m.\u001b[39m_value_stretch_changed, names\u001b[38;5;241m=\u001b[39m\u001b[38;5;124m\"\u001b[39m\u001b[38;5;124mvalue\u001b[39m\u001b[38;5;124m\"\u001b[39m)\n\u001b[1;32m   1570\u001b[0m \u001b[38;5;28mself\u001b[39m\u001b[38;5;241m.\u001b[39m_stretch_button\u001b[38;5;241m.\u001b[39mon_click(\u001b[38;5;28mself\u001b[39m\u001b[38;5;241m.\u001b[39m_update_stretch)\n\u001b[0;32m-> 1572\u001b[0m \u001b[38;5;28mself\u001b[39m\u001b[38;5;241m.\u001b[39m_value_range_slider \u001b[38;5;241m=\u001b[39m \u001b[43mipywidgets\u001b[49m\u001b[38;5;241;43m.\u001b[39;49m\u001b[43mFloatRangeSlider\u001b[49m\u001b[43m(\u001b[49m\n\u001b[1;32m   1573\u001b[0m \u001b[43m    \u001b[49m\u001b[43mvalue\u001b[49m\u001b[38;5;241;43m=\u001b[39;49m\u001b[43m[\u001b[49m\u001b[38;5;28;43mself\u001b[39;49m\u001b[38;5;241;43m.\u001b[39;49m\u001b[43m_min_value\u001b[49m\u001b[43m,\u001b[49m\u001b[43m \u001b[49m\u001b[38;5;28;43mself\u001b[39;49m\u001b[38;5;241;43m.\u001b[39;49m\u001b[43m_max_value\u001b[49m\u001b[43m]\u001b[49m\u001b[43m,\u001b[49m\n\u001b[1;32m   1574\u001b[0m \u001b[43m    \u001b[49m\u001b[38;5;28;43mmin\u001b[39;49m\u001b[38;5;241;43m=\u001b[39;49m\u001b[38;5;28;43mself\u001b[39;49m\u001b[38;5;241;43m.\u001b[39;49m\u001b[43m_left_value\u001b[49m\u001b[43m,\u001b[49m\n\u001b[1;32m   1575\u001b[0m \u001b[43m    \u001b[49m\u001b[38;5;28;43mmax\u001b[39;49m\u001b[38;5;241;43m=\u001b[39;49m\u001b[38;5;28;43mself\u001b[39;49m\u001b[38;5;241;43m.\u001b[39;49m\u001b[43m_right_value\u001b[49m\u001b[43m,\u001b[49m\n\u001b[1;32m   1576\u001b[0m \u001b[43m    \u001b[49m\u001b[43mstep\u001b[49m\u001b[38;5;241;43m=\u001b[39;49m\u001b[38;5;241;43m0.1\u001b[39;49m\u001b[43m,\u001b[49m\n\u001b[1;32m   1577\u001b[0m \u001b[43m    \u001b[49m\u001b[43mdescription\u001b[49m\u001b[38;5;241;43m=\u001b[39;49m\u001b[38;5;124;43m\"\u001b[39;49m\u001b[38;5;124;43mRange:\u001b[39;49m\u001b[38;5;124;43m\"\u001b[39;49m\u001b[43m,\u001b[49m\n\u001b[1;32m   1578\u001b[0m \u001b[43m    \u001b[49m\u001b[43mdisabled\u001b[49m\u001b[38;5;241;43m=\u001b[39;49m\u001b[38;5;28;43;01mFalse\u001b[39;49;00m\u001b[43m,\u001b[49m\n\u001b[1;32m   1579\u001b[0m \u001b[43m    \u001b[49m\u001b[43mcontinuous_update\u001b[49m\u001b[38;5;241;43m=\u001b[39;49m\u001b[38;5;28;43;01mFalse\u001b[39;49;00m\u001b[43m,\u001b[49m\n\u001b[1;32m   1580\u001b[0m \u001b[43m    \u001b[49m\u001b[43mreadout\u001b[49m\u001b[38;5;241;43m=\u001b[39;49m\u001b[38;5;28;43;01mTrue\u001b[39;49;00m\u001b[43m,\u001b[49m\n\u001b[1;32m   1581\u001b[0m \u001b[43m    \u001b[49m\u001b[43mreadout_format\u001b[49m\u001b[38;5;241;43m=\u001b[39;49m\u001b[38;5;124;43m\"\u001b[39;49m\u001b[38;5;124;43m.1f\u001b[39;49m\u001b[38;5;124;43m\"\u001b[39;49m\u001b[43m,\u001b[49m\n\u001b[1;32m   1582\u001b[0m \u001b[43m    \u001b[49m\u001b[43mlayout\u001b[49m\u001b[38;5;241;43m=\u001b[39;49m\u001b[43mipywidgets\u001b[49m\u001b[38;5;241;43m.\u001b[39;49m\u001b[43mLayout\u001b[49m\u001b[43m(\u001b[49m\u001b[43mwidth\u001b[49m\u001b[38;5;241;43m=\u001b[39;49m\u001b[38;5;124;43m\"\u001b[39;49m\u001b[38;5;124;43m300px\u001b[39;49m\u001b[38;5;124;43m\"\u001b[39;49m\u001b[43m)\u001b[49m\u001b[43m,\u001b[49m\n\u001b[1;32m   1583\u001b[0m \u001b[43m    \u001b[49m\u001b[43mstyle\u001b[49m\u001b[38;5;241;43m=\u001b[39;49m\u001b[43m{\u001b[49m\u001b[38;5;124;43m\"\u001b[39;49m\u001b[38;5;124;43mdescription_width\u001b[39;49m\u001b[38;5;124;43m\"\u001b[39;49m\u001b[43m:\u001b[49m\u001b[43m \u001b[49m\u001b[38;5;124;43m\"\u001b[39;49m\u001b[38;5;124;43m45px\u001b[39;49m\u001b[38;5;124;43m\"\u001b[39;49m\u001b[43m}\u001b[49m\u001b[43m,\u001b[49m\n\u001b[1;32m   1584\u001b[0m \u001b[43m\u001b[49m\u001b[43m)\u001b[49m\n\u001b[1;32m   1586\u001b[0m \u001b[38;5;28mself\u001b[39m\u001b[38;5;241m.\u001b[39m_opacity_slider \u001b[38;5;241m=\u001b[39m ipywidgets\u001b[38;5;241m.\u001b[39mFloatSlider(\n\u001b[1;32m   1587\u001b[0m     value\u001b[38;5;241m=\u001b[39m\u001b[38;5;28mself\u001b[39m\u001b[38;5;241m.\u001b[39m_layer_opacity,\n\u001b[1;32m   1588\u001b[0m     \u001b[38;5;28mmin\u001b[39m\u001b[38;5;241m=\u001b[39m\u001b[38;5;241m0\u001b[39m,\n\u001b[0;32m   (...)\u001b[0m\n\u001b[1;32m   1596\u001b[0m     style\u001b[38;5;241m=\u001b[39m{\u001b[38;5;124m\"\u001b[39m\u001b[38;5;124mdescription_width\u001b[39m\u001b[38;5;124m\"\u001b[39m: \u001b[38;5;124m\"\u001b[39m\u001b[38;5;124m50px\u001b[39m\u001b[38;5;124m\"\u001b[39m},\n\u001b[1;32m   1597\u001b[0m )\n\u001b[1;32m   1599\u001b[0m \u001b[38;5;66;03m# ipywidgets doesn't support horizontal radio buttons\u001b[39;00m\n\u001b[1;32m   1600\u001b[0m \u001b[38;5;66;03m# (https://github.com/jupyter-widgets/ipywidgets/issues/1247). Instead,\u001b[39;00m\n\u001b[1;32m   1601\u001b[0m \u001b[38;5;66;03m# use two individual radio buttons with some hackery.\u001b[39;00m\n",
      "File \u001b[0;32m~/hydrosolutions Dropbox/Silvan Ragettli/2024-08 Thurgau Irrigation/Codes/irrigation-mapper/venv/lib/python3.9/site-packages/ipywidgets/widgets/widget_float.py:308\u001b[0m, in \u001b[0;36m_BoundedFloatRange.__init__\u001b[0;34m(self, *args, **kwargs)\u001b[0m\n\u001b[1;32m    303\u001b[0m     \u001b[38;5;28;01mexcept\u001b[39;00m:\n\u001b[1;32m    304\u001b[0m         \u001b[38;5;28;01mraise\u001b[39;00m \u001b[38;5;167;01mTypeError\u001b[39;00m(\n\u001b[1;32m    305\u001b[0m             \u001b[38;5;124m\"\u001b[39m\u001b[38;5;124mA \u001b[39m\u001b[38;5;124m'\u001b[39m\u001b[38;5;124mrange\u001b[39m\u001b[38;5;124m'\u001b[39m\u001b[38;5;124m must be able to be cast to a tuple. The input of type\u001b[39m\u001b[38;5;124m\"\u001b[39m\n\u001b[1;32m    306\u001b[0m             \u001b[38;5;124m\"\u001b[39m\u001b[38;5;124m \u001b[39m\u001b[38;5;132;01m{}\u001b[39;00m\u001b[38;5;124m could not be cast to a tuple\u001b[39m\u001b[38;5;124m\"\u001b[39m\u001b[38;5;241m.\u001b[39mformat(\u001b[38;5;28mtype\u001b[39m(kwargs[\u001b[38;5;124m'\u001b[39m\u001b[38;5;124mvalue\u001b[39m\u001b[38;5;124m'\u001b[39m]))\n\u001b[1;32m    307\u001b[0m         )\n\u001b[0;32m--> 308\u001b[0m \u001b[38;5;28;43msuper\u001b[39;49m\u001b[43m(\u001b[49m\u001b[43m)\u001b[49m\u001b[38;5;241;43m.\u001b[39;49m\u001b[38;5;21;43m__init__\u001b[39;49m\u001b[43m(\u001b[49m\u001b[38;5;241;43m*\u001b[39;49m\u001b[43margs\u001b[49m\u001b[43m,\u001b[49m\u001b[43m \u001b[49m\u001b[38;5;241;43m*\u001b[39;49m\u001b[38;5;241;43m*\u001b[39;49m\u001b[43mkwargs\u001b[49m\u001b[43m)\u001b[49m\n",
      "File \u001b[0;32m~/hydrosolutions Dropbox/Silvan Ragettli/2024-08 Thurgau Irrigation/Codes/irrigation-mapper/venv/lib/python3.9/site-packages/ipywidgets/widgets/widget_float.py:26\u001b[0m, in \u001b[0;36m_Float.__init__\u001b[0;34m(self, value, **kwargs)\u001b[0m\n\u001b[1;32m     24\u001b[0m \u001b[38;5;28;01mif\u001b[39;00m value \u001b[38;5;129;01mis\u001b[39;00m \u001b[38;5;129;01mnot\u001b[39;00m \u001b[38;5;28;01mNone\u001b[39;00m:\n\u001b[1;32m     25\u001b[0m     kwargs[\u001b[38;5;124m'\u001b[39m\u001b[38;5;124mvalue\u001b[39m\u001b[38;5;124m'\u001b[39m] \u001b[38;5;241m=\u001b[39m value\n\u001b[0;32m---> 26\u001b[0m \u001b[38;5;28;43msuper\u001b[39;49m\u001b[43m(\u001b[49m\u001b[43m)\u001b[49m\u001b[38;5;241;43m.\u001b[39;49m\u001b[38;5;21;43m__init__\u001b[39;49m\u001b[43m(\u001b[49m\u001b[38;5;241;43m*\u001b[39;49m\u001b[38;5;241;43m*\u001b[39;49m\u001b[43mkwargs\u001b[49m\u001b[43m)\u001b[49m\n",
      "File \u001b[0;32m~/hydrosolutions Dropbox/Silvan Ragettli/2024-08 Thurgau Irrigation/Codes/irrigation-mapper/venv/lib/python3.9/site-packages/ipywidgets/widgets/widget_description.py:35\u001b[0m, in \u001b[0;36mDescriptionWidget.__init__\u001b[0;34m(self, *args, **kwargs)\u001b[0m\n\u001b[1;32m     33\u001b[0m     kwargs\u001b[38;5;241m.\u001b[39msetdefault(\u001b[38;5;124m'\u001b[39m\u001b[38;5;124mtooltip\u001b[39m\u001b[38;5;124m'\u001b[39m, kwargs[\u001b[38;5;124m'\u001b[39m\u001b[38;5;124mdescription_tooltip\u001b[39m\u001b[38;5;124m'\u001b[39m])\n\u001b[1;32m     34\u001b[0m     \u001b[38;5;28;01mdel\u001b[39;00m kwargs[\u001b[38;5;124m'\u001b[39m\u001b[38;5;124mdescription_tooltip\u001b[39m\u001b[38;5;124m'\u001b[39m]\n\u001b[0;32m---> 35\u001b[0m \u001b[38;5;28;43msuper\u001b[39;49m\u001b[43m(\u001b[49m\u001b[43m)\u001b[49m\u001b[38;5;241;43m.\u001b[39;49m\u001b[38;5;21;43m__init__\u001b[39;49m\u001b[43m(\u001b[49m\u001b[38;5;241;43m*\u001b[39;49m\u001b[43margs\u001b[49m\u001b[43m,\u001b[49m\u001b[43m \u001b[49m\u001b[38;5;241;43m*\u001b[39;49m\u001b[38;5;241;43m*\u001b[39;49m\u001b[43mkwargs\u001b[49m\u001b[43m)\u001b[49m\n",
      "File \u001b[0;32m~/hydrosolutions Dropbox/Silvan Ragettli/2024-08 Thurgau Irrigation/Codes/irrigation-mapper/venv/lib/python3.9/site-packages/ipywidgets/widgets/widget.py:503\u001b[0m, in \u001b[0;36mWidget.__init__\u001b[0;34m(self, **kwargs)\u001b[0m\n\u001b[1;32m    501\u001b[0m \u001b[38;5;250m\u001b[39m\u001b[38;5;124;03m\"\"\"Public constructor\"\"\"\u001b[39;00m\n\u001b[1;32m    502\u001b[0m \u001b[38;5;28mself\u001b[39m\u001b[38;5;241m.\u001b[39m_model_id \u001b[38;5;241m=\u001b[39m kwargs\u001b[38;5;241m.\u001b[39mpop(\u001b[38;5;124m'\u001b[39m\u001b[38;5;124mmodel_id\u001b[39m\u001b[38;5;124m'\u001b[39m, \u001b[38;5;28;01mNone\u001b[39;00m)\n\u001b[0;32m--> 503\u001b[0m \u001b[38;5;28;43msuper\u001b[39;49m\u001b[43m(\u001b[49m\u001b[43m)\u001b[49m\u001b[38;5;241;43m.\u001b[39;49m\u001b[38;5;21;43m__init__\u001b[39;49m\u001b[43m(\u001b[49m\u001b[38;5;241;43m*\u001b[39;49m\u001b[38;5;241;43m*\u001b[39;49m\u001b[43mkwargs\u001b[49m\u001b[43m)\u001b[49m\n\u001b[1;32m    505\u001b[0m Widget\u001b[38;5;241m.\u001b[39m_call_widget_constructed(\u001b[38;5;28mself\u001b[39m)\n\u001b[1;32m    506\u001b[0m \u001b[38;5;28mself\u001b[39m\u001b[38;5;241m.\u001b[39mopen()\n",
      "File \u001b[0;32m~/hydrosolutions Dropbox/Silvan Ragettli/2024-08 Thurgau Irrigation/Codes/irrigation-mapper/venv/lib/python3.9/site-packages/traitlets/traitlets.py:1369\u001b[0m, in \u001b[0;36mHasTraits.__init__\u001b[0;34m(self, *args, **kwargs)\u001b[0m\n\u001b[1;32m   1367\u001b[0m changed \u001b[38;5;241m=\u001b[39m \u001b[38;5;28mset\u001b[39m(kwargs) \u001b[38;5;241m&\u001b[39m \u001b[38;5;28mset\u001b[39m(\u001b[38;5;28mself\u001b[39m\u001b[38;5;241m.\u001b[39m_traits)\n\u001b[1;32m   1368\u001b[0m \u001b[38;5;28;01mfor\u001b[39;00m key \u001b[38;5;129;01min\u001b[39;00m changed:\n\u001b[0;32m-> 1369\u001b[0m     value \u001b[38;5;241m=\u001b[39m \u001b[38;5;28;43mself\u001b[39;49m\u001b[38;5;241;43m.\u001b[39;49m\u001b[43m_traits\u001b[49m\u001b[43m[\u001b[49m\u001b[43mkey\u001b[49m\u001b[43m]\u001b[49m\u001b[38;5;241;43m.\u001b[39;49m\u001b[43m_cross_validate\u001b[49m\u001b[43m(\u001b[49m\u001b[38;5;28;43mself\u001b[39;49m\u001b[43m,\u001b[49m\u001b[43m \u001b[49m\u001b[38;5;28;43mgetattr\u001b[39;49m\u001b[43m(\u001b[49m\u001b[38;5;28;43mself\u001b[39;49m\u001b[43m,\u001b[49m\u001b[43m \u001b[49m\u001b[43mkey\u001b[49m\u001b[43m)\u001b[49m\u001b[43m)\u001b[49m\n\u001b[1;32m   1370\u001b[0m     \u001b[38;5;28mself\u001b[39m\u001b[38;5;241m.\u001b[39mset_trait(key, value)\n\u001b[1;32m   1371\u001b[0m     changes[key][\u001b[38;5;124m\"\u001b[39m\u001b[38;5;124mnew\u001b[39m\u001b[38;5;124m\"\u001b[39m] \u001b[38;5;241m=\u001b[39m value\n",
      "File \u001b[0;32m~/hydrosolutions Dropbox/Silvan Ragettli/2024-08 Thurgau Irrigation/Codes/irrigation-mapper/venv/lib/python3.9/site-packages/traitlets/traitlets.py:730\u001b[0m, in \u001b[0;36mTraitType._cross_validate\u001b[0;34m(self, obj, value)\u001b[0m\n\u001b[1;32m    728\u001b[0m \u001b[38;5;28;01mif\u001b[39;00m \u001b[38;5;28mself\u001b[39m\u001b[38;5;241m.\u001b[39mname \u001b[38;5;129;01min\u001b[39;00m obj\u001b[38;5;241m.\u001b[39m_trait_validators:\n\u001b[1;32m    729\u001b[0m     proposal \u001b[38;5;241m=\u001b[39m Bunch({\u001b[38;5;124m\"\u001b[39m\u001b[38;5;124mtrait\u001b[39m\u001b[38;5;124m\"\u001b[39m: \u001b[38;5;28mself\u001b[39m, \u001b[38;5;124m\"\u001b[39m\u001b[38;5;124mvalue\u001b[39m\u001b[38;5;124m\"\u001b[39m: value, \u001b[38;5;124m\"\u001b[39m\u001b[38;5;124mowner\u001b[39m\u001b[38;5;124m\"\u001b[39m: obj})\n\u001b[0;32m--> 730\u001b[0m     value \u001b[38;5;241m=\u001b[39m \u001b[43mobj\u001b[49m\u001b[38;5;241;43m.\u001b[39;49m\u001b[43m_trait_validators\u001b[49m\u001b[43m[\u001b[49m\u001b[38;5;28;43mself\u001b[39;49m\u001b[38;5;241;43m.\u001b[39;49m\u001b[43mname\u001b[49m\u001b[43m]\u001b[49m\u001b[43m(\u001b[49m\u001b[43mobj\u001b[49m\u001b[43m,\u001b[49m\u001b[43m \u001b[49m\u001b[43mproposal\u001b[49m\u001b[43m)\u001b[49m\n\u001b[1;32m    731\u001b[0m \u001b[38;5;28;01melif\u001b[39;00m \u001b[38;5;28mhasattr\u001b[39m(obj, \u001b[38;5;124m\"\u001b[39m\u001b[38;5;124m_\u001b[39m\u001b[38;5;132;01m%s\u001b[39;00m\u001b[38;5;124m_validate\u001b[39m\u001b[38;5;124m\"\u001b[39m \u001b[38;5;241m%\u001b[39m \u001b[38;5;28mself\u001b[39m\u001b[38;5;241m.\u001b[39mname):\n\u001b[1;32m    732\u001b[0m     meth_name \u001b[38;5;241m=\u001b[39m \u001b[38;5;124m\"\u001b[39m\u001b[38;5;124m_\u001b[39m\u001b[38;5;132;01m%s\u001b[39;00m\u001b[38;5;124m_validate\u001b[39m\u001b[38;5;124m\"\u001b[39m \u001b[38;5;241m%\u001b[39m \u001b[38;5;28mself\u001b[39m\u001b[38;5;241m.\u001b[39mname\n",
      "File \u001b[0;32m~/hydrosolutions Dropbox/Silvan Ragettli/2024-08 Thurgau Irrigation/Codes/irrigation-mapper/venv/lib/python3.9/site-packages/traitlets/traitlets.py:1241\u001b[0m, in \u001b[0;36mEventHandler.__call__\u001b[0;34m(self, *args, **kwargs)\u001b[0m\n\u001b[1;32m   1239\u001b[0m \u001b[38;5;250m\u001b[39m\u001b[38;5;124;03m\"\"\"Pass `*args` and `**kwargs` to the handler's function if it exists.\"\"\"\u001b[39;00m\n\u001b[1;32m   1240\u001b[0m \u001b[38;5;28;01mif\u001b[39;00m \u001b[38;5;28mhasattr\u001b[39m(\u001b[38;5;28mself\u001b[39m, \u001b[38;5;124m\"\u001b[39m\u001b[38;5;124mfunc\u001b[39m\u001b[38;5;124m\"\u001b[39m):\n\u001b[0;32m-> 1241\u001b[0m     \u001b[38;5;28;01mreturn\u001b[39;00m \u001b[38;5;28;43mself\u001b[39;49m\u001b[38;5;241;43m.\u001b[39;49m\u001b[43mfunc\u001b[49m\u001b[43m(\u001b[49m\u001b[38;5;241;43m*\u001b[39;49m\u001b[43margs\u001b[49m\u001b[43m,\u001b[49m\u001b[43m \u001b[49m\u001b[38;5;241;43m*\u001b[39;49m\u001b[38;5;241;43m*\u001b[39;49m\u001b[43mkwargs\u001b[49m\u001b[43m)\u001b[49m\n\u001b[1;32m   1242\u001b[0m \u001b[38;5;28;01melse\u001b[39;00m:\n\u001b[1;32m   1243\u001b[0m     \u001b[38;5;28;01mreturn\u001b[39;00m \u001b[38;5;28mself\u001b[39m\u001b[38;5;241m.\u001b[39m_init_call(\u001b[38;5;241m*\u001b[39margs, \u001b[38;5;241m*\u001b[39m\u001b[38;5;241m*\u001b[39mkwargs)\n",
      "File \u001b[0;32m~/hydrosolutions Dropbox/Silvan Ragettli/2024-08 Thurgau Irrigation/Codes/irrigation-mapper/venv/lib/python3.9/site-packages/ipywidgets/widgets/widget_float.py:326\u001b[0m, in \u001b[0;36m_BoundedFloatRange._validate_value\u001b[0;34m(self, proposal)\u001b[0m\n\u001b[1;32m    324\u001b[0m \u001b[38;5;129m@validate\u001b[39m(\u001b[38;5;124m'\u001b[39m\u001b[38;5;124mvalue\u001b[39m\u001b[38;5;124m'\u001b[39m)\n\u001b[1;32m    325\u001b[0m \u001b[38;5;28;01mdef\u001b[39;00m \u001b[38;5;21m_validate_value\u001b[39m(\u001b[38;5;28mself\u001b[39m, proposal):\n\u001b[0;32m--> 326\u001b[0m     lower, upper \u001b[38;5;241m=\u001b[39m \u001b[38;5;28;43msuper\u001b[39;49m\u001b[43m(\u001b[49m\u001b[43m)\u001b[49m\u001b[38;5;241;43m.\u001b[39;49m\u001b[43m_validate_value\u001b[49m\u001b[43m(\u001b[49m\u001b[43mproposal\u001b[49m\u001b[43m)\u001b[49m\n\u001b[1;32m    327\u001b[0m     lower, upper \u001b[38;5;241m=\u001b[39m \u001b[38;5;28mmin\u001b[39m(lower, \u001b[38;5;28mself\u001b[39m\u001b[38;5;241m.\u001b[39mmax), \u001b[38;5;28mmin\u001b[39m(upper, \u001b[38;5;28mself\u001b[39m\u001b[38;5;241m.\u001b[39mmax)\n\u001b[1;32m    328\u001b[0m     lower, upper \u001b[38;5;241m=\u001b[39m \u001b[38;5;28mmax\u001b[39m(lower, \u001b[38;5;28mself\u001b[39m\u001b[38;5;241m.\u001b[39mmin), \u001b[38;5;28mmax\u001b[39m(upper, \u001b[38;5;28mself\u001b[39m\u001b[38;5;241m.\u001b[39mmin)\n",
      "File \u001b[0;32m~/hydrosolutions Dropbox/Silvan Ragettli/2024-08 Thurgau Irrigation/Codes/irrigation-mapper/venv/lib/python3.9/site-packages/ipywidgets/widgets/widget_float.py:286\u001b[0m, in \u001b[0;36m_FloatRange._validate_value\u001b[0;34m(self, proposal)\u001b[0m\n\u001b[1;32m    284\u001b[0m lower, upper \u001b[38;5;241m=\u001b[39m proposal[\u001b[38;5;124m'\u001b[39m\u001b[38;5;124mvalue\u001b[39m\u001b[38;5;124m'\u001b[39m]\n\u001b[1;32m    285\u001b[0m \u001b[38;5;28;01mif\u001b[39;00m upper \u001b[38;5;241m<\u001b[39m lower:\n\u001b[0;32m--> 286\u001b[0m     \u001b[38;5;28;01mraise\u001b[39;00m TraitError(\u001b[38;5;124m'\u001b[39m\u001b[38;5;124msetting lower > upper\u001b[39m\u001b[38;5;124m'\u001b[39m)\n\u001b[1;32m    287\u001b[0m \u001b[38;5;28;01mreturn\u001b[39;00m lower, upper\n",
      "\u001b[0;31mTraitError\u001b[0m: setting lower > upper"
     ]
    }
   ],
   "source": [
    "Map = geemap.Map()\n",
    "\n",
    "sentinel_vis_params = {\n",
    "    \"bands\": [\"ST_B10\"],\n",
    "    \"min\": 304-273,\n",
    "    \"max\": 320-273,\n",
    "    \"palette\": [\"white\", \"green\"],\n",
    "}\n",
    "\n",
    "fitted_vis_params = {\n",
    "    \"bands\": [\"fitted_ST_B10\"],\n",
    "    \"min\": 304-273,\n",
    "    \"max\": 300-273,\n",
    "    \"palette\": [\"white\", \"green\"],\n",
    "}\n",
    "\n",
    "gap_filled_vis_params = {\n",
    "    \"bands\": [\"gap_filled_ST_B10\"],\n",
    "    \"min\": 304-273,\n",
    "    \"max\": 320-273,\n",
    "    \"palette\": [\"white\", \"green\"],\n",
    "}\n",
    "\n",
    "\n",
    "s2_image = ee.Image(s2_harmonized_gaps_filled.filterBounds(aoi).toList(36).get(-3))\n",
    "s2_image_resampled = ee.Image(independent_vars.toList(36).get(0))\n",
    "\n",
    "Map.addLayer(s2_image, sentinel_vis_params, \"Sentinel 2\")\n",
    "Map.addLayer(s2_image, fitted_vis_params, \"Sentinel 2 Fitted\")\n",
    "#Map.addLayer(s2_image, gap_filled_vis_params, \"Sentinel 2 Gap Filled\")\n",
    "# Map.addLayer(s2_image_resampled, gap_filled_vis_params, \"Sentinel 2 Resampled\")\n",
    "\n",
    "\n",
    "Map.centerObject(aoi, 12)\n",
    "Map"
   ]
  },
  {
   "cell_type": "markdown",
   "metadata": {},
   "source": [
    "### 2. Compute the ET downscaled images"
   ]
  },
  {
   "cell_type": "code",
   "execution_count": null,
   "metadata": {},
   "outputs": [],
   "source": [
    "# collection = ee.ImageCollection(\"projects/thurgau-irrigation/assets/ET_products/Thurgau/WaPOR_10m_2018\").map(lambda img: back_to_float(img, 100))\n",
    "\n",
    "# print_collection_dates(collection)"
   ]
  },
  {
   "cell_type": "code",
   "execution_count": null,
   "metadata": {},
   "outputs": [],
   "source": [
    "# collection_list = collection.toList(collection.size())\n"
   ]
  },
  {
   "cell_type": "code",
   "execution_count": null,
   "metadata": {},
   "outputs": [],
   "source": [
    "# Map = geemap.Map()\n",
    "\n",
    "# et_vis_params = {\n",
    "#     \"bands\": [\"downscaled\"],\n",
    "#     \"min\": 0,\n",
    "#     \"max\": 5,\n",
    "#     \"palette\": [\"white\", \"lightblue\", \"blue\", \"green\", \"yellow\", \"orange\", \"red\", \"darkred\"],\n",
    "# }\n",
    "\n",
    "# et_image = ee.Image(collection_list.get(14))\n",
    "\n",
    "# Map.addLayer(et_image, et_vis_params, \"ET\")\n",
    "\n",
    "# Map.centerObject(aoi, 12)\n",
    "\n",
    "# Map"
   ]
  },
  {
   "cell_type": "code",
   "execution_count": null,
   "metadata": {},
   "outputs": [],
   "source": [
    "# sentinel_collection = ee.ImageCollection(\"COPERNICUS/S2_SR_HARMONIZED\").filterBounds(aoi).filterDate(\"2019-5-01\", \"2019-05-31\").sort(\"system:time_start\")\n",
    "\n",
    "# # Get list of unique dates and merge same-day images\n",
    "# def merge_daily_images(collection):\n",
    "#     # Get list of unique dates\n",
    "#     dates = collection.aggregate_array('system:time_start').distinct()\n",
    "    \n",
    "#     def merge_images_for_date(date):\n",
    "#         # Get images for this date\n",
    "#         daily_images = collection.filter(ee.Filter.eq('system:time_start', date))\n",
    "#         # Merge images (mosaic takes the first non-masked pixel)\n",
    "#         merged = daily_images.mosaic()\n",
    "#         # Set the date property\n",
    "#         return merged.set('system:time_start', date)\n",
    "    \n",
    "#     # Map merge function over dates\n",
    "#     merged_collection = ee.ImageCollection(dates.map(lambda date: merge_images_for_date(date)))\n",
    "#     return merged_collection\n",
    "\n",
    "# # Apply the merging\n",
    "# merged_sentinel = merge_daily_images(sentinel_collection)\n",
    "\n",
    "# # Visualize first merged image\n",
    "# merged_image = ee.Image(merged_sentinel.first())\n",
    "\n",
    "# # Print number of images before and after\n",
    "# print(f\"Original collection size: {sentinel_collection.size().getInfo()}\")\n",
    "# print(f\"Merged collection size: {merged_sentinel.size().getInfo()}\")"
   ]
  },
  {
   "cell_type": "code",
   "execution_count": null,
   "metadata": {},
   "outputs": [],
   "source": [
    "# Map = geemap.Map()\n",
    "\n",
    "# sentinel_vis_params = {\n",
    "#     \"bands\": [\"B4\", \"B3\", \"B2\"],\n",
    "#     \"min\": 0,\n",
    "#     \"max\": 2000,\n",
    "# }\n",
    "\n",
    "# sentinel_image = ee.Image(sentinel_collection.first())\n",
    "\n",
    "# Map.addLayer(sentinel_image, sentinel_vis_params, \"Sentinel 2\")\n",
    "# Map.addLayer(merged_image, sentinel_vis_params, \"Merged Sentinel 2\")\n",
    "\n",
    "# Map.centerObject(aoi, 12)\n",
    "\n",
    "# Map"
   ]
  },
  {
   "cell_type": "code",
   "execution_count": null,
   "metadata": {},
   "outputs": [],
   "source": []
  }
 ],
 "metadata": {
  "kernelspec": {
   "display_name": "venv",
   "language": "python",
   "name": "python3"
  },
  "language_info": {
   "codemirror_mode": {
    "name": "ipython",
    "version": 3
   },
   "file_extension": ".py",
   "mimetype": "text/x-python",
   "name": "python",
   "nbconvert_exporter": "python",
   "pygments_lexer": "ipython3",
   "version": "3.9.0"
  }
 },
 "nbformat": 4,
 "nbformat_minor": 2
}
