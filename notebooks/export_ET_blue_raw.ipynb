{
 "cells": [
  {
   "cell_type": "code",
   "execution_count": 1,
   "metadata": {},
   "outputs": [],
   "source": [
    "import sys\n",
    "from pathlib import Path\n",
    "sys.path.append(str(Path().absolute().parent))"
   ]
  },
  {
   "cell_type": "code",
   "execution_count": 2,
   "metadata": {},
   "outputs": [
    {
     "name": "stderr",
     "output_type": "stream",
     "text": [
      "*** Earth Engine *** Share your feedback by taking our Annual Developer Satisfaction Survey: https://google.qualtrics.com/jfe/form/SV_0JLhFqfSY1uiEaW?source=Init\n"
     ]
    }
   ],
   "source": [
    "import ee \n",
    "import geemap\n",
    "\n",
    "ee.Initialize(project=\"ee-india-reservoirs\")"
   ]
  },
  {
   "cell_type": "code",
   "execution_count": 4,
   "metadata": {},
   "outputs": [
    {
     "data": {
      "text/html": [
       "\n",
       "            <style>\n",
       "                .geemap-dark {\n",
       "                    --jp-widgets-color: white;\n",
       "                    --jp-widgets-label-color: white;\n",
       "                    --jp-ui-font-color1: white;\n",
       "                    --jp-layout-color2: #454545;\n",
       "                    background-color: #383838;\n",
       "                }\n",
       "\n",
       "                .geemap-dark .jupyter-button {\n",
       "                    --jp-layout-color3: #383838;\n",
       "                }\n",
       "\n",
       "                .geemap-colab {\n",
       "                    background-color: var(--colab-primary-surface-color, white);\n",
       "                }\n",
       "\n",
       "                .geemap-colab .jupyter-button {\n",
       "                    --jp-layout-color3: var(--colab-primary-surface-color, white);\n",
       "                }\n",
       "            </style>\n",
       "            "
      ],
      "text/plain": [
       "<IPython.core.display.HTML object>"
      ]
     },
     "metadata": {},
     "output_type": "display_data"
    }
   ],
   "source": [
    "from src.et_blue.exporting_utils import process_et_blue\n",
    "from src.et_blue.compute_et_blue import compute_et_blue\n",
    "\n",
    "from utils.ee_utils import (\n",
    "    back_to_float,\n",
    "    back_to_int,\n",
    "    export_image_to_asset,\n",
    "    print_value_ranges,\n",
    ")\n",
    "\n",
    "from utils.date_utils import print_collection_dates"
   ]
  },
  {
   "cell_type": "markdown",
   "metadata": {},
   "source": [
    "---"
   ]
  },
  {
   "cell_type": "markdown",
   "metadata": {},
   "source": [
    "## Constants"
   ]
  },
  {
   "cell_type": "code",
   "execution_count": 6,
   "metadata": {},
   "outputs": [
    {
     "data": {
      "text/html": [
       "\n",
       "            <style>\n",
       "                .geemap-dark {\n",
       "                    --jp-widgets-color: white;\n",
       "                    --jp-widgets-label-color: white;\n",
       "                    --jp-ui-font-color1: white;\n",
       "                    --jp-layout-color2: #454545;\n",
       "                    background-color: #383838;\n",
       "                }\n",
       "\n",
       "                .geemap-dark .jupyter-button {\n",
       "                    --jp-layout-color3: #383838;\n",
       "                }\n",
       "\n",
       "                .geemap-colab {\n",
       "                    background-color: var(--colab-primary-surface-color, white);\n",
       "                }\n",
       "\n",
       "                .geemap-colab .jupyter-button {\n",
       "                    --jp-layout-color3: var(--colab-primary-surface-color, white);\n",
       "                }\n",
       "            </style>\n",
       "            "
      ],
      "text/plain": [
       "<IPython.core.display.HTML object>"
      ]
     },
     "metadata": {},
     "output_type": "display_data"
    },
    {
     "name": "stdout",
     "output_type": "stream",
     "text": [
      "projects/thurgau-irrigation/assets/FribourgAndVaud/ET_blue_raw/ET_blue_raw_dekadal_from_Landsat_30m_v2\n"
     ]
    }
   ],
   "source": [
    "YEAR = 2018\n",
    "\n",
    "PATH_TO_AOI = \"projects/thurgau-irrigation/assets/FribourgAndVaud/broye_bounding_box\"\n",
    "PATH_TO_ET_PRODUCT = (\n",
    "    f\"projects/thurgau-irrigation/assets/FribourgAndVaud/ET_products/decadal_Landsat_10m\"\n",
    ")\n",
    "PATH_TO_ET_GREEN = f\"projects/thurgau-irrigation/assets/FribourgAndVaud/ET_green/ET_green_dekadal_from_Landsat_30m_v2\"\n",
    "\n",
    "ET_GREEN_BAND_NAME = \"ET_green\"\n",
    "ET_BAND_NAME = \"ET\"\n",
    "SCALING_FACTOR = 100\n",
    "DYNAMIC = True\n",
    "SCALING_FACTOR_PROPERTY_NAME = \"days\" if DYNAMIC else None\n",
    "NUMBER_OF_IMAGES = 21\n",
    "TEMPORAL_RESOLUTION = \"dekadal\"\n",
    "\n",
    "\n",
    "# ET_BLUE_RAW_PATH = f\"projects/thurgau-irrigation/assets/FribourgAndVaud/ET_blue_raw/ET_blue_raw_{YEAR}_{TEMPORAL_RESOLUTION}_from_Landsat_30m\"\n",
    "ET_BLUE_RAW_PATH = f\"projects/thurgau-irrigation/assets/FribourgAndVaud/ET_blue_raw/ET_blue_raw_{TEMPORAL_RESOLUTION}_from_Landsat_30m_v2\"\n",
    "print(ET_BLUE_RAW_PATH)\n",
    "EXPORT_IMAGE_RESOLUTION = 30  # in meters"
   ]
  },
  {
   "cell_type": "markdown",
   "metadata": {},
   "source": [
    "## 1. Load Assets"
   ]
  },
  {
   "cell_type": "code",
   "execution_count": 7,
   "metadata": {},
   "outputs": [
    {
     "data": {
      "text/html": [
       "\n",
       "            <style>\n",
       "                .geemap-dark {\n",
       "                    --jp-widgets-color: white;\n",
       "                    --jp-widgets-label-color: white;\n",
       "                    --jp-ui-font-color1: white;\n",
       "                    --jp-layout-color2: #454545;\n",
       "                    background-color: #383838;\n",
       "                }\n",
       "\n",
       "                .geemap-dark .jupyter-button {\n",
       "                    --jp-layout-color3: #383838;\n",
       "                }\n",
       "\n",
       "                .geemap-colab {\n",
       "                    background-color: var(--colab-primary-surface-color, white);\n",
       "                }\n",
       "\n",
       "                .geemap-colab .jupyter-button {\n",
       "                    --jp-layout-color3: var(--colab-primary-surface-color, white);\n",
       "                }\n",
       "            </style>\n",
       "            "
      ],
      "text/plain": [
       "<IPython.core.display.HTML object>"
      ]
     },
     "metadata": {},
     "output_type": "display_data"
    }
   ],
   "source": [
    "aoi = ee.FeatureCollection(PATH_TO_AOI).geometry().simplify(500).buffer(100)"
   ]
  },
  {
   "cell_type": "code",
   "execution_count": 8,
   "metadata": {},
   "outputs": [
    {
     "data": {
      "text/html": [
       "\n",
       "            <style>\n",
       "                .geemap-dark {\n",
       "                    --jp-widgets-color: white;\n",
       "                    --jp-widgets-label-color: white;\n",
       "                    --jp-ui-font-color1: white;\n",
       "                    --jp-layout-color2: #454545;\n",
       "                    background-color: #383838;\n",
       "                }\n",
       "\n",
       "                .geemap-dark .jupyter-button {\n",
       "                    --jp-layout-color3: #383838;\n",
       "                }\n",
       "\n",
       "                .geemap-colab {\n",
       "                    background-color: var(--colab-primary-surface-color, white);\n",
       "                }\n",
       "\n",
       "                .geemap-colab .jupyter-button {\n",
       "                    --jp-layout-color3: var(--colab-primary-surface-color, white);\n",
       "                }\n",
       "            </style>\n",
       "            "
      ],
      "text/plain": [
       "<IPython.core.display.HTML object>"
      ]
     },
     "metadata": {},
     "output_type": "display_data"
    },
    {
     "name": "stdout",
     "output_type": "stream",
     "text": [
      "Dates of images in the collection:\n",
      "2018-04-01\n",
      "2018-04-11\n",
      "2018-04-21\n",
      "2018-05-01\n",
      "2018-05-11\n",
      "2018-05-21\n",
      "2018-06-01\n",
      "2018-06-11\n",
      "2018-06-21\n",
      "2018-07-01\n",
      "2018-07-11\n",
      "2018-07-21\n",
      "2018-08-01\n",
      "2018-08-11\n",
      "2018-08-21\n",
      "2018-09-01\n",
      "2018-09-11\n",
      "2018-09-21\n",
      "2018-10-01\n",
      "2018-10-11\n",
      "2018-10-21\n"
     ]
    }
   ],
   "source": [
    "et_collection = (\n",
    "    ee.ImageCollection(PATH_TO_ET_PRODUCT)\n",
    "    # .filter(ee.Filter.eq(\"Region\", \"Thurgau\"))\n",
    "    .filterDate(f\"{YEAR}-01-01\", f\"{YEAR}-12-31\")\n",
    "    .map(\n",
    "        lambda img: back_to_float(\n",
    "            img, SCALING_FACTOR, DYNAMIC, SCALING_FACTOR_PROPERTY_NAME\n",
    "        )\n",
    "    )\n",
    ").sort(\"system:time_start\")\n",
    "\n",
    "et_collection_list = et_collection.toList(et_collection.size())\n",
    "\n",
    "\n",
    "# Sanity checks:\n",
    "print_collection_dates(et_collection)"
   ]
  },
  {
   "cell_type": "code",
   "execution_count": 9,
   "metadata": {},
   "outputs": [
    {
     "data": {
      "text/html": [
       "\n",
       "            <style>\n",
       "                .geemap-dark {\n",
       "                    --jp-widgets-color: white;\n",
       "                    --jp-widgets-label-color: white;\n",
       "                    --jp-ui-font-color1: white;\n",
       "                    --jp-layout-color2: #454545;\n",
       "                    background-color: #383838;\n",
       "                }\n",
       "\n",
       "                .geemap-dark .jupyter-button {\n",
       "                    --jp-layout-color3: #383838;\n",
       "                }\n",
       "\n",
       "                .geemap-colab {\n",
       "                    background-color: var(--colab-primary-surface-color, white);\n",
       "                }\n",
       "\n",
       "                .geemap-colab .jupyter-button {\n",
       "                    --jp-layout-color3: var(--colab-primary-surface-color, white);\n",
       "                }\n",
       "            </style>\n",
       "            "
      ],
      "text/plain": [
       "<IPython.core.display.HTML object>"
      ]
     },
     "metadata": {},
     "output_type": "display_data"
    },
    {
     "name": "stdout",
     "output_type": "stream",
     "text": [
      "Dates of images in the collection:\n",
      "2018-04-01\n",
      "2018-04-11\n",
      "2018-04-21\n",
      "2018-05-01\n",
      "2018-05-11\n",
      "2018-05-21\n",
      "2018-06-01\n",
      "2018-06-11\n",
      "2018-06-21\n",
      "2018-07-01\n",
      "2018-07-11\n",
      "2018-07-21\n",
      "2018-08-01\n",
      "2018-08-11\n",
      "2018-08-21\n",
      "2018-09-01\n",
      "2018-09-11\n",
      "2018-09-21\n",
      "2018-10-01\n",
      "2018-10-11\n",
      "2018-10-21\n"
     ]
    }
   ],
   "source": [
    "et_green_collection = (\n",
    "    ee.ImageCollection(PATH_TO_ET_GREEN)\n",
    "    .filterDate(f\"{YEAR}-01-01\", f\"{YEAR}-12-31\")\n",
    "    .map(lambda img: back_to_float(img, SCALING_FACTOR))\n",
    ")\n",
    "\n",
    "et_green_list = et_green_collection.toList(et_collection.size())\n",
    "\n",
    "# Sanity checks:\n",
    "print_collection_dates(et_green_collection)\n",
    "# print_value_ranges(et_green_collection, ET_GREEN_BAND_NAME)"
   ]
  },
  {
   "cell_type": "markdown",
   "metadata": {},
   "source": [
    "## 2. Compute and Export ET_blue raw"
   ]
  },
  {
   "cell_type": "code",
   "execution_count": 16,
   "metadata": {},
   "outputs": [
    {
     "data": {
      "text/html": [
       "\n",
       "            <style>\n",
       "                .geemap-dark {\n",
       "                    --jp-widgets-color: white;\n",
       "                    --jp-widgets-label-color: white;\n",
       "                    --jp-ui-font-color1: white;\n",
       "                    --jp-layout-color2: #454545;\n",
       "                    background-color: #383838;\n",
       "                }\n",
       "\n",
       "                .geemap-dark .jupyter-button {\n",
       "                    --jp-layout-color3: #383838;\n",
       "                }\n",
       "\n",
       "                .geemap-colab {\n",
       "                    background-color: var(--colab-primary-surface-color, white);\n",
       "                }\n",
       "\n",
       "                .geemap-colab .jupyter-button {\n",
       "                    --jp-layout-color3: var(--colab-primary-surface-color, white);\n",
       "                }\n",
       "            </style>\n",
       "            "
      ],
      "text/plain": [
       "<IPython.core.display.HTML object>"
      ]
     },
     "metadata": {},
     "output_type": "display_data"
    },
    {
     "name": "stdout",
     "output_type": "stream",
     "text": [
      "Exporting ET_blue_raw_dekadal_2019_04_D1 for 2019 to projects/thurgau-irrigation/assets/FribourgAndVaud/ET_blue_raw/ET_blue_raw_2019_dekadal_from_Landsat_30m_v2/ET_blue_raw_dekadal_2019_04_D1\n",
      "Exporting ET_blue_raw_dekadal_2019_04_D2 for 2019 to projects/thurgau-irrigation/assets/FribourgAndVaud/ET_blue_raw/ET_blue_raw_2019_dekadal_from_Landsat_30m_v2/ET_blue_raw_dekadal_2019_04_D2\n",
      "Exporting ET_blue_raw_dekadal_2019_04_D3 for 2019 to projects/thurgau-irrigation/assets/FribourgAndVaud/ET_blue_raw/ET_blue_raw_2019_dekadal_from_Landsat_30m_v2/ET_blue_raw_dekadal_2019_04_D3\n",
      "Exporting ET_blue_raw_dekadal_2019_05_D1 for 2019 to projects/thurgau-irrigation/assets/FribourgAndVaud/ET_blue_raw/ET_blue_raw_2019_dekadal_from_Landsat_30m_v2/ET_blue_raw_dekadal_2019_05_D1\n",
      "Exporting ET_blue_raw_dekadal_2019_05_D2 for 2019 to projects/thurgau-irrigation/assets/FribourgAndVaud/ET_blue_raw/ET_blue_raw_2019_dekadal_from_Landsat_30m_v2/ET_blue_raw_dekadal_2019_05_D2\n",
      "Exporting ET_blue_raw_dekadal_2019_05_D3 for 2019 to projects/thurgau-irrigation/assets/FribourgAndVaud/ET_blue_raw/ET_blue_raw_2019_dekadal_from_Landsat_30m_v2/ET_blue_raw_dekadal_2019_05_D3\n",
      "Exporting ET_blue_raw_dekadal_2019_06_D1 for 2019 to projects/thurgau-irrigation/assets/FribourgAndVaud/ET_blue_raw/ET_blue_raw_2019_dekadal_from_Landsat_30m_v2/ET_blue_raw_dekadal_2019_06_D1\n",
      "Exporting ET_blue_raw_dekadal_2019_06_D2 for 2019 to projects/thurgau-irrigation/assets/FribourgAndVaud/ET_blue_raw/ET_blue_raw_2019_dekadal_from_Landsat_30m_v2/ET_blue_raw_dekadal_2019_06_D2\n",
      "Exporting ET_blue_raw_dekadal_2019_06_D3 for 2019 to projects/thurgau-irrigation/assets/FribourgAndVaud/ET_blue_raw/ET_blue_raw_2019_dekadal_from_Landsat_30m_v2/ET_blue_raw_dekadal_2019_06_D3\n",
      "Exporting ET_blue_raw_dekadal_2019_07_D1 for 2019 to projects/thurgau-irrigation/assets/FribourgAndVaud/ET_blue_raw/ET_blue_raw_2019_dekadal_from_Landsat_30m_v2/ET_blue_raw_dekadal_2019_07_D1\n",
      "Exporting ET_blue_raw_dekadal_2019_07_D2 for 2019 to projects/thurgau-irrigation/assets/FribourgAndVaud/ET_blue_raw/ET_blue_raw_2019_dekadal_from_Landsat_30m_v2/ET_blue_raw_dekadal_2019_07_D2\n",
      "Exporting ET_blue_raw_dekadal_2019_07_D3 for 2019 to projects/thurgau-irrigation/assets/FribourgAndVaud/ET_blue_raw/ET_blue_raw_2019_dekadal_from_Landsat_30m_v2/ET_blue_raw_dekadal_2019_07_D3\n",
      "Exporting ET_blue_raw_dekadal_2019_08_D1 for 2019 to projects/thurgau-irrigation/assets/FribourgAndVaud/ET_blue_raw/ET_blue_raw_2019_dekadal_from_Landsat_30m_v2/ET_blue_raw_dekadal_2019_08_D1\n",
      "Exporting ET_blue_raw_dekadal_2019_08_D2 for 2019 to projects/thurgau-irrigation/assets/FribourgAndVaud/ET_blue_raw/ET_blue_raw_2019_dekadal_from_Landsat_30m_v2/ET_blue_raw_dekadal_2019_08_D2\n",
      "Exporting ET_blue_raw_dekadal_2019_08_D3 for 2019 to projects/thurgau-irrigation/assets/FribourgAndVaud/ET_blue_raw/ET_blue_raw_2019_dekadal_from_Landsat_30m_v2/ET_blue_raw_dekadal_2019_08_D3\n",
      "Exporting ET_blue_raw_dekadal_2019_09_D1 for 2019 to projects/thurgau-irrigation/assets/FribourgAndVaud/ET_blue_raw/ET_blue_raw_2019_dekadal_from_Landsat_30m_v2/ET_blue_raw_dekadal_2019_09_D1\n",
      "Exporting ET_blue_raw_dekadal_2019_09_D2 for 2019 to projects/thurgau-irrigation/assets/FribourgAndVaud/ET_blue_raw/ET_blue_raw_2019_dekadal_from_Landsat_30m_v2/ET_blue_raw_dekadal_2019_09_D2\n",
      "Exporting ET_blue_raw_dekadal_2019_09_D3 for 2019 to projects/thurgau-irrigation/assets/FribourgAndVaud/ET_blue_raw/ET_blue_raw_2019_dekadal_from_Landsat_30m_v2/ET_blue_raw_dekadal_2019_09_D3\n",
      "Exporting ET_blue_raw_dekadal_2019_10_D1 for 2019 to projects/thurgau-irrigation/assets/FribourgAndVaud/ET_blue_raw/ET_blue_raw_2019_dekadal_from_Landsat_30m_v2/ET_blue_raw_dekadal_2019_10_D1\n",
      "Exporting ET_blue_raw_dekadal_2019_10_D2 for 2019 to projects/thurgau-irrigation/assets/FribourgAndVaud/ET_blue_raw/ET_blue_raw_2019_dekadal_from_Landsat_30m_v2/ET_blue_raw_dekadal_2019_10_D2\n",
      "Exporting ET_blue_raw_dekadal_2019_10_D3 for 2019 to projects/thurgau-irrigation/assets/FribourgAndVaud/ET_blue_raw/ET_blue_raw_2019_dekadal_from_Landsat_30m_v2/ET_blue_raw_dekadal_2019_10_D3\n",
      "Generated 21 export tasks for year 2019\n"
     ]
    }
   ],
   "source": [
    "process_et_blue(\n",
    "    et_collection_list=et_collection_list,\n",
    "    et_green_list=et_green_list,\n",
    "    year=YEAR,\n",
    "    aoi=aoi,\n",
    "    asset_path=ET_BLUE_RAW_PATH,\n",
    "    time_step_type=TEMPORAL_RESOLUTION,\n",
    "    resolution=EXPORT_IMAGE_RESOLUTION,\n",
    ")"
   ]
  },
  {
   "cell_type": "code",
   "execution_count": null,
   "metadata": {},
   "outputs": [],
   "source": [
    "et_blue_raw = []\n",
    "\n",
    "for i in range(NUMBER_OF_IMAGES):\n",
    "    # Process ET images\n",
    "    et_image = ee.Image(et_collection_list.get(i))\n",
    "    et_green = ee.Image(et_green_list.get(i))\n",
    "    et_blue = compute_et_blue(et_image, et_green)\n",
    "    et_blue_raw.append(et_blue)"
   ]
  },
  {
   "cell_type": "code",
   "execution_count": null,
   "metadata": {},
   "outputs": [],
   "source": [
    "ee.Image(et_blue_raw[0]).bandNames().getInfo()"
   ]
  },
  {
   "cell_type": "code",
   "execution_count": null,
   "metadata": {},
   "outputs": [],
   "source": [
    "Map = geemap.Map(height=\"800px\")\n",
    "\n",
    "image = ee.Image(et_blue_raw[2])\n",
    "# image_green = ee.Image(et_green_list.get(20))\n",
    "# image_et = ee.Image(et_collection_list.get(20))\n",
    "# image_ET = ee.Image(et_collection_list.get(17))\n",
    "\n",
    "vis_params = {\n",
    "    \"bands\": [\"ET_blue\"],\n",
    "    \"min\": 0,\n",
    "    \"max\": 1,\n",
    "    \"palette\": [\"blue\", \"lightblue\", \"green\", \"yellow\", \"orange\", \"red\"],\n",
    "}\n",
    "\n",
    "# vis_green = {\n",
    "#     \"bands\": [\"ET_green\"],\n",
    "#     \"min\": 0,\n",
    "#     \"max\": 3,\n",
    "#     \"palette\": [\"blue\", \"lightblue\", \"green\", \"yellow\", \"orange\", \"red\"],\n",
    "# }\n",
    "\n",
    "# vis_ET = {\n",
    "#     \"bands\": [\"downscaled\"],\n",
    "#     \"min\": 0,\n",
    "#     \"max\": 5,\n",
    "#     \"palette\": [\"blue\", \"lightblue\", \"green\", \"yellow\", \"orange\", \"red\"],\n",
    "# }\n",
    "\n",
    "\n",
    "Map.center_object(aoi, 12)\n",
    "Map.addLayer(image, vis_params, \"ET blue raw\")\n",
    "Map.add_colorbar(vis_params, label=\"ET blue raw [mm/month]\")\n",
    "Map.center_object(aoi, 12)\n",
    "# Map.addLayer(image_green, vis_green, \"ET green\")\n",
    "# Map.add_colorbar(vis_green, label=\"ET green [mm/month]\")\n",
    "# Map.addLayer(image_et, vis_ET, \"ET\")\n",
    "# Map.add_colorbar(vis_ET, label=\"ET [mm/month]\")\n",
    "\n",
    "\n",
    "Map"
   ]
  },
  {
   "cell_type": "markdown",
   "metadata": {},
   "source": [
    "## Sanity check"
   ]
  },
  {
   "cell_type": "code",
   "execution_count": 6,
   "metadata": {},
   "outputs": [
    {
     "data": {
      "text/html": [
       "\n",
       "            <style>\n",
       "                .geemap-dark {\n",
       "                    --jp-widgets-color: white;\n",
       "                    --jp-widgets-label-color: white;\n",
       "                    --jp-ui-font-color1: white;\n",
       "                    --jp-layout-color2: #454545;\n",
       "                    background-color: #383838;\n",
       "                }\n",
       "\n",
       "                .geemap-dark .jupyter-button {\n",
       "                    --jp-layout-color3: #383838;\n",
       "                }\n",
       "\n",
       "                .geemap-colab {\n",
       "                    background-color: var(--colab-primary-surface-color, white);\n",
       "                }\n",
       "\n",
       "                .geemap-colab .jupyter-button {\n",
       "                    --jp-layout-color3: var(--colab-primary-surface-color, white);\n",
       "                }\n",
       "            </style>\n",
       "            "
      ],
      "text/plain": [
       "<IPython.core.display.HTML object>"
      ]
     },
     "metadata": {},
     "output_type": "display_data"
    },
    {
     "name": "stdout",
     "output_type": "stream",
     "text": [
      "Dates of images in the collection:\n",
      "2018-04-01\n",
      "2018-04-11\n",
      "2018-04-21\n",
      "2018-05-01\n",
      "2018-05-11\n",
      "2018-05-21\n",
      "2018-06-01\n",
      "2018-06-11\n",
      "2018-06-21\n",
      "2018-07-01\n",
      "2018-07-11\n",
      "2018-07-21\n",
      "2018-08-01\n",
      "2018-08-11\n",
      "2018-08-21\n",
      "2018-09-01\n",
      "2018-09-11\n",
      "2018-09-21\n",
      "2018-10-01\n",
      "2018-10-11\n",
      "2018-10-21\n"
     ]
    }
   ],
   "source": [
    "et_blue_raw_check = ee.ImageCollection(\"projects/thurgau-irrigation/assets/FribourgAndVaud/ET_blue_raw/ET_blue_raw_2018_dekadal_from_Landsat_30m\").map(lambda img: back_to_float(img, SCALING_FACTOR))\n",
    "\n",
    "print_collection_dates(et_blue_raw_check)"
   ]
  },
  {
   "cell_type": "code",
   "execution_count": 7,
   "metadata": {},
   "outputs": [
    {
     "data": {
      "text/html": [
       "\n",
       "            <style>\n",
       "                .geemap-dark {\n",
       "                    --jp-widgets-color: white;\n",
       "                    --jp-widgets-label-color: white;\n",
       "                    --jp-ui-font-color1: white;\n",
       "                    --jp-layout-color2: #454545;\n",
       "                    background-color: #383838;\n",
       "                }\n",
       "\n",
       "                .geemap-dark .jupyter-button {\n",
       "                    --jp-layout-color3: #383838;\n",
       "                }\n",
       "\n",
       "                .geemap-colab {\n",
       "                    background-color: var(--colab-primary-surface-color, white);\n",
       "                }\n",
       "\n",
       "                .geemap-colab .jupyter-button {\n",
       "                    --jp-layout-color3: var(--colab-primary-surface-color, white);\n",
       "                }\n",
       "            </style>\n",
       "            "
      ],
      "text/plain": [
       "<IPython.core.display.HTML object>"
      ]
     },
     "metadata": {},
     "output_type": "display_data"
    }
   ],
   "source": [
    "et_blue_raw_check_list = et_blue_raw_check.toList(et_blue_raw_check.size())"
   ]
  },
  {
   "cell_type": "code",
   "execution_count": 12,
   "metadata": {},
   "outputs": [
    {
     "data": {
      "text/html": [
       "\n",
       "            <style>\n",
       "                .geemap-dark {\n",
       "                    --jp-widgets-color: white;\n",
       "                    --jp-widgets-label-color: white;\n",
       "                    --jp-ui-font-color1: white;\n",
       "                    --jp-layout-color2: #454545;\n",
       "                    background-color: #383838;\n",
       "                }\n",
       "\n",
       "                .geemap-dark .jupyter-button {\n",
       "                    --jp-layout-color3: #383838;\n",
       "                }\n",
       "\n",
       "                .geemap-colab {\n",
       "                    background-color: var(--colab-primary-surface-color, white);\n",
       "                }\n",
       "\n",
       "                .geemap-colab .jupyter-button {\n",
       "                    --jp-layout-color3: var(--colab-primary-surface-color, white);\n",
       "                }\n",
       "            </style>\n",
       "            "
      ],
      "text/plain": [
       "<IPython.core.display.HTML object>"
      ]
     },
     "metadata": {},
     "output_type": "display_data"
    },
    {
     "data": {
      "application/vnd.jupyter.widget-view+json": {
       "model_id": "aa0ae2f185d84c17a0a44f7b58b49926",
       "version_major": 2,
       "version_minor": 0
      },
      "text/plain": [
       "Map(center=[46.78675332740657, 6.874554339425382], controls=(WidgetControl(options=['position', 'transparent_b…"
      ]
     },
     "execution_count": 12,
     "metadata": {},
     "output_type": "execute_result"
    }
   ],
   "source": [
    "image_7 = ee.Image(et_blue_raw_check_list.get(4))\n",
    "\n",
    "Map = geemap.Map(height=\"800px\")\n",
    "\n",
    "vis_params = {\n",
    "\n",
    "    \"bands\": [\"ET_blue\"],\n",
    "    \"min\": 0,\n",
    "    \"max\": 1,\n",
    "    \"palette\": [\"blue\", \"lightblue\", \"green\", \"yellow\", \"orange\", \"red\"],\n",
    "}\n",
    "\n",
    "Map.center_object(aoi, 12)\n",
    "Map.addLayer(image_7, vis_params, \"ET blue raw\")\n",
    "Map.add_colorbar(vis_params, label=\"ET blue raw [mm/month]\")\n",
    "Map"
   ]
  },
  {
   "cell_type": "code",
   "execution_count": null,
   "metadata": {},
   "outputs": [],
   "source": []
  }
 ],
 "metadata": {
  "kernelspec": {
   "display_name": "venv",
   "language": "python",
   "name": "python3"
  },
  "language_info": {
   "codemirror_mode": {
    "name": "ipython",
    "version": 3
   },
   "file_extension": ".py",
   "mimetype": "text/x-python",
   "name": "python",
   "nbconvert_exporter": "python",
   "pygments_lexer": "ipython3",
   "version": "3.9.0"
  }
 },
 "nbformat": 4,
 "nbformat_minor": 2
}
